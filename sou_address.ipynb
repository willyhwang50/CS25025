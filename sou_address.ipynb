{
 "cells": [
  {
   "cell_type": "code",
   "execution_count": 3,
   "metadata": {},
   "outputs": [],
   "source": [
    "#(a)"
   ]
  },
  {
   "cell_type": "code",
   "execution_count": 3,
   "metadata": {},
   "outputs": [],
   "source": [
    "import json \n",
    "import numpy as np\n",
    "import matplotlib.pyplot as plt \n",
    "import re\n",
    "import math \n",
    "import string\n",
    "from sklearn.cluster import KMeans "
   ]
  },
  {
   "cell_type": "code",
   "execution_count": 4,
   "metadata": {},
   "outputs": [],
   "source": [
    "f = open('./speeches.json', 'rb') \n",
    "speeches = []\n",
    "for line in f:\n",
    "    speeches.append(json.loads(line))"
   ]
  },
  {
   "cell_type": "code",
   "execution_count": 5,
   "metadata": {},
   "outputs": [],
   "source": [
    "# function that cleans and splits each SOU address"
   ]
  },
  {
   "cell_type": "code",
   "execution_count": 9,
   "metadata": {},
   "outputs": [],
   "source": [
    "def clean_and_split(s):\n",
    "    s = s.lower().replace(\"-\", \"\").translate(str.maketrans('', '', string.punctuation))\n",
    "    s = re.sub(\"(\\r\\n)+\", \" \", s)\n",
    "    s = re.sub(\" +\", \" \", s.strip())\n",
    "    return s.split(\" \")"
   ]
  },
  {
   "cell_type": "code",
   "execution_count": null,
   "metadata": {},
   "outputs": [],
   "source": [
    "# create a dictionary of words in the entire document"
   ]
  },
  {
   "cell_type": "code",
   "execution_count": 10,
   "metadata": {},
   "outputs": [],
   "source": [
    "word_dic = {}\n",
    "for i in range(len(speeches)):\n",
    "    txt = clean_and_split(speeches[i]['text'])\n",
    "    for word in txt: \n",
    "        if word not in word_dic:\n",
    "            word_dic[word] = 0\n",
    "        word_dic[word] += 1     "
   ]
  },
  {
   "cell_type": "code",
   "execution_count": 18,
   "metadata": {},
   "outputs": [],
   "source": [
    "words_lst = [] \n",
    "for key, value in word_dic.items():\n",
    "    words_lst.append((key, value))"
   ]
  },
  {
   "cell_type": "code",
   "execution_count": 19,
   "metadata": {},
   "outputs": [],
   "source": [
    "words_lst.sort(key = lambda x: x[1], reverse = True)\n",
    "common = [] \n",
    "for x in words_lst[:20]:\n",
    "    common.append(x[0])"
   ]
  },
  {
   "cell_type": "code",
   "execution_count": 20,
   "metadata": {},
   "outputs": [
    {
     "data": {
      "text/plain": [
       "['the', 'of', 'to', 'and', 'in']"
      ]
     },
     "execution_count": 20,
     "metadata": {},
     "output_type": "execute_result"
    }
   ],
   "source": [
    "common[:5]"
   ]
  },
  {
   "cell_type": "code",
   "execution_count": 22,
   "metadata": {},
   "outputs": [],
   "source": [
    "few = []\n",
    "for x in words_lst:\n",
    "    if x[1] < 50:\n",
    "        few.append(x[0])"
   ]
  },
  {
   "cell_type": "code",
   "execution_count": 50,
   "metadata": {},
   "outputs": [
    {
     "data": {
      "text/plain": [
       "['violate', 'withdraw', 'guided', 'terminate', 'launched']"
      ]
     },
     "execution_count": 50,
     "metadata": {},
     "output_type": "execute_result"
    }
   ],
   "source": [
    "few[:5]"
   ]
  },
  {
   "cell_type": "code",
   "execution_count": 51,
   "metadata": {},
   "outputs": [],
   "source": [
    "def filter_words(words_lst):\n",
    "    final = []\n",
    "    for word in words_lst:\n",
    "        if (word not in common) and (word not in few):\n",
    "            final.append(word)\n",
    "    return final "
   ]
  },
  {
   "cell_type": "code",
   "execution_count": 43,
   "metadata": {},
   "outputs": [
    {
     "data": {
      "text/plain": [
       "['on', 'i', 'has', 'been', 'are']"
      ]
     },
     "execution_count": 43,
     "metadata": {},
     "output_type": "execute_result"
    }
   ],
   "source": [
    "lst = [x[0] for x in words_lst]\n",
    "filtered_lst = filter_words(lst)\n",
    "filtered_lst[:5]"
   ]
  },
  {
   "cell_type": "code",
   "execution_count": null,
   "metadata": {},
   "outputs": [],
   "source": [
    "# derive list of dictionaries of words for each speech "
   ]
  },
  {
   "cell_type": "code",
   "execution_count": 31,
   "metadata": {},
   "outputs": [],
   "source": [
    "total_dic = []\n",
    "for i in range(len(speeches)):\n",
    "    dic = {}\n",
    "    speech_lst = filter_words(clean_and_split(speeches[i]['text']))\n",
    "    for word in speech_lst:\n",
    "        if word not in dic:\n",
    "            dic[word] = 0 \n",
    "        dic[word] += 1 \n",
    "    total_dic.append(dic)"
   ]
  },
  {
   "cell_type": "code",
   "execution_count": null,
   "metadata": {},
   "outputs": [],
   "source": [
    "# create a function that computes TFIDF weights"
   ]
  },
  {
   "cell_type": "code",
   "execution_count": 52,
   "metadata": {},
   "outputs": [],
   "source": [
    "def compute_weight(index, word):\n",
    "    word_dic = total_dic[index]\n",
    "    word_count = word_dic[word]\n",
    "    sou = 0\n",
    "    for dic in total_dic: \n",
    "        if word in dic: \n",
    "            sou += 1 \n",
    "    return word_count * math.log( 226 / sou)"
   ]
  },
  {
   "cell_type": "code",
   "execution_count": null,
   "metadata": {},
   "outputs": [],
   "source": [
    "# create a function that computes TFIDF vectors for each address"
   ]
  },
  {
   "cell_type": "code",
   "execution_count": 53,
   "metadata": {},
   "outputs": [],
   "source": [
    "def compute_vector(index):\n",
    "    word_dic = total_dic[index]\n",
    "    vector = []\n",
    "    for word in filtered_lst: \n",
    "        if word in word_dic:\n",
    "            vector.append(compute_weight(index, word))\n",
    "            continue\n",
    "        vector.append(0)\n",
    "    return vector "
   ]
  },
  {
   "cell_type": "code",
   "execution_count": 54,
   "metadata": {},
   "outputs": [],
   "source": [
    "vector_lst = []\n",
    "for i in range(len(speeches)):\n",
    "    vector_lst.append(compute_vector(i))"
   ]
  },
  {
   "cell_type": "code",
   "execution_count": 45,
   "metadata": {},
   "outputs": [],
   "source": [
    "#(b)"
   ]
  },
  {
   "cell_type": "code",
   "execution_count": null,
   "metadata": {},
   "outputs": [],
   "source": [
    "# create a function that computes the norm of TFIDF vector "
   ]
  },
  {
   "cell_type": "code",
   "execution_count": 60,
   "metadata": {},
   "outputs": [],
   "source": [
    "def compute_norm(vector):\n",
    "    vector = np.array(vector)\n",
    "    return np.linalg.norm(vector)"
   ]
  },
  {
   "cell_type": "code",
   "execution_count": 61,
   "metadata": {},
   "outputs": [],
   "source": [
    "# create a function that calculates similarity measures of speeches "
   ]
  },
  {
   "cell_type": "code",
   "execution_count": 62,
   "metadata": {},
   "outputs": [],
   "source": [
    "def compute_similarity(index_1, index_2):\n",
    "    v_1 = vector_lst[index_1]\n",
    "    v_2 = vector_lst[index_2]\n",
    "    return np.dot(v_1, v_2) / ((compute_norm(v_1) * compute_norm(v_2)))"
   ]
  },
  {
   "cell_type": "code",
   "execution_count": null,
   "metadata": {},
   "outputs": [],
   "source": [
    "# compute similarities of all pairs of speeches "
   ]
  },
  {
   "cell_type": "code",
   "execution_count": 64,
   "metadata": {},
   "outputs": [],
   "source": [
    "similarity_lst = []\n",
    "for index_1 in range(len(speeches)):\n",
    "    for index_2 in range(len(speeches)):\n",
    "        if index_1 <= index_2:\n",
    "            continue \n",
    "        if speeches[index_1]['president'] == speeches[index_2]['president']:\n",
    "            similarity_lst.append(([speeches[index_1]['year'], speeches[index_1]['president'], \n",
    "                                      speeches[index_2]['year'], speeches[index_2]['president']], \n",
    "                                      compute_similarity(index_1, index_2), True))\n",
    "        else: \n",
    "            similarity_lst.append(([speeches[index_1]['year'], speeches[index_1]['president'], \n",
    "                                      speeches[index_2]['year'], speeches[index_2]['president']], \n",
    "                                      compute_similarity(index_1, index_2), False))           "
   ]
  },
  {
   "cell_type": "code",
   "execution_count": 65,
   "metadata": {},
   "outputs": [],
   "source": [
    "similarity_lst.sort(key = lambda x: x[1], reverse = True)"
   ]
  },
  {
   "cell_type": "code",
   "execution_count": 53,
   "metadata": {},
   "outputs": [],
   "source": [
    "# find 50 most similar pairs of SOU by different presidents"
   ]
  },
  {
   "cell_type": "code",
   "execution_count": 68,
   "metadata": {},
   "outputs": [],
   "source": [
    "diff_president = [] \n",
    "for pair in similarity_lst:\n",
    "    if pair[2] == False:\n",
    "        diff_president.append(pair[0])\n",
    "    if len(diff_president) == 50:\n",
    "        break "
   ]
  },
  {
   "cell_type": "code",
   "execution_count": 111,
   "metadata": {},
   "outputs": [
    {
     "data": {
      "text/plain": [
       "[['1995', 'William J. Clinton', '2010', 'Barack Obama'],\n",
       " ['2011', 'Barack Obama', '1995', 'William J. Clinton'],\n",
       " ['2012', 'Barack Obama', '1995', 'William J. Clinton'],\n",
       " ['1846', 'James K. Polk', '1844', 'John Tyler'],\n",
       " ['1885', 'Grover Cleveland', '1889', 'Benjamin Harrison'],\n",
       " ['1992', 'George Bush', '1995', 'William J. Clinton'],\n",
       " ['1994', 'William J. Clinton', '2010', 'Barack Obama'],\n",
       " ['1993', 'William J. Clinton', '2009', 'Barack Obama'],\n",
       " ['1880', 'Rutherford B. Hayes', '1885', 'Grover Cleveland'],\n",
       " ['1885', 'Grover Cleveland', '1877', 'Rutherford B. Hayes'],\n",
       " ['1836', 'Andrew Jackson', '1839', 'Martin Van Buren'],\n",
       " ['1992', 'George Bush', '1994', 'William J. Clinton'],\n",
       " ['2011', 'Barack Obama', '1998', 'William J. Clinton'],\n",
       " ['1844', 'John Tyler', '1845', 'James K. Polk'],\n",
       " ['1993', 'William J. Clinton', '2011', 'Barack Obama'],\n",
       " ['2012', 'Barack Obama', '1994', 'William J. Clinton'],\n",
       " ['1880', 'Rutherford B. Hayes', '1889', 'Benjamin Harrison'],\n",
       " ['1989', 'George Bush', '1988', 'Ronald Reagan'],\n",
       " ['2000', 'William J. Clinton', '2011', 'Barack Obama'],\n",
       " ['1910', 'William Howard Taft', '1907', 'Theodore Roosevelt'],\n",
       " ['1995', 'William J. Clinton', '2009', 'Barack Obama'],\n",
       " ['1993', 'William J. Clinton', '2010', 'Barack Obama'],\n",
       " ['2000', 'William J. Clinton', '2009', 'Barack Obama'],\n",
       " ['1994', 'William J. Clinton', '2009', 'Barack Obama'],\n",
       " ['2011', 'Barack Obama', '1994', 'William J. Clinton'],\n",
       " ['2000', 'William J. Clinton', '1989', 'George Bush'],\n",
       " ['1989', 'George Bush', '1986', 'Ronald Reagan'],\n",
       " ['1998', 'William J. Clinton', '2009', 'Barack Obama'],\n",
       " ['1881', 'Chester A. Arthur', '1886', 'Grover Cleveland'],\n",
       " ['1888', 'Grover Cleveland', '1881', 'Chester A. Arthur'],\n",
       " ['1989', 'George Bush', '1998', 'William J. Clinton'],\n",
       " ['1989', 'George Bush', '2011', 'Barack Obama'],\n",
       " ['1992', 'George Bush', '2010', 'Barack Obama'],\n",
       " ['2000', 'William J. Clinton', '2001', 'George W. Bush'],\n",
       " ['1990', 'George Bush', '2011', 'Barack Obama'],\n",
       " ['1992', 'George Bush', '2011', 'Barack Obama'],\n",
       " ['1982', 'Ronald Reagan', '1978', 'Jimmy Carter'],\n",
       " ['1998', 'William J. Clinton', '2010', 'Barack Obama'],\n",
       " ['1993', 'William J. Clinton', '2012', 'Barack Obama'],\n",
       " ['2000', 'William J. Clinton', '1992', 'George Bush'],\n",
       " ['1881', 'Chester A. Arthur', '1880', 'Rutherford B. Hayes'],\n",
       " ['1830', 'Andrew Jackson', '1837', 'Martin Van Buren'],\n",
       " ['1993', 'William J. Clinton', '1992', 'George Bush'],\n",
       " ['1891', 'Benjamin Harrison', '1885', 'Grover Cleveland'],\n",
       " ['1881', 'Chester A. Arthur', '1885', 'Grover Cleveland'],\n",
       " ['1989', 'George Bush', '1984', 'Ronald Reagan'],\n",
       " ['1978', 'Jimmy Carter', '1983', 'Ronald Reagan'],\n",
       " ['1836', 'Andrew Jackson', '1837', 'Martin Van Buren'],\n",
       " ['1884', 'Chester A. Arthur', '1885', 'Grover Cleveland'],\n",
       " ['2000', 'William J. Clinton', '2010', 'Barack Obama']]"
      ]
     },
     "execution_count": 111,
     "metadata": {},
     "output_type": "execute_result"
    }
   ],
   "source": [
    "diff_president[:50]"
   ]
  },
  {
   "cell_type": "code",
   "execution_count": 70,
   "metadata": {},
   "outputs": [],
   "source": [
    "# find 50 most similar pairs of SOU by same president "
   ]
  },
  {
   "cell_type": "code",
   "execution_count": 74,
   "metadata": {},
   "outputs": [],
   "source": [
    "same_president = []\n",
    "for pair in similarity_lst:\n",
    "    if pair[2] == True:\n",
    "        same_president.append(pair[0])\n",
    "    if len(same_president) == 50:\n",
    "        break "
   ]
  },
  {
   "cell_type": "code",
   "execution_count": 110,
   "metadata": {},
   "outputs": [
    {
     "data": {
      "text/plain": [
       "[['2012', 'Barack Obama', '2013', 'Barack Obama'],\n",
       " ['2008', 'George W. Bush', '2007', 'George W. Bush'],\n",
       " ['2012', 'Barack Obama', '2010', 'Barack Obama'],\n",
       " ['2011', 'Barack Obama', '2010', 'Barack Obama'],\n",
       " ['2012', 'Barack Obama', '2011', 'Barack Obama'],\n",
       " ['1997', 'William J. Clinton', '1998', 'William J. Clinton'],\n",
       " ['1999', 'William J. Clinton', '1998', 'William J. Clinton'],\n",
       " ['2000', 'William J. Clinton', '1998', 'William J. Clinton'],\n",
       " ['1997', 'William J. Clinton', '1999', 'William J. Clinton'],\n",
       " ['1899', 'William McKinley', '1900', 'William McKinley'],\n",
       " ['2009', 'Barack Obama', '2010', 'Barack Obama'],\n",
       " ['2005', 'George W. Bush', '2008', 'George W. Bush'],\n",
       " ['2000', 'William J. Clinton', '1999', 'William J. Clinton'],\n",
       " ['1967', 'Lyndon B. Johnson', '1966', 'Lyndon B. Johnson'],\n",
       " ['1994', 'William J. Clinton', '1995', 'William J. Clinton'],\n",
       " ['2004', 'George W. Bush', '2007', 'George W. Bush'],\n",
       " ['2005', 'George W. Bush', '2007', 'George W. Bush'],\n",
       " ['1834', 'Andrew Jackson', '1835', 'Andrew Jackson'],\n",
       " ['1910', 'William Howard Taft', '1912', 'William Howard Taft'],\n",
       " ['1956', 'Dwight D. Eisenhower', '1955', 'Dwight D. Eisenhower'],\n",
       " ['1893', 'Grover Cleveland', '1894', 'Grover Cleveland'],\n",
       " ['2008', 'George W. Bush', '2004', 'George W. Bush'],\n",
       " ['2007', 'George W. Bush', '2006', 'George W. Bush'],\n",
       " ['2012', 'Barack Obama', '2009', 'Barack Obama'],\n",
       " ['2011', 'Barack Obama', '2009', 'Barack Obama'],\n",
       " ['1996', 'William J. Clinton', '1997', 'William J. Clinton'],\n",
       " ['2005', 'George W. Bush', '2004', 'George W. Bush'],\n",
       " ['2000', 'William J. Clinton', '1997', 'William J. Clinton'],\n",
       " ['1907', 'Theodore Roosevelt', '1908', 'Theodore Roosevelt'],\n",
       " ['2004', 'George W. Bush', '2003', 'George W. Bush'],\n",
       " ['2008', 'George W. Bush', '2006', 'George W. Bush'],\n",
       " ['1846', 'James K. Polk', '1845', 'James K. Polk'],\n",
       " ['1995', 'William J. Clinton', '1998', 'William J. Clinton'],\n",
       " ['1910', 'William Howard Taft', '1909', 'William Howard Taft'],\n",
       " ['2005', 'George W. Bush', '2006', 'George W. Bush'],\n",
       " ['1885', 'Grover Cleveland', '1886', 'Grover Cleveland'],\n",
       " ['1906', 'Theodore Roosevelt', '1907', 'Theodore Roosevelt'],\n",
       " ['1954', 'Dwight D. Eisenhower', '1956', 'Dwight D. Eisenhower'],\n",
       " ['1907', 'Theodore Roosevelt', '1905', 'Theodore Roosevelt'],\n",
       " ['1880', 'Rutherford B. Hayes', '1879', 'Rutherford B. Hayes'],\n",
       " ['1954', 'Dwight D. Eisenhower', '1955', 'Dwight D. Eisenhower'],\n",
       " ['1898', 'William McKinley', '1899', 'William McKinley'],\n",
       " ['1993', 'William J. Clinton', '1994', 'William J. Clinton'],\n",
       " ['2004', 'George W. Bush', '2006', 'George W. Bush'],\n",
       " ['1896', 'Grover Cleveland', '1894', 'Grover Cleveland'],\n",
       " ['1993', 'William J. Clinton', '1995', 'William J. Clinton'],\n",
       " ['1868', 'Andrew Johnson', '1867', 'Andrew Johnson'],\n",
       " ['1904', 'Theodore Roosevelt', '1905', 'Theodore Roosevelt'],\n",
       " ['1912', 'William Howard Taft', '1909', 'William Howard Taft'],\n",
       " ['2000', 'William J. Clinton', '1995', 'William J. Clinton']]"
      ]
     },
     "execution_count": 110,
     "metadata": {},
     "output_type": "execute_result"
    }
   ],
   "source": [
    "same_president[:50]"
   ]
  },
  {
   "cell_type": "code",
   "execution_count": 59,
   "metadata": {},
   "outputs": [],
   "source": [
    "# 25 most similar pairs of Presidents, \n",
    "# averaging the cosine similarity over all pairs of their SOUs."
   ]
  },
  {
   "cell_type": "code",
   "execution_count": 77,
   "metadata": {},
   "outputs": [],
   "source": [
    "president_pairs = [] \n",
    "for index_1 in range(len(speeches)):\n",
    "    for index_2 in range(len(speeches)):\n",
    "        if index_1 <= index_2:\n",
    "            continue \n",
    "        if speeches[index_1]['president'] == speeches[index_2]['president']:\n",
    "            continue \n",
    "        president_pairs.append(([speeches[index_1]['president'], speeches[index_2]['president']], \n",
    "                               compute_similarity(index_1, index_2)))\n",
    "        "
   ]
  },
  {
   "cell_type": "code",
   "execution_count": 102,
   "metadata": {},
   "outputs": [
    {
     "data": {
      "text/plain": [
       "[(['William McKinley', 'James Monroe'], 0.22604366551080296),\n",
       " (['Dwight D. Eisenhower', 'James Monroe'], 0.08827708962660685),\n",
       " (['Dwight D. Eisenhower', 'William McKinley'], 0.16493072790448415),\n",
       " (['Calvin Coolidge', 'James Monroe'], 0.1731610845559135),\n",
       " (['Calvin Coolidge', 'William McKinley'], 0.22167666795124955)]"
      ]
     },
     "execution_count": 102,
     "metadata": {},
     "output_type": "execute_result"
    }
   ],
   "source": [
    "president_pairs[:5]"
   ]
  },
  {
   "cell_type": "code",
   "execution_count": 103,
   "metadata": {},
   "outputs": [],
   "source": [
    "# create dictionary of similarity measures of pairs of presidents "
   ]
  },
  {
   "cell_type": "code",
   "execution_count": 104,
   "metadata": {},
   "outputs": [],
   "source": [
    "averages = {}\n",
    "for pair in president_pairs:\n",
    "    presidents = pair[0]\n",
    "    pair_1 = \" and \".join(presidents)\n",
    "    presidents.reverse()\n",
    "    pair_2 = \" and \".join(presidents)\n",
    "    \n",
    "    if pair_1 in averages:\n",
    "        averages[pair_1].append(pair[1])\n",
    "    elif pair_2 in averages:\n",
    "        averages[pair_2].append(pair[1])\n",
    "    else: \n",
    "        averages[pair_1] = [pair[1]]"
   ]
  },
  {
   "cell_type": "code",
   "execution_count": 105,
   "metadata": {},
   "outputs": [],
   "source": [
    "for pair, sim in averages.items():\n",
    "    averages[pair] = np.mean(sim)"
   ]
  },
  {
   "cell_type": "code",
   "execution_count": 106,
   "metadata": {},
   "outputs": [],
   "source": [
    "average_president = []\n",
    "for pair, sim in averages.items():\n",
    "    average_president.append((pair, sim))"
   ]
  },
  {
   "cell_type": "code",
   "execution_count": 107,
   "metadata": {},
   "outputs": [],
   "source": [
    "average_president.sort(key = lambda x: x[1], reverse = True)"
   ]
  },
  {
   "cell_type": "code",
   "execution_count": null,
   "metadata": {},
   "outputs": [],
   "source": [
    "# 25 most similar president pairs "
   ]
  },
  {
   "cell_type": "code",
   "execution_count": 112,
   "metadata": {},
   "outputs": [
    {
     "data": {
      "text/plain": [
       "[('William J. Clinton and Barack Obama', 0.5211671537429318),\n",
       " ('Zachary Taylor and Millard Fillmore', 0.49975349716978074),\n",
       " ('William J. Clinton and George Bush', 0.48613210188741074),\n",
       " ('Barack Obama and George Bush', 0.4783631854961727),\n",
       " ('Ronald Reagan and George Bush', 0.4683276894375562),\n",
       " ('Chester A. Arthur and Rutherford B. Hayes', 0.46719713803892576),\n",
       " ('William Howard Taft and Theodore Roosevelt', 0.44160336651247434),\n",
       " ('William J. Clinton and Ronald Reagan', 0.4411809421667271),\n",
       " ('Andrew Jackson and Martin Van Buren', 0.4386108486888418),\n",
       " ('Millard Fillmore and James K. Polk', 0.4380771998274289),\n",
       " ('William Howard Taft and Chester A. Arthur', 0.43240304195168755),\n",
       " ('Chester A. Arthur and Benjamin Harrison', 0.4287404524180178),\n",
       " ('Rutherford B. Hayes and Grover Cleveland', 0.4271237242057397),\n",
       " ('Chester A. Arthur and Grover Cleveland', 0.4257800423666269),\n",
       " ('Ronald Reagan and Barack Obama', 0.42527057328756623),\n",
       " ('Millard Fillmore and Franklin Pierce', 0.41851722682162257),\n",
       " ('John Tyler and Martin Van Buren', 0.41752629739054337),\n",
       " ('Zachary Taylor and James K. Polk', 0.4155009994885252),\n",
       " ('Rutherford B. Hayes and Benjamin Harrison', 0.41445202695251576),\n",
       " ('Benjamin Harrison and Grover Cleveland', 0.40956262509792546),\n",
       " ('Zachary Taylor and Franklin Pierce', 0.40503288202184384),\n",
       " ('William Howard Taft and Calvin Coolidge', 0.40389014625241426),\n",
       " ('John Tyler and James K. Polk', 0.40268913052865307),\n",
       " ('James Buchanan and Franklin Pierce', 0.40251100944296136),\n",
       " ('William J. Clinton and George W. Bush', 0.39923241654924135)]"
      ]
     },
     "execution_count": 112,
     "metadata": {},
     "output_type": "execute_result"
    }
   ],
   "source": [
    "average_president[:25]"
   ]
  },
  {
   "cell_type": "code",
   "execution_count": null,
   "metadata": {},
   "outputs": [],
   "source": [
    "'''\n",
    "Comments: \n",
    "\n",
    "The most similar SOUs by same or different presidents were given in \n",
    "years close to each other. Also, these pairs of years were mostly \n",
    "recent presidencies, say post year 1900. Other than words that serve\n",
    "as grammatical lubricants(pronouns, prepositions etc), the use \n",
    "of similar nouns seems to contribute most to the similarity. \n",
    "Therefore, we may be able to filter more than just 20 common words that \n",
    "act as grammatical fillers, and use actual nouns of significance to \n",
    "compute the similarity measures of speeches. This way we may be able \n",
    "to compute a more accurate and statistically significant similarity \n",
    "score. \n",
    "'''"
   ]
  },
  {
   "cell_type": "code",
   "execution_count": 109,
   "metadata": {},
   "outputs": [],
   "source": [
    "# (c)"
   ]
  },
  {
   "cell_type": "code",
   "execution_count": 106,
   "metadata": {},
   "outputs": [],
   "source": [
    "vectors_lst = np.array(vectors_lst)"
   ]
  },
  {
   "cell_type": "code",
   "execution_count": 140,
   "metadata": {},
   "outputs": [],
   "source": [
    "def fit_model(n, data):\n",
    "    kmeans = KMeans(n_clusters = n, max_iter = 50)\n",
    "    kmeans.fit(data)\n",
    "    \n",
    "    return kmeans, kmeans.predict(data), kmeans.cluster_centers_"
   ]
  },
  {
   "cell_type": "code",
   "execution_count": 141,
   "metadata": {},
   "outputs": [],
   "source": [
    "kmeans, prediction, centers = fit_model(10, vector_lst)"
   ]
  },
  {
   "cell_type": "code",
   "execution_count": 142,
   "metadata": {},
   "outputs": [
    {
     "data": {
      "text/plain": [
       "array([4, 1, 3, 4, 4, 1, 4, 8, 3, 1, 4, 3, 3, 1, 4, 3, 1, 4, 3, 1, 1, 4,\n",
       "       6, 8, 8, 3, 1, 0, 3, 3, 4, 3, 4, 3, 1, 8, 4, 4, 6, 4, 3, 5, 4, 1,\n",
       "       1, 1, 3, 4, 6, 4, 6, 4, 3, 1, 4, 3, 4, 6, 3, 4, 6, 1, 3, 4, 4, 4,\n",
       "       6, 3, 1, 4, 4, 6, 0, 1, 4, 4, 1, 4, 4, 4, 4, 1, 4, 1, 4, 0, 3, 4,\n",
       "       3, 3, 4, 6, 1, 1, 4, 1, 4, 4, 4, 4, 4, 3, 3, 1, 1, 3, 1, 9, 4, 4,\n",
       "       3, 1, 4, 8, 3, 4, 1, 1, 4, 0, 4, 4, 4, 4, 1, 3, 4, 1, 4, 1, 4, 4,\n",
       "       4, 4, 0, 4, 4, 4, 6, 3, 1, 3, 4, 3, 1, 1, 4, 1, 3, 4, 1, 9, 7, 3,\n",
       "       4, 4, 4, 0, 3, 3, 4, 4, 1, 4, 3, 8, 1, 3, 4, 3, 3, 4, 3, 1, 3, 4,\n",
       "       3, 3, 3, 1, 3, 3, 7, 3, 0, 4, 0, 3, 4, 3, 1, 0, 1, 4, 3, 4, 6, 1,\n",
       "       1, 4, 3, 4, 1, 4, 4, 4, 2, 0, 4, 3, 6, 4, 4, 1, 1, 4, 4, 3, 3, 1,\n",
       "       3, 4, 6, 1, 1, 1], dtype=int32)"
      ]
     },
     "execution_count": 142,
     "metadata": {},
     "output_type": "execute_result"
    }
   ],
   "source": [
    "prediction "
   ]
  },
  {
   "cell_type": "code",
   "execution_count": 143,
   "metadata": {},
   "outputs": [
    {
     "data": {
      "text/plain": [
       "'\\nWe can interpret clustering results by the analyzing the spread of \\ndata clsuters: count the number of data in each cluster and graph them  \\n'"
      ]
     },
     "execution_count": 143,
     "metadata": {},
     "output_type": "execute_result"
    }
   ],
   "source": [
    "'''\n",
    "We can interpret clustering results by the analyzing the spread of \n",
    "data clsuters: count the number of data in each cluster and graph them  \n",
    "'''"
   ]
  },
  {
   "cell_type": "code",
   "execution_count": 144,
   "metadata": {},
   "outputs": [],
   "source": [
    "#first, lets try 10 cluster centers"
   ]
  },
  {
   "cell_type": "code",
   "execution_count": 145,
   "metadata": {},
   "outputs": [
    {
     "data": {
      "image/png": "[encoded data removed]",
      "text/plain": [
       "<Figure size 432x288 with 1 Axes>"
      ]
     },
     "metadata": {
      "needs_background": "light"
     },
     "output_type": "display_data"
    }
   ],
   "source": [
    "plt.hist(prediction)\n",
    "plt.show()"
   ]
  },
  {
   "cell_type": "code",
   "execution_count": 146,
   "metadata": {},
   "outputs": [],
   "source": [
    "#now, let's try 50 cluster centers "
   ]
  },
  {
   "cell_type": "code",
   "execution_count": 147,
   "metadata": {},
   "outputs": [],
   "source": [
    "kmeans, prediction, centers = fit_model(50, vector_lst)"
   ]
  },
  {
   "cell_type": "code",
   "execution_count": 148,
   "metadata": {},
   "outputs": [
    {
     "data": {
      "text/plain": [
       "array([ 2, 26, 40,  3,  3, 24,  2, 18, 40,  7,  3, 41, 40,  2,  3, 40, 27,\n",
       "        3, 40, 30,  2,  3,  6, 23, 10, 40, 42, 13, 40, 28,  2, 40,  3, 40,\n",
       "       31, 19,  3,  3,  6,  3, 40,  4,  3, 46, 49, 43, 40,  3, 21,  3, 29,\n",
       "        3, 25, 15,  3, 40,  3, 21, 40,  3,  6, 30, 40,  2,  3,  3, 21, 40,\n",
       "        2,  3,  3, 29, 32, 49,  2,  2,  2,  3,  3,  3, 44,  2,  3, 49,  3,\n",
       "       48, 40,  3, 41, 40,  3,  6, 46, 46,  2, 47,  3,  3,  3,  3,  2,  0,\n",
       "       40,  2, 36, 40, 45,  8,  3,  3, 40, 45,  2, 22, 40,  3, 31,  2,  3,\n",
       "        9,  2,  3,  3,  3,  2, 40,  3, 46,  2,  2,  3,  2,  2,  3, 14, 44,\n",
       "        2,  3,  6, 40, 31, 25,  3, 25,  2, 16,  3, 46, 40,  3,  2, 33, 11,\n",
       "       28,  3, 44,  3, 46, 40,  0,  3,  3, 34,  3, 40, 39, 37, 41,  3, 40,\n",
       "       40,  3, 40,  2, 40, 44, 41, 40, 40, 46, 41, 40, 20, 40, 12,  3,  5,\n",
       "       41,  3, 25,  2, 35, 27,  3, 40,  2, 29, 46,  2,  3, 25, 44, 38,  2,\n",
       "        3,  3,  1, 17,  3, 25, 21,  3,  2, 46,  2,  3,  3, 40, 40,  2, 40,\n",
       "        2, 21, 31,  2, 46], dtype=int32)"
      ]
     },
     "execution_count": 148,
     "metadata": {},
     "output_type": "execute_result"
    }
   ],
   "source": [
    "prediction"
   ]
  },
  {
   "cell_type": "code",
   "execution_count": 149,
   "metadata": {},
   "outputs": [
    {
     "data": {
      "image/png": "[encoded data removed]",
      "text/plain": [
       "<Figure size 432x288 with 1 Axes>"
      ]
     },
     "metadata": {
      "needs_background": "light"
     },
     "output_type": "display_data"
    }
   ],
   "source": [
    "plt.hist(prediction)\n",
    "plt.show()"
   ]
  },
  {
   "cell_type": "code",
   "execution_count": 150,
   "metadata": {},
   "outputs": [],
   "source": [
    "#number of data points (SOU address) still varies significantly \n",
    "#across clusters. Therefore, we can try to display each cluster,\n",
    "#by representing it by the most frequently used words in the speeches \n",
    "#that belong to the cluster "
   ]
  },
  {
   "cell_type": "code",
   "execution_count": 151,
   "metadata": {},
   "outputs": [],
   "source": [
    "def represent_cluster(n, data):\n",
    "    kmeans, prediction, centers = fit_model(n, data)\n",
    "    centers = list(centers)\n",
    "    word_lst = []\n",
    "    for i in range(len(centers)):\n",
    "        x = list(centers[i])\n",
    "        index = x.index(max(x))\n",
    "        word_lst.append(filetered_lst[index])\n",
    "    return word_lst"
   ]
  },
  {
   "cell_type": "code",
   "execution_count": 152,
   "metadata": {},
   "outputs": [
    {
     "name": "stdout",
     "output_type": "stream",
     "text": [
      "['not', 'billion', 'condition', 'systems', 'cash']\n",
      "['cash', 'up', 'legislative', 'systems', 'illegal', 'relation', 'billion', 'condition', 'peoples', 'want']\n",
      "['recommend', 'systems', 'condition', 'cash', 'not', 'collected', 'relation', 'illegal', 'peoples', 'find', 'want', 'effective', 'legislative', 'threatening', 'existed']\n"
     ]
    }
   ],
   "source": [
    "print(represent_cluster(5, vector_lst))\n",
    "print(represent_cluster(10, vector_lst))\n",
    "print(represent_cluster(15, vector_lst))"
   ]
  },
  {
   "cell_type": "code",
   "execution_count": 153,
   "metadata": {},
   "outputs": [
    {
     "data": {
      "text/plain": [
       "'\\nComments:\\n\\nAlthough the number of clusters may change, the most commonly used\\nwords tend to carry on as the number of clusters increase. For example,\\nwords such as billion, systems, condition, and cash are acceptable SOU speech words \\nthat could be commonly used.\\n'"
      ]
     },
     "execution_count": 153,
     "metadata": {},
     "output_type": "execute_result"
    }
   ],
   "source": [
    "'''\n",
    "Comments:\n",
    "\n",
    "Although the number of clusters may change, the most commonly used\n",
    "words tend to carry on as the number of clusters increase. For example,\n",
    "words such as billion, systems, condition, and cash are acceptable SOU speech words \n",
    "that could be commonly used.\n",
    "'''"
   ]
  },
  {
   "cell_type": "code",
   "execution_count": 154,
   "metadata": {},
   "outputs": [],
   "source": [
    "# We can also try to see whether similar clusters hold \n",
    "# SOU speeches of similar years "
   ]
  },
  {
   "cell_type": "code",
   "execution_count": 158,
   "metadata": {},
   "outputs": [],
   "source": [
    "kmeans, prediction, centers = fit_model(5, vector_lst)"
   ]
  },
  {
   "cell_type": "code",
   "execution_count": 163,
   "metadata": {},
   "outputs": [
    {
     "data": {
      "image/png": "[encoded data removed]",
      "text/plain": [
       "<Figure size 432x288 with 1 Axes>"
      ]
     },
     "metadata": {
      "needs_background": "light"
     },
     "output_type": "display_data"
    },
    {
     "data": {
      "image/png": "[encoded data removed]",
      "text/plain": [
       "<Figure size 432x288 with 1 Axes>"
      ]
     },
     "metadata": {
      "needs_background": "light"
     },
     "output_type": "display_data"
    },
    {
     "data": {
      "image/png": "[encoded data removed]",
      "text/plain": [
       "<Figure size 432x288 with 1 Axes>"
      ]
     },
     "metadata": {
      "needs_background": "light"
     },
     "output_type": "display_data"
    },
    {
     "data": {
      "image/png": "[encoded data removed]",
      "text/plain": [
       "<Figure size 432x288 with 1 Axes>"
      ]
     },
     "metadata": {
      "needs_background": "light"
     },
     "output_type": "display_data"
    },
    {
     "data": {
      "image/png": "[encoded data removed]",
      "text/plain": [
       "<Figure size 432x288 with 1 Axes>"
      ]
     },
     "metadata": {
      "needs_background": "light"
     },
     "output_type": "display_data"
    }
   ],
   "source": [
    "for i in [0,1,2,3,4]:\n",
    "    prediction_list = []\n",
    "    for j in range(226):\n",
    "        if prediction[j] == i:\n",
    "            prediction_list.append(int((speeches[j]['year'])))\n",
    "    plt.hist(prediction_list)\n",
    "    #plt.xticks(np.arange(min(prediction_list), max(prediction_list) + 1, 20))\n",
    "    plt.show()"
   ]
  },
  {
   "cell_type": "code",
   "execution_count": 161,
   "metadata": {},
   "outputs": [
    {
     "data": {
      "text/plain": [
       "'\\nyears are not spread evently throughout the clusters\\nSOUs given in the years close to each otehr tend to have \\nhigh similarity scores \\n'"
      ]
     },
     "execution_count": 161,
     "metadata": {},
     "output_type": "execute_result"
    }
   ],
   "source": [
    "'''\n",
    "We can observe that years are not spread evenly throughout the clusters.\n",
    "However, we can see that SOUs given in the years close to each \n",
    "other tend to have high similarity scores and hence clustered around\n",
    "each other.\n",
    "'''"
   ]
  },
  {
   "cell_type": "code",
   "execution_count": null,
   "metadata": {},
   "outputs": [],
   "source": []
  }
 ],
 "metadata": {
  "kernelspec": {
   "display_name": "Python 3",
   "language": "python",
   "name": "python3"
  },
  "language_info": {
   "codemirror_mode": {
    "name": "ipython",
    "version": 3
   },
   "file_extension": ".py",
   "mimetype": "text/x-python",
   "name": "python",
   "nbconvert_exporter": "python",
   "pygments_lexer": "ipython3",
   "version": "3.7.7"
  }
 },
 "nbformat": 4,
 "nbformat_minor": 2
}
