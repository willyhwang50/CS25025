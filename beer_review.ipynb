{
  "nbformat": 4,
  "nbformat_minor": 0,
  "metadata": {
    "kernelspec": {
      "display_name": "Python 3",
      "language": "python",
      "name": "python3"
    },
    "language_info": {
      "codemirror_mode": {
        "name": "ipython",
        "version": 3
      },
      "file_extension": ".py",
      "mimetype": "text/x-python",
      "name": "python",
      "nbconvert_exporter": "python",
      "pygments_lexer": "ipython3",
      "version": "3.7.7"
    },
    "colab": {
      "name": "HW3_Problem4.ipynb",
      "provenance": [],
      "collapsed_sections": [],
      "machine_shape": "hm"
    }
  },
  "cells": [
    {
      "cell_type": "code",
      "metadata": {
        "id": "u6WcJyiZaLAs",
        "colab_type": "code",
        "colab": {}
      },
      "source": [
        "import json\n",
        "import pandas as pd\n",
        "import numpy as np\n",
        "import time\n",
        "import math \n",
        "import string, re\n",
        "import matplotlib.pyplot as plt\n",
        "import sys\n",
        "from sklearn.linear_model import LogisticRegression\n",
        "from sklearn.model_selection import train_test_split\n",
        "from sklearn.metrics import accuracy_score\n",
        "from scipy.sparse import csr_matrix\n",
        "from sklearn.svm import LinearSVC\n",
        "from sklearn.linear_model import SGDClassifier "
      ],
      "execution_count": 0,
      "outputs": []
    },
    {
      "cell_type": "code",
      "metadata": {
        "id": "083PqmcFcU9D",
        "colab_type": "code",
        "outputId": "6de0fdbf-0e13-4abd-d548-08cab2ea4159",
        "colab": {
          "base_uri": "https://localhost:8080/",
          "height": 34
        }
      },
      "source": [
        "from google.colab import drive\n",
        "drive.mount('/content/drive')"
      ],
      "execution_count": 2,
      "outputs": [
        {
          "output_type": "stream",
          "text": [
            "Drive already mounted at /content/drive; to attempt to forcibly remount, call drive.mount(\"/content/drive\", force_remount=True).\n"
          ],
          "name": "stdout"
        }
      ]
    },
    {
      "cell_type": "code",
      "metadata": {
        "id": "4HXuKoq_aLAz",
        "colab_type": "code",
        "colab": {}
      },
      "source": [
        "f = open('/content/drive/My Drive/HW3/labeled_small.json','r')\n",
        "data = json.load(f)"
      ],
      "execution_count": 0,
      "outputs": []
    },
    {
      "cell_type": "code",
      "metadata": {
        "id": "VdMNJscAaLA1",
        "colab_type": "code",
        "colab": {}
      },
      "source": [
        "beer = pd.DataFrame.from_dict(data)"
      ],
      "execution_count": 0,
      "outputs": []
    },
    {
      "cell_type": "code",
      "metadata": {
        "id": "DYELaKFiaLA3",
        "colab_type": "code",
        "outputId": "dce42140-1990-45ed-e4ee-064b3a0be52a",
        "colab": {
          "base_uri": "https://localhost:8080/",
          "height": 34
        }
      },
      "source": [
        "type(beer)"
      ],
      "execution_count": 5,
      "outputs": [
        {
          "output_type": "execute_result",
          "data": {
            "text/plain": [
              "pandas.core.frame.DataFrame"
            ]
          },
          "metadata": {
            "tags": []
          },
          "execution_count": 5
        }
      ]
    },
    {
      "cell_type": "code",
      "metadata": {
        "id": "UBj5CrkuaLA6",
        "colab_type": "code",
        "outputId": "fd3a8cf9-5a32-456a-9ac3-9509882b3965",
        "colab": {
          "base_uri": "https://localhost:8080/",
          "height": 419
        }
      },
      "source": [
        "beer"
      ],
      "execution_count": 6,
      "outputs": [
        {
          "output_type": "execute_result",
          "data": {
            "text/html": [
              "<div>\n",
              "<style scoped>\n",
              "    .dataframe tbody tr th:only-of-type {\n",
              "        vertical-align: middle;\n",
              "    }\n",
              "\n",
              "    .dataframe tbody tr th {\n",
              "        vertical-align: top;\n",
              "    }\n",
              "\n",
              "    .dataframe thead th {\n",
              "        text-align: right;\n",
              "    }\n",
              "</style>\n",
              "<table border=\"1\" class=\"dataframe\">\n",
              "  <thead>\n",
              "    <tr style=\"text-align: right;\">\n",
              "      <th></th>\n",
              "      <th>style</th>\n",
              "      <th>palate</th>\n",
              "      <th>review_id</th>\n",
              "      <th>brewer</th>\n",
              "      <th>taste</th>\n",
              "      <th>overall</th>\n",
              "      <th>review</th>\n",
              "      <th>appearance</th>\n",
              "      <th>aroma</th>\n",
              "      <th>beer_name</th>\n",
              "      <th>beer_id</th>\n",
              "    </tr>\n",
              "  </thead>\n",
              "  <tbody>\n",
              "    <tr>\n",
              "      <th>0</th>\n",
              "      <td>17</td>\n",
              "      <td>3.0</td>\n",
              "      <td>0</td>\n",
              "      <td>3084</td>\n",
              "      <td>6.0</td>\n",
              "      <td>13.0</td>\n",
              "      <td>On tap at the Springfield, PA location. Poured...</td>\n",
              "      <td>4.0</td>\n",
              "      <td>6.0</td>\n",
              "      <td>John Harvards Simcoe IPA</td>\n",
              "      <td>45842</td>\n",
              "    </tr>\n",
              "    <tr>\n",
              "      <th>1</th>\n",
              "      <td>17</td>\n",
              "      <td>4.0</td>\n",
              "      <td>1</td>\n",
              "      <td>3084</td>\n",
              "      <td>7.0</td>\n",
              "      <td>13.0</td>\n",
              "      <td>On tap at the John Harvards in Springfield PA....</td>\n",
              "      <td>4.0</td>\n",
              "      <td>6.0</td>\n",
              "      <td>John Harvards Simcoe IPA</td>\n",
              "      <td>45842</td>\n",
              "    </tr>\n",
              "    <tr>\n",
              "      <th>2</th>\n",
              "      <td>33</td>\n",
              "      <td>3.0</td>\n",
              "      <td>2</td>\n",
              "      <td>3084</td>\n",
              "      <td>6.0</td>\n",
              "      <td>14.0</td>\n",
              "      <td>UPDATED: FEB 19, 2003 Springfield, PA. I've ne...</td>\n",
              "      <td>4.0</td>\n",
              "      <td>5.0</td>\n",
              "      <td>John Harvards Cristal Pilsner</td>\n",
              "      <td>95213</td>\n",
              "    </tr>\n",
              "    <tr>\n",
              "      <th>3</th>\n",
              "      <td>33</td>\n",
              "      <td>2.0</td>\n",
              "      <td>3</td>\n",
              "      <td>3084</td>\n",
              "      <td>4.0</td>\n",
              "      <td>8.0</td>\n",
              "      <td>On tap the Springfield PA location billed as t...</td>\n",
              "      <td>2.0</td>\n",
              "      <td>4.0</td>\n",
              "      <td>John Harvards Fancy Lawnmower Beer</td>\n",
              "      <td>65957</td>\n",
              "    </tr>\n",
              "    <tr>\n",
              "      <th>4</th>\n",
              "      <td>58</td>\n",
              "      <td>4.0</td>\n",
              "      <td>5</td>\n",
              "      <td>3084</td>\n",
              "      <td>7.0</td>\n",
              "      <td>16.0</td>\n",
              "      <td>Springfield, PA location... Poured an opaque b...</td>\n",
              "      <td>5.0</td>\n",
              "      <td>8.0</td>\n",
              "      <td>John Harvards Vanilla Black Velvet Stout</td>\n",
              "      <td>41336</td>\n",
              "    </tr>\n",
              "    <tr>\n",
              "      <th>...</th>\n",
              "      <td>...</td>\n",
              "      <td>...</td>\n",
              "      <td>...</td>\n",
              "      <td>...</td>\n",
              "      <td>...</td>\n",
              "      <td>...</td>\n",
              "      <td>...</td>\n",
              "      <td>...</td>\n",
              "      <td>...</td>\n",
              "      <td>...</td>\n",
              "      <td>...</td>\n",
              "    </tr>\n",
              "    <tr>\n",
              "      <th>99995</th>\n",
              "      <td>69</td>\n",
              "      <td>2.0</td>\n",
              "      <td>117585</td>\n",
              "      <td>4115</td>\n",
              "      <td>6.0</td>\n",
              "      <td>11.0</td>\n",
              "      <td>Bottle. Pale amber color with a nice white hea...</td>\n",
              "      <td>3.0</td>\n",
              "      <td>8.0</td>\n",
              "      <td>Mission Street Pale Ale</td>\n",
              "      <td>68983</td>\n",
              "    </tr>\n",
              "    <tr>\n",
              "      <th>99996</th>\n",
              "      <td>69</td>\n",
              "      <td>2.0</td>\n",
              "      <td>117586</td>\n",
              "      <td>4115</td>\n",
              "      <td>6.0</td>\n",
              "      <td>12.0</td>\n",
              "      <td>12 oz single bought at Trader Joes.\\tPretty ne...</td>\n",
              "      <td>2.0</td>\n",
              "      <td>8.0</td>\n",
              "      <td>Mission Street Pale Ale</td>\n",
              "      <td>68983</td>\n",
              "    </tr>\n",
              "    <tr>\n",
              "      <th>99997</th>\n",
              "      <td>69</td>\n",
              "      <td>3.0</td>\n",
              "      <td>117587</td>\n",
              "      <td>4115</td>\n",
              "      <td>7.0</td>\n",
              "      <td>14.0</td>\n",
              "      <td>Golden-copper with foamy head.  Strong floral-...</td>\n",
              "      <td>4.0</td>\n",
              "      <td>8.0</td>\n",
              "      <td>Mission Street Pale Ale</td>\n",
              "      <td>68983</td>\n",
              "    </tr>\n",
              "    <tr>\n",
              "      <th>99998</th>\n",
              "      <td>69</td>\n",
              "      <td>3.0</td>\n",
              "      <td>117588</td>\n",
              "      <td>4115</td>\n",
              "      <td>6.0</td>\n",
              "      <td>12.0</td>\n",
              "      <td>Nice, simple pale ale (title pale ale but had ...</td>\n",
              "      <td>3.0</td>\n",
              "      <td>6.0</td>\n",
              "      <td>Mission Street Pale Ale</td>\n",
              "      <td>68983</td>\n",
              "    </tr>\n",
              "    <tr>\n",
              "      <th>99999</th>\n",
              "      <td>69</td>\n",
              "      <td>2.0</td>\n",
              "      <td>117589</td>\n",
              "      <td>4115</td>\n",
              "      <td>3.0</td>\n",
              "      <td>7.0</td>\n",
              "      <td>Bleh. Reminds me of a beginer's homebrew. You ...</td>\n",
              "      <td>3.0</td>\n",
              "      <td>5.0</td>\n",
              "      <td>Mission Street Pale Ale</td>\n",
              "      <td>68983</td>\n",
              "    </tr>\n",
              "  </tbody>\n",
              "</table>\n",
              "<p>100000 rows × 11 columns</p>\n",
              "</div>"
            ],
            "text/plain": [
              "       style  palate  ...                                 beer_name  beer_id\n",
              "0         17     3.0  ...                  John Harvards Simcoe IPA    45842\n",
              "1         17     4.0  ...                  John Harvards Simcoe IPA    45842\n",
              "2         33     3.0  ...             John Harvards Cristal Pilsner    95213\n",
              "3         33     2.0  ...        John Harvards Fancy Lawnmower Beer    65957\n",
              "4         58     4.0  ...  John Harvards Vanilla Black Velvet Stout    41336\n",
              "...      ...     ...  ...                                       ...      ...\n",
              "99995     69     2.0  ...                   Mission Street Pale Ale    68983\n",
              "99996     69     2.0  ...                   Mission Street Pale Ale    68983\n",
              "99997     69     3.0  ...                   Mission Street Pale Ale    68983\n",
              "99998     69     3.0  ...                   Mission Street Pale Ale    68983\n",
              "99999     69     2.0  ...                   Mission Street Pale Ale    68983\n",
              "\n",
              "[100000 rows x 11 columns]"
            ]
          },
          "metadata": {
            "tags": []
          },
          "execution_count": 6
        }
      ]
    },
    {
      "cell_type": "code",
      "metadata": {
        "id": "rhHqzzf_aLA8",
        "colab_type": "code",
        "colab": {}
      },
      "source": [
        "with open('/content/drive/My Drive/HW3/vocab_30.json', 'r') as f:\n",
        "    vocab = json.load(f)"
      ],
      "execution_count": 0,
      "outputs": []
    },
    {
      "cell_type": "code",
      "metadata": {
        "id": "dpwm9tc2_5FK",
        "colab_type": "code",
        "outputId": "b9ee0f4e-6d41-4b75-e468-3248ee713193",
        "colab": {
          "base_uri": "https://localhost:8080/",
          "height": 34
        }
      },
      "source": [
        "len(vocab)"
      ],
      "execution_count": 8,
      "outputs": [
        {
          "output_type": "execute_result",
          "data": {
            "text/plain": [
              "41346"
            ]
          },
          "metadata": {
            "tags": []
          },
          "execution_count": 8
        }
      ]
    },
    {
      "cell_type": "code",
      "metadata": {
        "id": "sWEfdYZdaLBB",
        "colab_type": "code",
        "colab": {}
      },
      "source": [
        "# Part 1: Data Inspection "
      ],
      "execution_count": 0,
      "outputs": []
    },
    {
      "cell_type": "code",
      "metadata": {
        "id": "5zfTXRCJaLBD",
        "colab_type": "code",
        "outputId": "78f98cd3-af4e-451a-8fb0-4b0380c1e9e6",
        "colab": {
          "base_uri": "https://localhost:8080/",
          "height": 297
        }
      },
      "source": [
        "beer.describe()"
      ],
      "execution_count": 10,
      "outputs": [
        {
          "output_type": "execute_result",
          "data": {
            "text/html": [
              "<div>\n",
              "<style scoped>\n",
              "    .dataframe tbody tr th:only-of-type {\n",
              "        vertical-align: middle;\n",
              "    }\n",
              "\n",
              "    .dataframe tbody tr th {\n",
              "        vertical-align: top;\n",
              "    }\n",
              "\n",
              "    .dataframe thead th {\n",
              "        text-align: right;\n",
              "    }\n",
              "</style>\n",
              "<table border=\"1\" class=\"dataframe\">\n",
              "  <thead>\n",
              "    <tr style=\"text-align: right;\">\n",
              "      <th></th>\n",
              "      <th>style</th>\n",
              "      <th>palate</th>\n",
              "      <th>review_id</th>\n",
              "      <th>brewer</th>\n",
              "      <th>taste</th>\n",
              "      <th>overall</th>\n",
              "      <th>appearance</th>\n",
              "      <th>aroma</th>\n",
              "      <th>beer_id</th>\n",
              "    </tr>\n",
              "  </thead>\n",
              "  <tbody>\n",
              "    <tr>\n",
              "      <th>count</th>\n",
              "      <td>100000.000000</td>\n",
              "      <td>100000.000000</td>\n",
              "      <td>100000.000000</td>\n",
              "      <td>100000.000000</td>\n",
              "      <td>100000.00000</td>\n",
              "      <td>100000.000000</td>\n",
              "      <td>100000.000000</td>\n",
              "      <td>100000.000000</td>\n",
              "      <td>100000.00000</td>\n",
              "    </tr>\n",
              "    <tr>\n",
              "      <th>mean</th>\n",
              "      <td>36.464290</td>\n",
              "      <td>3.277750</td>\n",
              "      <td>58770.913290</td>\n",
              "      <td>3992.036020</td>\n",
              "      <td>6.53204</td>\n",
              "      <td>13.396420</td>\n",
              "      <td>3.459630</td>\n",
              "      <td>6.447190</td>\n",
              "      <td>55650.48179</td>\n",
              "    </tr>\n",
              "    <tr>\n",
              "      <th>std</th>\n",
              "      <td>22.538597</td>\n",
              "      <td>0.773156</td>\n",
              "      <td>33904.099683</td>\n",
              "      <td>2477.817908</td>\n",
              "      <td>1.43963</td>\n",
              "      <td>2.949437</td>\n",
              "      <td>0.756529</td>\n",
              "      <td>1.439254</td>\n",
              "      <td>33327.57236</td>\n",
              "    </tr>\n",
              "    <tr>\n",
              "      <th>min</th>\n",
              "      <td>0.000000</td>\n",
              "      <td>1.000000</td>\n",
              "      <td>0.000000</td>\n",
              "      <td>0.000000</td>\n",
              "      <td>1.00000</td>\n",
              "      <td>1.000000</td>\n",
              "      <td>1.000000</td>\n",
              "      <td>1.000000</td>\n",
              "      <td>1.00000</td>\n",
              "    </tr>\n",
              "    <tr>\n",
              "      <th>25%</th>\n",
              "      <td>16.000000</td>\n",
              "      <td>3.000000</td>\n",
              "      <td>29481.750000</td>\n",
              "      <td>1786.000000</td>\n",
              "      <td>6.00000</td>\n",
              "      <td>12.000000</td>\n",
              "      <td>3.000000</td>\n",
              "      <td>6.000000</td>\n",
              "      <td>26244.00000</td>\n",
              "    </tr>\n",
              "    <tr>\n",
              "      <th>50%</th>\n",
              "      <td>37.000000</td>\n",
              "      <td>3.000000</td>\n",
              "      <td>58777.500000</td>\n",
              "      <td>4812.500000</td>\n",
              "      <td>7.00000</td>\n",
              "      <td>14.000000</td>\n",
              "      <td>3.000000</td>\n",
              "      <td>7.000000</td>\n",
              "      <td>56100.00000</td>\n",
              "    </tr>\n",
              "    <tr>\n",
              "      <th>75%</th>\n",
              "      <td>58.000000</td>\n",
              "      <td>4.000000</td>\n",
              "      <td>88103.500000</td>\n",
              "      <td>6329.000000</td>\n",
              "      <td>7.00000</td>\n",
              "      <td>15.000000</td>\n",
              "      <td>4.000000</td>\n",
              "      <td>7.000000</td>\n",
              "      <td>86041.00000</td>\n",
              "    </tr>\n",
              "    <tr>\n",
              "      <th>max</th>\n",
              "      <td>73.000000</td>\n",
              "      <td>5.000000</td>\n",
              "      <td>117589.000000</td>\n",
              "      <td>7523.000000</td>\n",
              "      <td>10.00000</td>\n",
              "      <td>20.000000</td>\n",
              "      <td>5.000000</td>\n",
              "      <td>10.000000</td>\n",
              "      <td>110283.00000</td>\n",
              "    </tr>\n",
              "  </tbody>\n",
              "</table>\n",
              "</div>"
            ],
            "text/plain": [
              "               style         palate  ...          aroma       beer_id\n",
              "count  100000.000000  100000.000000  ...  100000.000000  100000.00000\n",
              "mean       36.464290       3.277750  ...       6.447190   55650.48179\n",
              "std        22.538597       0.773156  ...       1.439254   33327.57236\n",
              "min         0.000000       1.000000  ...       1.000000       1.00000\n",
              "25%        16.000000       3.000000  ...       6.000000   26244.00000\n",
              "50%        37.000000       3.000000  ...       7.000000   56100.00000\n",
              "75%        58.000000       4.000000  ...       7.000000   86041.00000\n",
              "max        73.000000       5.000000  ...      10.000000  110283.00000\n",
              "\n",
              "[8 rows x 9 columns]"
            ]
          },
          "metadata": {
            "tags": []
          },
          "execution_count": 10
        }
      ]
    },
    {
      "cell_type": "code",
      "metadata": {
        "id": "Lww0LjWGaLBF",
        "colab_type": "code",
        "colab": {}
      },
      "source": [
        "# Mean: 13.396 \n",
        "# Median: 14.000\n",
        "# Standard Deviation: 2.949 "
      ],
      "execution_count": 0,
      "outputs": []
    },
    {
      "cell_type": "code",
      "metadata": {
        "id": "_nX2_AdZaLBH",
        "colab_type": "code",
        "colab": {}
      },
      "source": [
        "# Now, do people have a similar taste? In order to answer this question,\n",
        "# We can assume that if people do, they will leave similar ratings for \n",
        "# the same kind of beers. Then, the standard deviation of ratings for \n",
        "# a selected beer should be quite small compared to the overall ratings\n",
        "# for all kinds of beers "
      ],
      "execution_count": 0,
      "outputs": []
    },
    {
      "cell_type": "code",
      "metadata": {
        "id": "iqMumIf4dgNz",
        "colab_type": "code",
        "colab": {}
      },
      "source": [
        "# Let's try three examples "
      ],
      "execution_count": 0,
      "outputs": []
    },
    {
      "cell_type": "code",
      "metadata": {
        "id": "6T5O4gHjaLBJ",
        "colab_type": "code",
        "colab": {}
      },
      "source": [
        "beer1 = beer[beer[\"beer_name\"] == \"Mission Street Pale Ale\"]\n",
        "beer2 = beer[beer[\"beer_name\"] == \"Burggraf Maibock\"]\n",
        "beer3 = beer[beer[\"beer_name\"] == \"Barley Island Barrel-Aged Count Hopula\"]"
      ],
      "execution_count": 0,
      "outputs": []
    },
    {
      "cell_type": "code",
      "metadata": {
        "id": "85izro1naLBM",
        "colab_type": "code",
        "outputId": "fd7aa00b-c20f-4ac2-f46b-37dab6060873",
        "colab": {
          "base_uri": "https://localhost:8080/",
          "height": 34
        }
      },
      "source": [
        "beer1[\"overall\"].std()"
      ],
      "execution_count": 15,
      "outputs": [
        {
          "output_type": "execute_result",
          "data": {
            "text/plain": [
              "2.1420781684525454"
            ]
          },
          "metadata": {
            "tags": []
          },
          "execution_count": 15
        }
      ]
    },
    {
      "cell_type": "code",
      "metadata": {
        "id": "l4LCz1jXaLBO",
        "colab_type": "code",
        "outputId": "763cda76-4038-4d50-85a0-d12080223c60",
        "colab": {
          "base_uri": "https://localhost:8080/",
          "height": 34
        }
      },
      "source": [
        "beer2[\"overall\"].std()"
      ],
      "execution_count": 16,
      "outputs": [
        {
          "output_type": "execute_result",
          "data": {
            "text/plain": [
              "1.789114825239473"
            ]
          },
          "metadata": {
            "tags": []
          },
          "execution_count": 16
        }
      ]
    },
    {
      "cell_type": "code",
      "metadata": {
        "id": "5XpUCMkYaLBQ",
        "colab_type": "code",
        "outputId": "2785861c-8a78-45dd-ed38-8af341543649",
        "colab": {
          "base_uri": "https://localhost:8080/",
          "height": 34
        }
      },
      "source": [
        "beer3[\"overall\"].std()"
      ],
      "execution_count": 17,
      "outputs": [
        {
          "output_type": "execute_result",
          "data": {
            "text/plain": [
              "0.8997354108424372"
            ]
          },
          "metadata": {
            "tags": []
          },
          "execution_count": 17
        }
      ]
    },
    {
      "cell_type": "code",
      "metadata": {
        "id": "xsF_wMq9aLBS",
        "colab_type": "code",
        "colab": {}
      },
      "source": [
        "# The standard deviation of the overall rating of all beers was 2.949. \n",
        "# We can see that the overall ratings of the above three beers have standard\n",
        "# deviations lower than this threshold, but some are much lower than others. \n",
        "# We can argue that people could have similar tastes for only some types of beer "
      ],
      "execution_count": 0,
      "outputs": []
    },
    {
      "cell_type": "code",
      "metadata": {
        "id": "zQTYWxNJaLBU",
        "colab_type": "code",
        "colab": {}
      },
      "source": [
        "# Part 2 "
      ],
      "execution_count": 0,
      "outputs": []
    },
    {
      "cell_type": "code",
      "metadata": {
        "id": "5tlZsPnEaLBW",
        "colab_type": "code",
        "colab": {}
      },
      "source": [
        "# (a) Generating Features "
      ],
      "execution_count": 0,
      "outputs": []
    },
    {
      "cell_type": "code",
      "metadata": {
        "id": "hqg8aVYiaLBX",
        "colab_type": "code",
        "colab": {}
      },
      "source": [
        "# Splitting data into training, validation, and testing "
      ],
      "execution_count": 0,
      "outputs": []
    },
    {
      "cell_type": "code",
      "metadata": {
        "id": "VB8ZDb-txdIQ",
        "colab_type": "code",
        "colab": {}
      },
      "source": [
        "# But First, create a function that gives binary labels "
      ],
      "execution_count": 0,
      "outputs": []
    },
    {
      "cell_type": "code",
      "metadata": {
        "id": "70qqhF6Ey_AF",
        "colab_type": "code",
        "colab": {}
      },
      "source": [
        "label = np.array(beer[\"overall\"] >= 14).astype(int)"
      ],
      "execution_count": 0,
      "outputs": []
    },
    {
      "cell_type": "code",
      "metadata": {
        "id": "MKCR9rOSaLBc",
        "colab_type": "code",
        "colab": {}
      },
      "source": [
        "train_data, test_data, train_label, test_label = train_test_split(beer, label, test_size = 0.3, random_state =2)\n",
        "val_data, test_data, val_label, test_label = train_test_split(test_data, test_label, test_size = 0.5, random_state =2)"
      ],
      "execution_count": 0,
      "outputs": []
    },
    {
      "cell_type": "code",
      "metadata": {
        "id": "E04sHJG5aLBe",
        "colab_type": "code",
        "colab": {}
      },
      "source": [
        "# function that normalize the text "
      ],
      "execution_count": 0,
      "outputs": []
    },
    {
      "cell_type": "code",
      "metadata": {
        "id": "vZ_xiS2m09DX",
        "colab_type": "code",
        "colab": {}
      },
      "source": [
        "vocab_index = {}\n",
        "vocab_lst = list(vocab.keys())\n",
        "for i, vocab in enumerate(vocab_lst): \n",
        "    vocab_index[vocab] = i"
      ],
      "execution_count": 0,
      "outputs": []
    },
    {
      "cell_type": "code",
      "metadata": {
        "id": "aUnJp_fYaLBf",
        "colab_type": "code",
        "colab": {}
      },
      "source": [
        "def normalize_txt(data):\n",
        "    r = re.compile(\"[\" + re.escape(string.punctuation) + \"]\")\n",
        "    normal = [] \n",
        "    for i, row in data.iterrows():\n",
        "        words = r.sub('', row['review'])\n",
        "        split = words.split(' ')\n",
        "        lst = []\n",
        "        for s in split:\n",
        "            if s in vocab_index: \n",
        "                lst.append(s)\n",
        "        normal.append(lst)\n",
        "    return normal"
      ],
      "execution_count": 0,
      "outputs": []
    },
    {
      "cell_type": "code",
      "metadata": {
        "id": "QNMxYQTyaLBi",
        "colab_type": "code",
        "colab": {}
      },
      "source": [
        "# function that creates sparse matrix "
      ],
      "execution_count": 0,
      "outputs": []
    },
    {
      "cell_type": "code",
      "metadata": {
        "id": "O2C75zhMtY85",
        "colab_type": "code",
        "colab": {}
      },
      "source": [
        "def create_sparse(document, vocab_index_):\n",
        "    indptr = [0]\n",
        "    indices = []\n",
        "    data = []\n",
        "    for doc in document: \n",
        "        terms = set(doc) \n",
        "        for term in terms:\n",
        "            index = vocab_index_[term]\n",
        "            indices.append(index)\n",
        "            data.append(1)\n",
        "        indptr.append(len(indices))\n",
        "    sparse = csr_matrix((data, indices, indptr), dtype = bool).astype(int)\n",
        "    return sparse"
      ],
      "execution_count": 0,
      "outputs": []
    },
    {
      "cell_type": "code",
      "metadata": {
        "id": "jfle24lG2RhC",
        "colab_type": "code",
        "outputId": "738079e9-67f6-4e71-ee11-6c71fb655a52",
        "colab": {
          "base_uri": "https://localhost:8080/",
          "height": 34
        }
      },
      "source": [
        "time_start = time.time()\n",
        "norm_doc = normalize_txt(train_data)\n",
        "print(time.time() - time_start)"
      ],
      "execution_count": 30,
      "outputs": [
        {
          "output_type": "stream",
          "text": [
            "9.474142074584961\n"
          ],
          "name": "stdout"
        }
      ]
    },
    {
      "cell_type": "code",
      "metadata": {
        "id": "_ovMV5twHOl4",
        "colab_type": "code",
        "outputId": "a68f90ca-9e77-4b21-8f62-4d6cd97d3288",
        "colab": {
          "base_uri": "https://localhost:8080/",
          "height": 34
        }
      },
      "source": [
        "time_start = time.time()\n",
        "sparse = create_sparse(norm_doc, vocab_index)\n",
        "print(time.time() - time_start)"
      ],
      "execution_count": 31,
      "outputs": [
        {
          "output_type": "stream",
          "text": [
            "1.0818650722503662\n"
          ],
          "name": "stdout"
        }
      ]
    },
    {
      "cell_type": "code",
      "metadata": {
        "id": "f7DpTICC2Ilg",
        "colab_type": "code",
        "colab": {}
      },
      "source": [
        "# It takes about 1.117 seconds to go over the entire training data set, which is \n",
        "# 70,000 documents long  "
      ],
      "execution_count": 0,
      "outputs": []
    },
    {
      "cell_type": "code",
      "metadata": {
        "id": "y84i58dDaLBr",
        "colab_type": "code",
        "colab": {}
      },
      "source": [
        "# part (b): Logistic Regression"
      ],
      "execution_count": 0,
      "outputs": []
    },
    {
      "cell_type": "code",
      "metadata": {
        "id": "I5KPFPoHw8kD",
        "colab_type": "code",
        "colab": {}
      },
      "source": [
        "sparse_test = create_sparse(normalize_txt(test_data), vocab_index)"
      ],
      "execution_count": 0,
      "outputs": []
    },
    {
      "cell_type": "code",
      "metadata": {
        "id": "iNhu7dWaw85a",
        "colab_type": "code",
        "colab": {}
      },
      "source": [
        "sparse_val = create_sparse(normalize_txt(val_data), vocab_index)"
      ],
      "execution_count": 0,
      "outputs": []
    },
    {
      "cell_type": "code",
      "metadata": {
        "id": "nSbL71Uuyh6N",
        "colab_type": "code",
        "outputId": "b5582ed5-9b47-48c8-d93a-df60de82340a",
        "colab": {
          "base_uri": "https://localhost:8080/",
          "height": 34
        }
      },
      "source": [
        "start = time.time()\n",
        "lg = LogisticRegression(penalty = \"l2\", C = 1/10, solver = 'newton-cg')\n",
        "lg.fit(sparse, train_label)\n",
        "print(time.time() - start)"
      ],
      "execution_count": 36,
      "outputs": [
        {
          "output_type": "stream",
          "text": [
            "3.860454559326172\n"
          ],
          "name": "stdout"
        }
      ]
    },
    {
      "cell_type": "code",
      "metadata": {
        "id": "wC8zoQyP0FM8",
        "colab_type": "code",
        "outputId": "18ae8806-aabf-4887-b6d8-39ff8367eafa",
        "colab": {
          "base_uri": "https://localhost:8080/",
          "height": 34
        }
      },
      "source": [
        "score = accuracy_score(val_label, lg.predict(sparse_val))\n",
        "score"
      ],
      "execution_count": 37,
      "outputs": [
        {
          "output_type": "execute_result",
          "data": {
            "text/plain": [
              "0.7605333333333333"
            ]
          },
          "metadata": {
            "tags": []
          },
          "execution_count": 37
        }
      ]
    },
    {
      "cell_type": "code",
      "metadata": {
        "id": "cnAj_K57aLB2",
        "colab_type": "code",
        "colab": {}
      },
      "source": [
        "# selecting the optimal lambda_ by tring different values on the validation set "
      ],
      "execution_count": 0,
      "outputs": []
    },
    {
      "cell_type": "code",
      "metadata": {
        "id": "-TlMjY9VaLB4",
        "colab_type": "code",
        "colab": {
          "base_uri": "https://localhost:8080/",
          "height": 629
        },
        "outputId": "7c0ea790-c5cf-498c-c110-8771a0df29d5"
      },
      "source": [
        "lambda_set1 = [1, 5, 10, 20, 30, 40, 50, 70, 100, 300, 500, 1000]\n",
        "accuracy1 = []\n",
        "for lam in lambda_set1:\n",
        "    print(\"lambda: {} | Penalty C: {}\".format(lam, 1/lam))\n",
        "    lg = LogisticRegression(penalty = \"l2\", C = 1/lam, solver = 'newton-cg')\n",
        "    start = time.time()\n",
        "    lg.fit(sparse, train_label)\n",
        "    score = accuracy_score(val_label, lg.predict(sparse_val))\n",
        "    accuracy1.append(score)\n",
        "    print(\"operation time: %s\" %(time.time() - start))\n",
        "    print(\"accuracy: %s\" %(score))"
      ],
      "execution_count": 39,
      "outputs": [
        {
          "output_type": "stream",
          "text": [
            "lambda: 1 | Penalty C: 1.0\n",
            "operation time: 7.5562450885772705\n",
            "accuracy: 0.7518\n",
            "lambda: 5 | Penalty C: 0.2\n",
            "operation time: 4.4831624031066895\n",
            "accuracy: 0.7587333333333334\n",
            "lambda: 10 | Penalty C: 0.1\n",
            "operation time: 3.943840503692627\n",
            "accuracy: 0.7605333333333333\n",
            "lambda: 20 | Penalty C: 0.05\n",
            "operation time: 3.605893135070801\n",
            "accuracy: 0.7625333333333333\n",
            "lambda: 30 | Penalty C: 0.03333333333333333\n",
            "operation time: 3.516540288925171\n",
            "accuracy: 0.7606666666666667\n",
            "lambda: 40 | Penalty C: 0.025\n",
            "operation time: 3.1036739349365234\n",
            "accuracy: 0.7603333333333333\n",
            "lambda: 50 | Penalty C: 0.02\n",
            "operation time: 2.9787139892578125\n",
            "accuracy: 0.7588\n",
            "lambda: 70 | Penalty C: 0.014285714285714285\n",
            "operation time: 2.881065607070923\n",
            "accuracy: 0.7563333333333333\n",
            "lambda: 100 | Penalty C: 0.01\n",
            "operation time: 2.623732566833496\n",
            "accuracy: 0.7542\n",
            "lambda: 300 | Penalty C: 0.0033333333333333335\n",
            "operation time: 2.144583225250244\n",
            "accuracy: 0.744\n",
            "lambda: 500 | Penalty C: 0.002\n",
            "operation time: 2.358748435974121\n",
            "accuracy: 0.7391333333333333\n",
            "lambda: 1000 | Penalty C: 0.001\n",
            "operation time: 1.7104160785675049\n",
            "accuracy: 0.7284666666666667\n"
          ],
          "name": "stdout"
        }
      ]
    },
    {
      "cell_type": "code",
      "metadata": {
        "id": "Cq55RqzmaLB6",
        "colab_type": "code",
        "outputId": "ea48faf3-6ad6-4eab-9b3d-e3a89a6bd4c6",
        "colab": {
          "base_uri": "https://localhost:8080/",
          "height": 282
        }
      },
      "source": [
        "plt.plot(lambda_set1, accuracy1, 'bo')"
      ],
      "execution_count": 40,
      "outputs": [
        {
          "output_type": "execute_result",
          "data": {
            "text/plain": [
              "[<matplotlib.lines.Line2D at 0x7f0ad94d3f28>]"
            ]
          },
          "metadata": {
            "tags": []
          },
          "execution_count": 40
        },
        {
          "output_type": "display_data",
          "data": {
            "image/png": "[encoded data removed]",
            "text/plain": [
              "<Figure size 432x288 with 1 Axes>"
            ]
          },
          "metadata": {
            "tags": [],
            "needs_background": "light"
          }
        }
      ]
    },
    {
      "cell_type": "code",
      "metadata": {
        "id": "7-XpSMDTaLB8",
        "colab_type": "code",
        "colab": {}
      },
      "source": [
        "# The accuracy rate was the highest when lambda = 20.  \n",
        "# With lambda = 20, it took about 3.5 seconds to run the algorithm in order to \n",
        "# attain accuracy rate of 0.7625"
      ],
      "execution_count": 0,
      "outputs": []
    },
    {
      "cell_type": "code",
      "metadata": {
        "id": "BeAkEhXqaLB-",
        "colab_type": "code",
        "colab": {}
      },
      "source": [
        "# Moving on to the LinearSVC class "
      ],
      "execution_count": 0,
      "outputs": []
    },
    {
      "cell_type": "code",
      "metadata": {
        "id": "MRv_dNiIaLCD",
        "colab_type": "code",
        "outputId": "0879de66-e3c5-4ac1-a3e2-df9ec2bc4f5f",
        "colab": {
          "base_uri": "https://localhost:8080/",
          "height": 612
        }
      },
      "source": [
        "lambda_set2 = [1, 10, 20, 30, 40, 50, 60, 70, 80, 90, 100]\n",
        "accuracy2 = []\n",
        "for lam in lambda_set2:\n",
        "    print(\"lambda: {} | penalty C: {} \".format(lam, 1 / lam))\n",
        "    lsvc = LinearSVC(penalty = 'l2', loss = 'hinge', C = 1/lam)\n",
        "    start = time.time()\n",
        "    lsvc.fit(sparse, train_label)\n",
        "    score = accuracy_score(val_label, lsvc.predict(sparse_val))\n",
        "    accuracy2.append(score)\n",
        "    print(\"operation time: %s \" % (time.time() - start))\n",
        "    print(\"accuracy: %s\"%(score))"
      ],
      "execution_count": 43,
      "outputs": [
        {
          "output_type": "stream",
          "text": [
            "lambda: 1 | penalty C: 1.0 \n"
          ],
          "name": "stdout"
        },
        {
          "output_type": "stream",
          "text": [
            "/usr/local/lib/python3.6/dist-packages/sklearn/svm/_base.py:947: ConvergenceWarning: Liblinear failed to converge, increase the number of iterations.\n",
            "  \"the number of iterations.\", ConvergenceWarning)\n"
          ],
          "name": "stderr"
        },
        {
          "output_type": "stream",
          "text": [
            "operation time: 5.048051595687866 \n",
            "accuracy: 0.7420666666666667\n",
            "lambda: 10 | penalty C: 0.1 \n",
            "operation time: 1.37498140335083 \n",
            "accuracy: 0.7575333333333333\n",
            "lambda: 20 | penalty C: 0.05 \n",
            "operation time: 0.6204280853271484 \n",
            "accuracy: 0.7577333333333334\n",
            "lambda: 30 | penalty C: 0.03333333333333333 \n",
            "operation time: 0.5432126522064209 \n",
            "accuracy: 0.7586\n",
            "lambda: 40 | penalty C: 0.025 \n",
            "operation time: 0.4545018672943115 \n",
            "accuracy: 0.7587333333333334\n",
            "lambda: 50 | penalty C: 0.02 \n",
            "operation time: 0.33524274826049805 \n",
            "accuracy: 0.759\n",
            "lambda: 60 | penalty C: 0.016666666666666666 \n",
            "operation time: 0.3623623847961426 \n",
            "accuracy: 0.7580666666666667\n",
            "lambda: 70 | penalty C: 0.014285714285714285 \n",
            "operation time: 0.28708910942077637 \n",
            "accuracy: 0.7578666666666667\n",
            "lambda: 80 | penalty C: 0.0125 \n",
            "operation time: 0.25193142890930176 \n",
            "accuracy: 0.7568666666666667\n",
            "lambda: 90 | penalty C: 0.011111111111111112 \n",
            "operation time: 0.23581838607788086 \n",
            "accuracy: 0.7565333333333333\n",
            "lambda: 100 | penalty C: 0.01 \n",
            "operation time: 0.2680075168609619 \n",
            "accuracy: 0.7561333333333333\n"
          ],
          "name": "stdout"
        }
      ]
    },
    {
      "cell_type": "code",
      "metadata": {
        "id": "gp289GQlaLCF",
        "colab_type": "code",
        "outputId": "e2001895-39ab-4bc3-fe63-ec15c0b8c082",
        "colab": {
          "base_uri": "https://localhost:8080/",
          "height": 282
        }
      },
      "source": [
        "plt.plot(lambda_set2, accuracy2, 'ro')"
      ],
      "execution_count": 44,
      "outputs": [
        {
          "output_type": "execute_result",
          "data": {
            "text/plain": [
              "[<matplotlib.lines.Line2D at 0x7f0ad9452550>]"
            ]
          },
          "metadata": {
            "tags": []
          },
          "execution_count": 44
        },
        {
          "output_type": "display_data",
          "data": {
            "image/png": "[encoded data removed]",
            "text/plain": [
              "<Figure size 432x288 with 1 Axes>"
            ]
          },
          "metadata": {
            "tags": [],
            "needs_background": "light"
          }
        }
      ]
    },
    {
      "cell_type": "code",
      "metadata": {
        "id": "R5dkdX_DaLCH",
        "colab_type": "code",
        "colab": {}
      },
      "source": [
        "# Using hinge loss instead of logistic loss, lambda = 50 seems to be close to \n",
        "# the optimal lambda value. It provided an accuracy rate of 0.759 with \n",
        "# operation time of about 0.26 seconds. We can conclude that under the given \n",
        "# circumstances, the logistic Regression model showed slightly higher (very small\n",
        "# difference) accuracy, but the lsvc model computed the algorithms faster. "
      ],
      "execution_count": 0,
      "outputs": []
    },
    {
      "cell_type": "code",
      "metadata": {
        "id": "OZDZ63SYaLCJ",
        "colab_type": "code",
        "colab": {}
      },
      "source": [
        "# part (c): Stochastic gradient descent "
      ],
      "execution_count": 0,
      "outputs": []
    },
    {
      "cell_type": "code",
      "metadata": {
        "id": "_7IwbPjRaLCL",
        "colab_type": "code",
        "colab": {}
      },
      "source": [
        "def yield_batches(x, y, epochs):\n",
        "    np.random.shuffle(x)\n",
        "    for e in range(epochs):\n",
        "        interval = x.shape[0] // epochs\n",
        "        yield x[int(e*interval): int((e + 1)*interval)], np.array(y[int(e*interval): int((e + 1)*interval)])[:, np.newaxis]"
      ],
      "execution_count": 0,
      "outputs": []
    },
    {
      "cell_type": "code",
      "metadata": {
        "id": "4RzNq5bNaLCM",
        "colab_type": "code",
        "colab": {}
      },
      "source": [
        "def compute_h(x, coef):\n",
        "    return 1 /(1 + np.exp(-np.dot(x, coef)))"
      ],
      "execution_count": 0,
      "outputs": []
    },
    {
      "cell_type": "code",
      "metadata": {
        "id": "M41vA-gGaLCP",
        "colab_type": "code",
        "colab": {}
      },
      "source": [
        "def compute_gradient(x, y, coef):\n",
        "    h = compute_h(x, coef)\n",
        "    return (h - y) * x "
      ],
      "execution_count": 0,
      "outputs": []
    },
    {
      "cell_type": "code",
      "metadata": {
        "id": "1PiifcOneX_l",
        "colab_type": "code",
        "colab": {}
      },
      "source": [
        "def compute_error_rate(x, y, coef):\n",
        "    pred = np.matmul(x, coef)\n",
        "    y = np.array(y)[:, np.newaxis]\n",
        "    return np.mean(1/2 * (np.power((pred - y), 2)))"
      ],
      "execution_count": 0,
      "outputs": []
    },
    {
      "cell_type": "code",
      "metadata": {
        "id": "B57bGbIYaLCQ",
        "colab_type": "code",
        "colab": {}
      },
      "source": [
        "def perform_sgd(x, y, learning_rate, lambda_, epochs, decrease = False, plot = True):\n",
        "    if type(x) != np.ndarray:\n",
        "        x = x.toarray()\n",
        "    x = np.concatenate((np.ones(len(x))[:, np.newaxis], x), axis = 1)\n",
        "    coef = np.zeros((x.shape[1], 1))\n",
        "    batches = yield_batches(x, y, epochs)\n",
        "    er = []\n",
        "    for i in range(epochs):\n",
        "        x_b , y_b = next(batches)\n",
        "        gradient = np.zeros((len(coef), 1))\n",
        "        error = compute_error_rate(x, y, coef)\n",
        "        er.append(error)\n",
        "        for j in range(len(x_b)):\n",
        "            gradient += (compute_gradient(x_b[j], y_b[j], coef)[:, np.newaxis]) \n",
        "        if decrease: \n",
        "            coef = coef - learning_rate/(i+1) * (gradient / len(x_b) + lambda_ * coef)\n",
        "        else: \n",
        "            coef = coef - learning_rate * (gradient / len(x_b) + lambda_ * coef)  \n",
        "        \n",
        "    if plot:\n",
        "        plt.plot(er, \"g\")\n",
        "\n",
        "    return coef"
      ],
      "execution_count": 0,
      "outputs": []
    },
    {
      "cell_type": "code",
      "metadata": {
        "id": "39n4DNVmJ_xO",
        "colab_type": "code",
        "colab": {}
      },
      "source": [
        "# Performing Stochastic Gradient Descent without decreasing learning rate"
      ],
      "execution_count": 0,
      "outputs": []
    },
    {
      "cell_type": "code",
      "metadata": {
        "id": "G4f1gFLNaLCS",
        "colab_type": "code",
        "outputId": "08ec9f54-8964-46bc-dd72-cc0e0ea3e7c7",
        "colab": {
          "base_uri": "https://localhost:8080/",
          "height": 265
        }
      },
      "source": [
        "coef = perform_sgd(sparse[:10000], train_label[:10000], 0.01, 0.1, 100, decrease = False, plot = True)"
      ],
      "execution_count": 53,
      "outputs": [
        {
          "output_type": "display_data",
          "data": {
            "image/png": "[encoded data removed]",
            "text/plain": [
              "<Figure size 432x288 with 1 Axes>"
            ]
          },
          "metadata": {
            "tags": [],
            "needs_background": "light"
          }
        }
      ]
    },
    {
      "cell_type": "code",
      "metadata": {
        "id": "JkOiIvemKHv0",
        "colab_type": "code",
        "colab": {}
      },
      "source": [
        "# Performing Stochastic Gradient Descent with decreasing learning rate"
      ],
      "execution_count": 0,
      "outputs": []
    },
    {
      "cell_type": "code",
      "metadata": {
        "id": "W0xXp5t-aa60",
        "colab_type": "code",
        "outputId": "ca4ca902-8e19-4cee-ccff-035be3b9d003",
        "colab": {
          "base_uri": "https://localhost:8080/",
          "height": 265
        }
      },
      "source": [
        "coef = perform_sgd(sparse[:10000], train_label[:10000], 0.01, 0.1, 100, decrease = True, plot = True)"
      ],
      "execution_count": 55,
      "outputs": [
        {
          "output_type": "display_data",
          "data": {
            "image/png": "[encoded data removed]",
            "text/plain": [
              "<Figure size 432x288 with 1 Axes>"
            ]
          },
          "metadata": {
            "tags": [],
            "needs_background": "light"
          }
        }
      ]
    },
    {
      "cell_type": "code",
      "metadata": {
        "id": "xpwrWUrnV9Z3",
        "colab_type": "code",
        "colab": {}
      },
      "source": [
        "# We can see that the error rate falls and converges as iterations proceed. \n",
        "# When we use decreasing learning rate, we can erase most of the noise that \n",
        "# causes oscillation and reach convergence much faster   "
      ],
      "execution_count": 0,
      "outputs": []
    },
    {
      "cell_type": "code",
      "metadata": {
        "id": "hX_ynuV-EicS",
        "colab_type": "code",
        "colab": {}
      },
      "source": [
        "# compute accuracy of the model by adopting misclassificaiton threshold as 0.5"
      ],
      "execution_count": 0,
      "outputs": []
    },
    {
      "cell_type": "code",
      "metadata": {
        "id": "8SrHOcmhaLCV",
        "colab_type": "code",
        "colab": {}
      },
      "source": [
        "def compute_mis(coef, x_n, y_n):\n",
        "    x = np.concatenate((np.ones(len(x_n))[:,np.newaxis], x_n), axis = 1)\n",
        "    eta = np.matmul(x, coef)\n",
        "    c = 0\n",
        "    for i in range(len(y_n)):\n",
        "        if eta[i] > 0:\n",
        "            if y_n[i] == 0:\n",
        "                c +=1\n",
        "        elif eta[i] < 0 :\n",
        "            if y_n[i] == 1:\n",
        "                c += 1\n",
        "    return c / len(y_n)"
      ],
      "execution_count": 0,
      "outputs": []
    },
    {
      "cell_type": "code",
      "metadata": {
        "id": "aP3drNUdJMO5",
        "colab_type": "code",
        "colab": {}
      },
      "source": [
        "# now, let's test with different lambdas and number of iterations "
      ],
      "execution_count": 0,
      "outputs": []
    },
    {
      "cell_type": "code",
      "metadata": {
        "id": "LtlSs6q4aLCX",
        "colab_type": "code",
        "outputId": "828a5044-ffdc-4433-fcaf-26efb1ae4555",
        "colab": {
          "base_uri": "https://localhost:8080/",
          "height": 948
        }
      },
      "source": [
        "s = sparse_val.toarray()\n",
        "lambda_s = [0.0001, 0.001, 0.01, 0.1, 1 , 10, 20, 30, 50, 100]\n",
        "epochs = [10, 50, 100, 500]\n",
        "for lam in lambda_s:\n",
        "    for epoch in epochs:\n",
        "        coef = perform_sgd(sparse[: 5000], train_label[: 5000], 0.01, lam, epoch, decrease = True, plot = True)\n",
        "        error = compute_mis(coef, s, val_label)\n",
        "        print(\"lambda: {} | epoch: {} | error rate: {}\".format(lam, epoch, error))"
      ],
      "execution_count": 60,
      "outputs": [
        {
          "output_type": "stream",
          "text": [
            "lambda: 0.0001 | epoch: 10 | error rate: 0.4554\n",
            "lambda: 0.0001 | epoch: 50 | error rate: 0.4554\n",
            "lambda: 0.0001 | epoch: 100 | error rate: 0.4554666666666667\n",
            "lambda: 0.0001 | epoch: 500 | error rate: 0.45586666666666664\n",
            "lambda: 0.001 | epoch: 10 | error rate: 0.4554\n",
            "lambda: 0.001 | epoch: 50 | error rate: 0.4554\n",
            "lambda: 0.001 | epoch: 100 | error rate: 0.4554\n",
            "lambda: 0.001 | epoch: 500 | error rate: 0.4554\n",
            "lambda: 0.01 | epoch: 10 | error rate: 0.4554\n",
            "lambda: 0.01 | epoch: 50 | error rate: 0.4554\n",
            "lambda: 0.01 | epoch: 100 | error rate: 0.4554\n",
            "lambda: 0.01 | epoch: 500 | error rate: 0.4554\n",
            "lambda: 0.1 | epoch: 10 | error rate: 0.4554\n",
            "lambda: 0.1 | epoch: 50 | error rate: 0.4554\n",
            "lambda: 0.1 | epoch: 100 | error rate: 0.4554\n",
            "lambda: 0.1 | epoch: 500 | error rate: 0.4552\n",
            "lambda: 1 | epoch: 10 | error rate: 0.4554\n",
            "lambda: 1 | epoch: 50 | error rate: 0.4554\n",
            "lambda: 1 | epoch: 100 | error rate: 0.4554\n",
            "lambda: 1 | epoch: 500 | error rate: 0.4554\n",
            "lambda: 10 | epoch: 10 | error rate: 0.4554\n",
            "lambda: 10 | epoch: 50 | error rate: 0.4554\n",
            "lambda: 10 | epoch: 100 | error rate: 0.4554\n",
            "lambda: 10 | epoch: 500 | error rate: 0.4554\n",
            "lambda: 20 | epoch: 10 | error rate: 0.4554\n",
            "lambda: 20 | epoch: 50 | error rate: 0.4554\n",
            "lambda: 20 | epoch: 100 | error rate: 0.4554\n",
            "lambda: 20 | epoch: 500 | error rate: 0.4554\n",
            "lambda: 30 | epoch: 10 | error rate: 0.4554\n",
            "lambda: 30 | epoch: 50 | error rate: 0.4554\n",
            "lambda: 30 | epoch: 100 | error rate: 0.4554\n",
            "lambda: 30 | epoch: 500 | error rate: 0.4554\n",
            "lambda: 50 | epoch: 10 | error rate: 0.4554\n",
            "lambda: 50 | epoch: 50 | error rate: 0.4554\n",
            "lambda: 50 | epoch: 100 | error rate: 0.4554\n",
            "lambda: 50 | epoch: 500 | error rate: 0.4554\n",
            "lambda: 100 | epoch: 10 | error rate: 0.4554\n",
            "lambda: 100 | epoch: 50 | error rate: 0.4554\n",
            "lambda: 100 | epoch: 100 | error rate: 0.4554\n",
            "lambda: 100 | epoch: 500 | error rate: 0.4554\n"
          ],
          "name": "stdout"
        },
        {
          "output_type": "display_data",
          "data": {
            "image/png": "[encoded data removed]",
            "text/plain": [
              "<Figure size 432x288 with 1 Axes>"
            ]
          },
          "metadata": {
            "tags": [],
            "needs_background": "light"
          }
        }
      ]
    },
    {
      "cell_type": "code",
      "metadata": {
        "id": "U6xDKQIAKm50",
        "colab_type": "code",
        "colab": {}
      },
      "source": [
        "# We can observe that the accuracy rate decreases as the size of batches \n",
        "# increase. The optimal value of lambda seems to be between 10 and 30.   \n",
        "# We can narrow down the scope of optimal lambdas and number of iterations. "
      ],
      "execution_count": 0,
      "outputs": []
    },
    {
      "cell_type": "code",
      "metadata": {
        "id": "8wUKc1xhaLCY",
        "colab_type": "code",
        "outputId": "a40c9414-b6ad-4cf2-b6d7-5cae852f50a1",
        "colab": {
          "base_uri": "https://localhost:8080/",
          "height": 877
        }
      },
      "source": [
        "lambda_s = [0.01, 0.05, 0.1, 1, 10, 15, 20, 25, 30]\n",
        "epochs = [250, 500, 750, 1000]\n",
        "error_rate = []\n",
        "lambda_ = []\n",
        "epoch_ = []\n",
        "for epoch in epochs:\n",
        "    for lam in lambda_s:\n",
        "        coef = perform_sgd(sparse[:5000], train_label[:5000], 0.01, lam, epoch, decrease = True)\n",
        "        error = compute_mis(coef, s, val_label)\n",
        "        print(\"lambda: {} | epoch: {} | error: {}\".format(lam, epoch, error))\n",
        "        error_rate.append(error)"
      ],
      "execution_count": 65,
      "outputs": [
        {
          "output_type": "stream",
          "text": [
            "lambda: 0.01 | epoch: 250 | error: 0.4554\n",
            "lambda: 0.05 | epoch: 250 | error: 0.4554\n",
            "lambda: 0.1 | epoch: 250 | error: 0.4554\n",
            "lambda: 1 | epoch: 250 | error: 0.4553333333333333\n",
            "lambda: 10 | epoch: 250 | error: 0.4554\n",
            "lambda: 15 | epoch: 250 | error: 0.4554\n",
            "lambda: 20 | epoch: 250 | error: 0.4554\n",
            "lambda: 25 | epoch: 250 | error: 0.4554\n",
            "lambda: 30 | epoch: 250 | error: 0.4554\n",
            "lambda: 0.01 | epoch: 500 | error: 0.45653333333333335\n",
            "lambda: 0.05 | epoch: 500 | error: 0.45626666666666665\n",
            "lambda: 0.1 | epoch: 500 | error: 0.4557333333333333\n",
            "lambda: 1 | epoch: 500 | error: 0.45953333333333335\n",
            "lambda: 10 | epoch: 500 | error: 0.4554\n",
            "lambda: 15 | epoch: 500 | error: 0.4554\n",
            "lambda: 20 | epoch: 500 | error: 0.4554\n",
            "lambda: 25 | epoch: 500 | error: 0.4554\n",
            "lambda: 30 | epoch: 500 | error: 0.4554\n",
            "lambda: 0.01 | epoch: 750 | error: 0.47673333333333334\n",
            "lambda: 0.05 | epoch: 750 | error: 0.46166666666666667\n",
            "lambda: 0.1 | epoch: 750 | error: 0.4554\n",
            "lambda: 1 | epoch: 750 | error: 0.45453333333333334\n",
            "lambda: 10 | epoch: 750 | error: 0.4554\n",
            "lambda: 15 | epoch: 750 | error: 0.4554666666666667\n",
            "lambda: 20 | epoch: 750 | error: 0.4554\n",
            "lambda: 25 | epoch: 750 | error: 0.4554\n",
            "lambda: 30 | epoch: 750 | error: 0.45593333333333336\n",
            "lambda: 0.01 | epoch: 1000 | error: 0.45553333333333335\n",
            "lambda: 0.05 | epoch: 1000 | error: 0.45613333333333334\n",
            "lambda: 0.1 | epoch: 1000 | error: 0.456\n",
            "lambda: 1 | epoch: 1000 | error: 0.46\n",
            "lambda: 10 | epoch: 1000 | error: 0.45553333333333335\n",
            "lambda: 15 | epoch: 1000 | error: 0.4554\n",
            "lambda: 20 | epoch: 1000 | error: 0.4554666666666667\n",
            "lambda: 25 | epoch: 1000 | error: 0.4554\n",
            "lambda: 30 | epoch: 1000 | error: 0.4554\n"
          ],
          "name": "stdout"
        },
        {
          "output_type": "display_data",
          "data": {
            "image/png": "[encoded data removed]",
            "text/plain": [
              "<Figure size 432x288 with 1 Axes>"
            ]
          },
          "metadata": {
            "tags": [],
            "needs_background": "light"
          }
        }
      ]
    },
    {
      "cell_type": "code",
      "metadata": {
        "id": "PjKpYBqjMQNj",
        "colab_type": "code",
        "outputId": "d469d00c-873c-4c0a-8346-c478c68d6035",
        "colab": {
          "base_uri": "https://localhost:8080/",
          "height": 296
        }
      },
      "source": [
        "plt.subplot(121)\n",
        "plt.plot(epochs * len(lambda_s) , error_rate,'bo')\n",
        "plt.xlabel(\"epochs\")\n",
        "plt.subplot(122)\n",
        "plt.plot(lambda_s * len(epochs), error_rate,'go')\n",
        "plt.xlabel(\"lambdas\")"
      ],
      "execution_count": 67,
      "outputs": [
        {
          "output_type": "execute_result",
          "data": {
            "text/plain": [
              "Text(0.5, 0, 'lambdas')"
            ]
          },
          "metadata": {
            "tags": []
          },
          "execution_count": 67
        },
        {
          "output_type": "display_data",
          "data": {
            "image/png": "[encoded data removed]",
            "text/plain": [
              "<Figure size 432x288 with 2 Axes>"
            ]
          },
          "metadata": {
            "tags": [],
            "needs_background": "light"
          }
        }
      ]
    },
    {
      "cell_type": "code",
      "metadata": {
        "id": "SxHC4eAZNZrd",
        "colab_type": "code",
        "colab": {}
      },
      "source": [
        "# The results show that the optimal lambda value and the number of epochs are \n",
        "# about 1 and 400 respectively(based on the sample of training data we used).\n",
        "# We can use these figures to model the test data   \n",
        "# and compare the results with the Logistic Regression function"
      ],
      "execution_count": 0,
      "outputs": []
    },
    {
      "cell_type": "code",
      "metadata": {
        "id": "D0wKFSvXNZ0y",
        "colab_type": "code",
        "colab": {}
      },
      "source": [
        "st = sparse_test.toarray()\n",
        "coef = perform_sgd(sparse[: 5000], train_label[: 5000], 0.01, 1, 750, decrease = True, plot = False)\n",
        "error = compute_mis(coef, st, test_label)"
      ],
      "execution_count": 0,
      "outputs": []
    },
    {
      "cell_type": "code",
      "metadata": {
        "id": "xfZV7vZyNZ6p",
        "colab_type": "code",
        "outputId": "42a2dc21-30aa-45b2-e0d4-d772bdabfea0",
        "colab": {
          "base_uri": "https://localhost:8080/",
          "height": 34
        }
      },
      "source": [
        "print(\"test error: \", error)"
      ],
      "execution_count": 69,
      "outputs": [
        {
          "output_type": "stream",
          "text": [
            "test error:  0.45053333333333334\n"
          ],
          "name": "stdout"
        }
      ]
    },
    {
      "cell_type": "code",
      "metadata": {
        "id": "X224fSWFNZ9d",
        "colab_type": "code",
        "colab": {}
      },
      "source": [
        "# Although the speed of computation is much faster for the stoichastic \n",
        "# gradient descent method, the logistic regression function in the previous \n",
        "# item was slightly more accurate. When we implemented stoichastic gradient \n",
        "# descent, the lowest error rate we could achieve on the test set was\n",
        "# only 0.4497"
      ],
      "execution_count": 0,
      "outputs": []
    },
    {
      "cell_type": "code",
      "metadata": {
        "id": "uKT9jJLjNZ_-",
        "colab_type": "code",
        "colab": {}
      },
      "source": [
        ""
      ],
      "execution_count": 0,
      "outputs": []
    },
    {
      "cell_type": "code",
      "metadata": {
        "id": "sCZLt1zAaLCb",
        "colab_type": "code",
        "colab": {}
      },
      "source": [
        "# Part 3: Scores versus text "
      ],
      "execution_count": 0,
      "outputs": []
    },
    {
      "cell_type": "code",
      "metadata": {
        "id": "YjYj9T4QIACq",
        "colab_type": "code",
        "colab": {}
      },
      "source": [
        "# Function that compiles the scores for other criteria "
      ],
      "execution_count": 0,
      "outputs": []
    },
    {
      "cell_type": "code",
      "metadata": {
        "id": "Vc5xGnMVaLCc",
        "colab_type": "code",
        "colab": {}
      },
      "source": [
        "def compile_scores(data):\n",
        "    lst = []\n",
        "    for i in range(len(data)):\n",
        "        lst.append([data.iloc[i]['appearance'], data.iloc[i]['aroma'],\\\n",
        "        data.iloc[i]['palate'], data.iloc[i]['style'], data.iloc[i]['taste']])\n",
        "    return np.array(lst)"
      ],
      "execution_count": 0,
      "outputs": []
    },
    {
      "cell_type": "code",
      "metadata": {
        "id": "d6ANJ3IPaLCd",
        "colab_type": "code",
        "colab": {}
      },
      "source": [
        "train_scores = compile_scores(train_data)"
      ],
      "execution_count": 0,
      "outputs": []
    },
    {
      "cell_type": "code",
      "metadata": {
        "id": "TkVc4kTMLPfy",
        "colab_type": "code",
        "colab": {}
      },
      "source": [
        "test_scores = compile_scores(test_data)\n",
        "val_scores = compile_scores(val_data)"
      ],
      "execution_count": 0,
      "outputs": []
    },
    {
      "cell_type": "code",
      "metadata": {
        "id": "XhBZ6rM3ZGgM",
        "colab_type": "code",
        "outputId": "d1e6004e-5ee6-480d-9484-273d6acf6387",
        "colab": {
          "base_uri": "https://localhost:8080/",
          "height": 265
        }
      },
      "source": [
        "coef = perform_sgd(val_scores[:5000], val_label[:5000], 0.01, 10, 500, decrease = True, plot = True)"
      ],
      "execution_count": 76,
      "outputs": [
        {
          "output_type": "display_data",
          "data": {
            "image/png": "[encoded data removed]",
            "text/plain": [
              "<Figure size 432x288 with 1 Axes>"
            ]
          },
          "metadata": {
            "tags": [],
            "needs_background": "light"
          }
        }
      ]
    },
    {
      "cell_type": "code",
      "metadata": {
        "id": "D_TxeijaZx5j",
        "colab_type": "code",
        "colab": {}
      },
      "source": [
        "# The results show that the loss function converges much quicker than the model\n",
        "# using only overall ratings "
      ],
      "execution_count": 0,
      "outputs": []
    },
    {
      "cell_type": "code",
      "metadata": {
        "id": "Y0s0kmAgaLCj",
        "colab_type": "code",
        "outputId": "5ae5b361-c44f-46e1-f270-ddf914dff197",
        "colab": {
          "base_uri": "https://localhost:8080/",
          "height": 374
        }
      },
      "source": [
        "lambda_s = [0.001, 0.01, 0.1, 1, 10, 100, 1000]\n",
        "epochs = [50, 100, 500]\n",
        "error = []\n",
        "epoch_ = []\n",
        "lambda_ = []\n",
        "for epoch in epochs:\n",
        "    for lam in lambda_s:\n",
        "        coef = perform_sgd(train_scores[:5000], train_label[:5000], 0.01, lam, \\\n",
        "                           epoch, decrease = True, plot = False)\n",
        "        e = compute_mis(coef, val_scores, val_label)\n",
        "        print(\"lambda: {} | epoch: {} | error:  {}\".format(lam, epoch, e))\n",
        "        epoch_.append(epoch)\n",
        "        lambda_.append(lam)\n",
        "        error.append(e)"
      ],
      "execution_count": 78,
      "outputs": [
        {
          "output_type": "stream",
          "text": [
            "lambda: 0.001 | epoch: 50 | error:  0.4554\n",
            "lambda: 0.01 | epoch: 50 | error:  0.4554\n",
            "lambda: 0.1 | epoch: 50 | error:  0.4554\n",
            "lambda: 1 | epoch: 50 | error:  0.4554\n",
            "lambda: 10 | epoch: 50 | error:  0.4554\n",
            "lambda: 100 | epoch: 50 | error:  0.4554\n",
            "lambda: 1000 | epoch: 50 | error:  0.4612\n",
            "lambda: 0.001 | epoch: 100 | error:  0.4554\n",
            "lambda: 0.01 | epoch: 100 | error:  0.4554\n",
            "lambda: 0.1 | epoch: 100 | error:  0.4554\n",
            "lambda: 1 | epoch: 100 | error:  0.4554\n",
            "lambda: 10 | epoch: 100 | error:  0.4554\n",
            "lambda: 100 | epoch: 100 | error:  0.4554\n",
            "lambda: 1000 | epoch: 100 | error:  0.4554\n",
            "lambda: 0.001 | epoch: 500 | error:  0.4996\n",
            "lambda: 0.01 | epoch: 500 | error:  0.45213333333333333\n",
            "lambda: 0.1 | epoch: 500 | error:  0.4554\n",
            "lambda: 1 | epoch: 500 | error:  0.4554\n",
            "lambda: 10 | epoch: 500 | error:  0.46026666666666666\n",
            "lambda: 100 | epoch: 500 | error:  0.4554\n",
            "lambda: 1000 | epoch: 500 | error:  0.4554\n"
          ],
          "name": "stdout"
        }
      ]
    },
    {
      "cell_type": "code",
      "metadata": {
        "id": "Bizdzxc3cLiZ",
        "colab_type": "code",
        "outputId": "742748a3-bfb9-4aa1-a9a6-a479f1d65aa8",
        "colab": {
          "base_uri": "https://localhost:8080/",
          "height": 296
        }
      },
      "source": [
        "plt.subplot(121)\n",
        "plt.plot(epochs * len(lambda_s), error,'go')\n",
        "plt.xlabel(\"epoch\")\n",
        "plt.subplot(122)\n",
        "plt.plot(lambda_s * len(epochs), error,'ro')\n",
        "plt.xlabel(\"lambda\")"
      ],
      "execution_count": 79,
      "outputs": [
        {
          "output_type": "execute_result",
          "data": {
            "text/plain": [
              "Text(0.5, 0, 'lambda')"
            ]
          },
          "metadata": {
            "tags": []
          },
          "execution_count": 79
        },
        {
          "output_type": "display_data",
          "data": {
            "image/png": "[encoded data removed]",
            "text/plain": [
              "<Figure size 432x288 with 2 Axes>"
            ]
          },
          "metadata": {
            "tags": [],
            "needs_background": "light"
          }
        }
      ]
    },
    {
      "cell_type": "code",
      "metadata": {
        "id": "ZcQKKzSxX21I",
        "colab_type": "code",
        "colab": {}
      },
      "source": [
        "# Computing the prediction error on the testing set "
      ],
      "execution_count": 0,
      "outputs": []
    },
    {
      "cell_type": "code",
      "metadata": {
        "id": "IFI3-12SaEH5",
        "colab_type": "code",
        "outputId": "cbea602a-7156-41fe-f277-4c42b898cb17",
        "colab": {
          "base_uri": "https://localhost:8080/",
          "height": 286
        }
      },
      "source": [
        "coef2 = perform_sgd(train_scores[:5000], train_label[:5000], 0.01, 0.01, 500, decrease = True, plot = True)\n",
        "error2 = compute_mis(coef2, test_scores, test_label)\n",
        "print(\"test error: \", error2)"
      ],
      "execution_count": 80,
      "outputs": [
        {
          "output_type": "stream",
          "text": [
            "test error:  0.4534\n"
          ],
          "name": "stdout"
        },
        {
          "output_type": "display_data",
          "data": {
            "image/png": "[encoded data removed]",
            "text/plain": [
              "<Figure size 432x288 with 1 Axes>"
            ]
          },
          "metadata": {
            "tags": [],
            "needs_background": "light"
          }
        }
      ]
    },
    {
      "cell_type": "code",
      "metadata": {
        "id": "9SEHAorqaLCk",
        "colab_type": "code",
        "colab": {}
      },
      "source": [
        "# In general, the previous model to which we fed overall reviews is more \n",
        "# effective because the score models have generated higher error rates. The \n",
        "# results are acceptable considering the fact that texts provide more information \n",
        "# about ratings than mere numbers. "
      ],
      "execution_count": 0,
      "outputs": []
    },
    {
      "cell_type": "code",
      "metadata": {
        "id": "w-dI2SUlaLCl",
        "colab_type": "code",
        "colab": {}
      },
      "source": [
        ""
      ],
      "execution_count": 0,
      "outputs": []
    },
    {
      "cell_type": "code",
      "metadata": {
        "id": "6wldpvKBaLCm",
        "colab_type": "code",
        "colab": {}
      },
      "source": [
        ""
      ],
      "execution_count": 0,
      "outputs": []
    },
    {
      "cell_type": "code",
      "metadata": {
        "id": "O0XsjfdAaLCn",
        "colab_type": "code",
        "colab": {}
      },
      "source": [
        ""
      ],
      "execution_count": 0,
      "outputs": []
    },
    {
      "cell_type": "code",
      "metadata": {
        "id": "IATLUbpnaLCo",
        "colab_type": "code",
        "colab": {}
      },
      "source": [
        ""
      ],
      "execution_count": 0,
      "outputs": []
    }
  ]
}