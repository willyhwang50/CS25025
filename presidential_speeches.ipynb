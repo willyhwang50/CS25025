{
 "cells": [
  {
   "cell_type": "code",
   "execution_count": 1,
   "metadata": {},
   "outputs": [],
   "source": [
    "# (a)"
   ]
  },
  {
   "cell_type": "code",
   "execution_count": 158,
   "metadata": {},
   "outputs": [],
   "source": [
    "import json \n",
    "import numpy as np\n",
    "import matplotlib.pyplot as plt\n",
    "import math "
   ]
  },
  {
   "cell_type": "code",
   "execution_count": 3,
   "metadata": {},
   "outputs": [],
   "source": [
    "#load json file "
   ]
  },
  {
   "cell_type": "code",
   "execution_count": 4,
   "metadata": {},
   "outputs": [],
   "source": [
    "f = open('./speeches.json', 'rb')\n",
    "speeches = []\n",
    "for line in f: \n",
    "    speeches.append(json.loads(line))"
   ]
  },
  {
   "cell_type": "code",
   "execution_count": 5,
   "metadata": {},
   "outputs": [],
   "source": [
    "#parse each SOU address"
   ]
  },
  {
   "cell_type": "code",
   "execution_count": 32,
   "metadata": {},
   "outputs": [],
   "source": [
    "sou_lst = []\n",
    "sou = len(speeches) \n",
    "for i in range(sou):\n",
    "    txt = speeches[i]['text']\n",
    "    txt.replace(\"\\r\", \"\")\n",
    "    txt.replace(\"\\n\", \"\")\n",
    "    txt.replace(\"?\", \".\")\n",
    "    txt.replace(\"!\", \".\")\n",
    "    txt.replace(\";\", \".\")\n",
    "    sou_lst.append(txt.split(\".\"))"
   ]
  },
  {
   "cell_type": "code",
   "execution_count": null,
   "metadata": {},
   "outputs": [],
   "source": [
    "# (b)"
   ]
  },
  {
   "cell_type": "code",
   "execution_count": 7,
   "metadata": {},
   "outputs": [],
   "source": [
    "#find the number of sentences in an address "
   ]
  },
  {
   "cell_type": "code",
   "execution_count": 8,
   "metadata": {},
   "outputs": [],
   "source": [
    "def count_sentences(sou_lst):\n",
    "    sentences = []\n",
    "    for sou in sou_lst:\n",
    "        sentences.append(len(sou))\n",
    "    return sentences"
   ]
  },
  {
   "cell_type": "code",
   "execution_count": 11,
   "metadata": {},
   "outputs": [
    {
     "data": {
      "text/plain": [
       "[' To the Senate and House of Representatives:\\r\\n\\r\\n \\r\\n\\r\\nIt gives me pleasure to extend greeting to the Fifty-fifth Congress, assembled in regular session at the seat of Government, with many of whose Senators and Representatives I have been associated in the legislative service',\n",
       " ' Their meeting occurs under felicitous conditions, justifying sincere congratulation and calling for our grateful acknowledgment to a beneficent Providence which has so signally blessed and prospered us as a nation',\n",
       " ' Peace and good will with all the nations of the earth continue unbroken',\n",
       " '\\r\\n\\r\\nA matter of genuine satisfaction is the growing feeling of fraternal regard and unification of all sections of our country, the incompleteness of which has too long delayed realization of the highest blessings of the Union',\n",
       " ' The spirit of patriotism is universal and is ever increasing in fervor']"
      ]
     },
     "execution_count": 11,
     "metadata": {},
     "output_type": "execute_result"
    }
   ],
   "source": [
    "sentences = count_sentences(sou_lst)\n",
    "sentences[:5]\n",
    "sou_lst[1][:5]"
   ]
  },
  {
   "cell_type": "code",
   "execution_count": 12,
   "metadata": {},
   "outputs": [],
   "source": [
    "# compute average length of sentences for each address\n",
    "# define'word' as strings separated by blanks (spaces)"
   ]
  },
  {
   "cell_type": "code",
   "execution_count": 13,
   "metadata": {},
   "outputs": [],
   "source": [
    "def count_mean_length(sou_lst):\n",
    "    mean_len = [] \n",
    "    for sou in sou_lst:\n",
    "        sentences = []\n",
    "        for s in sou: \n",
    "            words = s.split(\" \")\n",
    "            sentences.append(len(words))\n",
    "        mean_len.append(np.mean(sentences))\n",
    "    return mean_len"
   ]
  },
  {
   "cell_type": "code",
   "execution_count": 15,
   "metadata": {
    "scrolled": true
   },
   "outputs": [
    {
     "data": {
      "text/plain": [
       "[35.10650887573964,\n",
       " 32.215584415584416,\n",
       " 22.829457364341085,\n",
       " 18.98918918918919,\n",
       " 46.6986301369863]"
      ]
     },
     "execution_count": 15,
     "metadata": {},
     "output_type": "execute_result"
    }
   ],
   "source": [
    "mean_len = count_mean_length(sou_lst)\n",
    "mean_len[:5]"
   ]
  },
  {
   "cell_type": "code",
   "execution_count": 84,
   "metadata": {},
   "outputs": [],
   "source": [
    "#directly compute the linear regression "
   ]
  },
  {
   "cell_type": "code",
   "execution_count": 112,
   "metadata": {},
   "outputs": [],
   "source": [
    "def compute_linear_regression(x, y):\n",
    "    X_matrix = np.vstack((np.array([1 for i in range(len(x))]), np.array(x)))\n",
    "    X_matrix = np.array(X_matrix.T, dtype = float)\n",
    "    Y_matrix = np.array(y, dtype = float)\n",
    "    beta = np.matmul(np.matmul(np.linalg.inv(np.matmul(X_matrix.T, X_matrix)), X_matrix.T), Y_matrix)\n",
    "    \n",
    "    return np.matmul(X_matrix, beta), beta"
   ]
  },
  {
   "cell_type": "code",
   "execution_count": 113,
   "metadata": {},
   "outputs": [
    {
     "data": {
      "text/plain": [
       "[1821, 1897, 1960, 1923, 1816]"
      ]
     },
     "execution_count": 113,
     "metadata": {},
     "output_type": "execute_result"
    }
   ],
   "source": [
    "year = [int(s['year']) for s in speeches]\n",
    "year[:5]"
   ]
  },
  {
   "cell_type": "code",
   "execution_count": 114,
   "metadata": {},
   "outputs": [],
   "source": [
    "#plot regression for number of sentences and year "
   ]
  },
  {
   "cell_type": "code",
   "execution_count": 115,
   "metadata": {},
   "outputs": [
    {
     "data": {
      "image/png": "[encoded data removed]",
      "text/plain": [
       "<Figure size 432x288 with 1 Axes>"
      ]
     },
     "metadata": {
      "needs_background": "light"
     },
     "output_type": "display_data"
    }
   ],
   "source": [
    "plt.scatter(year, sentences)\n",
    "y_1, beta_1 = compute_linear_regression(year, sentences)\n",
    "plt.plot(year, y_1)\n",
    "plt.xlabel(\"year\")\n",
    "plt.ylabel(\"number of sentences\")\n",
    "plt.show()"
   ]
  },
  {
   "cell_type": "code",
   "execution_count": 116,
   "metadata": {},
   "outputs": [],
   "source": [
    "#plot regression for mean sentence length and year "
   ]
  },
  {
   "cell_type": "code",
   "execution_count": 117,
   "metadata": {},
   "outputs": [
    {
     "data": {
      "image/png": "[encoded data removed]",
      "text/plain": [
       "<Figure size 432x288 with 1 Axes>"
      ]
     },
     "metadata": {
      "needs_background": "light"
     },
     "output_type": "display_data"
    }
   ],
   "source": [
    "plt.scatter(year, mean_len)\n",
    "y_2, beta_2 = compute_linear_regression(year, mean_len)\n",
    "plt.plot(year, y_2)\n",
    "plt.xlabel(\"year\")\n",
    "plt.ylabel(\"mean sentence length\")\n",
    "plt.show()"
   ]
  },
  {
   "cell_type": "code",
   "execution_count": 118,
   "metadata": {},
   "outputs": [
    {
     "data": {
      "text/plain": [
       "'\\nimplementing different parsing rules \\n- remove prefix from list of sentences (Mr. Mrs. Ms.)\\n- remove blanks, numbers, and initials from list of sentences \\n- consider ? ! as sentence parsers\\n'"
      ]
     },
     "execution_count": 118,
     "metadata": {},
     "output_type": "execute_result"
    }
   ],
   "source": [
    "'''\n",
    "implementing different parsing rules \n",
    "- remove prefix from list of sentences (Mr. Mrs. Ms.)\n",
    "- remove blanks, numbers, and initials from list of sentences \n",
    "- consider ? ! as sentence parsers\n",
    "'''"
   ]
  },
  {
   "cell_type": "code",
   "execution_count": null,
   "metadata": {},
   "outputs": [],
   "source": []
  },
  {
   "cell_type": "code",
   "execution_count": null,
   "metadata": {},
   "outputs": [],
   "source": []
  },
  {
   "cell_type": "code",
   "execution_count": 119,
   "metadata": {},
   "outputs": [],
   "source": [
    "new_sou_lst = []\n",
    "for s in sou_lst: \n",
    "    new_sentence = [sentence for sentence in s if sentence != \" \" and sentence != '']\n",
    "    for sentence in new_sentence:\n",
    "        if sentence in [\"Mr\", \"Mrs\", \"Ms\", \" Mr\", \" Ms\", \" Mrs\", \"Dr\", \" Dr\"]:\n",
    "            new_sentence.remove(sentence)\n",
    "        if len(sentence) == 1 and ord(sentence) >= 65 and ord(sentence) <= 90:\n",
    "            new_sentence.remove(sentence)\n",
    "        if sentence.lstrip(\"0\").isdigit(): \n",
    "            new_sentence.remove(sentence)\n",
    "    new_sou_lst.append(new_sentence)"
   ]
  },
  {
   "cell_type": "code",
   "execution_count": 120,
   "metadata": {},
   "outputs": [
    {
     "data": {
      "text/plain": [
       "'\\nwhen we compare the number of very short sentences \\nbefore and after the operation, we can see that the \\nnumber of very short sentences has decreased drastically\\n'"
      ]
     },
     "execution_count": 120,
     "metadata": {},
     "output_type": "execute_result"
    }
   ],
   "source": [
    "'''\n",
    "when we compare the number of very short sentences \n",
    "before and after the operation, we can see that the \n",
    "number of very short sentences has decreased drastically\n",
    "'''"
   ]
  },
  {
   "cell_type": "code",
   "execution_count": 121,
   "metadata": {},
   "outputs": [
    {
     "data": {
      "text/plain": [
       "1271"
      ]
     },
     "execution_count": 121,
     "metadata": {},
     "output_type": "execute_result"
    }
   ],
   "source": [
    "ss = []\n",
    "for s in sou_lst: \n",
    "    for sentence in s: \n",
    "        if len(sentence) <= 3: \n",
    "            ss.append(sentence)\n",
    "len(ss)"
   ]
  },
  {
   "cell_type": "code",
   "execution_count": 122,
   "metadata": {},
   "outputs": [
    {
     "data": {
      "text/plain": [
       "131"
      ]
     },
     "execution_count": 122,
     "metadata": {},
     "output_type": "execute_result"
    }
   ],
   "source": [
    "ss_new = [] \n",
    "for s in new_sou_lst: \n",
    "    for sentence in s: \n",
    "        if len(sentence) <= 3: \n",
    "            ss_new.append(sentence)\n",
    "len(ss_new)"
   ]
  },
  {
   "cell_type": "code",
   "execution_count": 123,
   "metadata": {},
   "outputs": [],
   "source": [
    "#plot linear regression for year and number of cleaned sentences "
   ]
  },
  {
   "cell_type": "code",
   "execution_count": null,
   "metadata": {},
   "outputs": [],
   "source": [
    "new_sentences = count_sentences(new_sou_lst)\n",
    "new_mean_len = count_mean_length(new_sou_lst)"
   ]
  },
  {
   "cell_type": "code",
   "execution_count": 128,
   "metadata": {},
   "outputs": [
    {
     "data": {
      "image/png": "[encoded data removed]",
      "text/plain": [
       "<Figure size 1080x720 with 2 Axes>"
      ]
     },
     "metadata": {
      "needs_background": "light"
     },
     "output_type": "display_data"
    }
   ],
   "source": [
    "fig = plt.figure(figsize = (15, 10))\n",
    "plt.subplot(221)\n",
    "plt.scatter(year, sentences)\n",
    "plt.plot(year, y_1)\n",
    "plt.xlabel(\"year\")\n",
    "plt.ylabel(\"number of sentences\")\n",
    "\n",
    "plt.subplot(222)\n",
    "plt.scatter(year, new_sentences)\n",
    "y_1p, beta_1p = compute_linear_regression(year, new_sentences)\n",
    "plt.plot(year, y_1p)\n",
    "plt.xlabel(\"year\")\n",
    "plt.ylabel(\"number of sentences\")\n",
    "plt.show()"
   ]
  },
  {
   "cell_type": "code",
   "execution_count": 129,
   "metadata": {},
   "outputs": [],
   "source": [
    "#plot linear regression for year and new mean sentence lengths "
   ]
  },
  {
   "cell_type": "code",
   "execution_count": 131,
   "metadata": {},
   "outputs": [
    {
     "data": {
      "image/png": "[encoded data removed]",
      "text/plain": [
       "<Figure size 1080x720 with 2 Axes>"
      ]
     },
     "metadata": {
      "needs_background": "light"
     },
     "output_type": "display_data"
    }
   ],
   "source": [
    "fig = plt.figure(figsize = (15, 10))\n",
    "plt.subplot(221)\n",
    "plt.scatter(year, mean_len)\n",
    "plt.plot(year, y_2p)\n",
    "plt.xlabel(\"year\")\n",
    "plt.ylabel(\"mean sentence length\")\n",
    "\n",
    "plt.subplot(222)\n",
    "plt.scatter(year, new_mean_len)\n",
    "y_2p, beta_2p = compute_linear_regression(year, new_mean_len)\n",
    "plt.plot(year, y_2p)\n",
    "plt.xlabel(\"year\")\n",
    "plt.ylabel(\"mean sentence length\")\n",
    "plt.show()"
   ]
  },
  {
   "cell_type": "code",
   "execution_count": 132,
   "metadata": {},
   "outputs": [
    {
     "data": {
      "text/plain": [
       "'\\nEven after we implemented different sentence parsing rules and segregated \\nbroken sentences, the overall trends did not change. As years passed, the \\nnumber of sentences increased and the mean length of sentences decreased. \\n'"
      ]
     },
     "execution_count": 132,
     "metadata": {},
     "output_type": "execute_result"
    }
   ],
   "source": [
    "#describe trends and compare results \n",
    "\n",
    "'''\n",
    "Even after we implemented different sentence parsing rules and segregated \n",
    "broken sentences, the overall trends did not change. As years passed, the \n",
    "number of sentences increased and the mean length of sentences decreased. \n",
    "'''"
   ]
  },
  {
   "cell_type": "code",
   "execution_count": 133,
   "metadata": {},
   "outputs": [],
   "source": [
    "# (c)"
   ]
  },
  {
   "cell_type": "code",
   "execution_count": 135,
   "metadata": {},
   "outputs": [],
   "source": [
    "word_count_before = []\n",
    "word_count_after = []\n",
    "year_before = []\n",
    "year_after = []\n",
    "for i in range(len(year)):\n",
    "    if year[i] >= 1790 and year[i] <= 1912:\n",
    "        word_count = 0 \n",
    "        for s in sou_lst[i]:\n",
    "            word_count += len(s)\n",
    "        word_count_before.append(word_count)\n",
    "        year_before.append(year[i])\n",
    "    else: \n",
    "        word_count = 0\n",
    "        for s in sou_lst[i]:\n",
    "            word_count += len(s)\n",
    "        word_count_after.append(word_count)\n",
    "        year_after.append(year[i])"
   ]
  },
  {
   "cell_type": "code",
   "execution_count": 138,
   "metadata": {},
   "outputs": [],
   "source": [
    "# plot linear regression for year before 1912 and total number of words"
   ]
  },
  {
   "cell_type": "code",
   "execution_count": 139,
   "metadata": {},
   "outputs": [
    {
     "data": {
      "image/png": "[encoded data removed]",
      "text/plain": [
       "<Figure size 432x288 with 1 Axes>"
      ]
     },
     "metadata": {
      "needs_background": "light"
     },
     "output_type": "display_data"
    }
   ],
   "source": [
    "plt.scatter(year_before, word_count_before)\n",
    "y_3, beta_3 = compute_linear_regression(year_before, word_count_before)\n",
    "plt.xlabel(\"year\")\n",
    "plt.ylabel(\"total number of words\")\n",
    "plt.plot(year_before, y_3)\n",
    "plt.show()"
   ]
  },
  {
   "cell_type": "code",
   "execution_count": 140,
   "metadata": {},
   "outputs": [],
   "source": [
    "#plot linear regression for years after 1912 and total number of words"
   ]
  },
  {
   "cell_type": "code",
   "execution_count": 141,
   "metadata": {},
   "outputs": [
    {
     "data": {
      "image/png": "[encoded data removed]",
      "text/plain": [
       "<Figure size 432x288 with 1 Axes>"
      ]
     },
     "metadata": {
      "needs_background": "light"
     },
     "output_type": "display_data"
    }
   ],
   "source": [
    "plt.scatter(year_after, word_count_after)\n",
    "y_4, beta_4 = compute_linear_regression(year_after, word_count_after)\n",
    "plt.xlabel(\"year\")\n",
    "plt.ylabel(\"total number of words\")\n",
    "plt.plot(year_after, y_4)\n",
    "plt.show()"
   ]
  },
  {
   "cell_type": "code",
   "execution_count": 131,
   "metadata": {},
   "outputs": [],
   "source": [
    "# describe the trends you see \n",
    "\n",
    "'''\n",
    "The results show that before 1912, the total number of words in\n",
    "a State of the Union speech had steadily increased over time. However, \n",
    "by 1912, there was an abrupt change in the trend. The total number \n",
    "of words dropped to pre-1840 levels and more or less stayed the same \n",
    "afterwards until the present. \n",
    "\n",
    "After some basic research, I was able to learn that the State of the \n",
    "Union speech originated from the practice of delivering an annual report\n",
    "on the administrative matters of the executive branch during the past year. However, \n",
    "since President Wilson, the SOU became an effective podium for the head of \n",
    "state to further his political agenda and solicit support from the \n",
    "members of the legislature. The SOU was part of a campaign and policy \n",
    "driven performance, rather than a vocalized annal. \n",
    "\n",
    "As a result, SOU speeches became shorter and more dynamic, leading to impactful\n",
    "sentences and shorter speeches. The plots above collectively illustrate these trends. \n",
    "'''"
   ]
  },
  {
   "cell_type": "code",
   "execution_count": 132,
   "metadata": {},
   "outputs": [],
   "source": [
    "#(d)"
   ]
  },
  {
   "cell_type": "code",
   "execution_count": 142,
   "metadata": {},
   "outputs": [],
   "source": [
    "presidents = [s[\"president\"] for s in speeches]"
   ]
  },
  {
   "cell_type": "code",
   "execution_count": 143,
   "metadata": {},
   "outputs": [
    {
     "data": {
      "text/plain": [
       "['James Monroe',\n",
       " 'William McKinley',\n",
       " 'Dwight D. Eisenhower',\n",
       " 'Calvin Coolidge',\n",
       " 'James Madison']"
      ]
     },
     "execution_count": 143,
     "metadata": {},
     "output_type": "execute_result"
    }
   ],
   "source": [
    "presidents[:5]"
   ]
  },
  {
   "cell_type": "code",
   "execution_count": 146,
   "metadata": {},
   "outputs": [
    {
     "name": "stdout",
     "output_type": "stream",
     "text": [
      "longest:  James Madison 50.492063492063494\n",
      "shortest:  George W. Bush 16.301754385964912\n",
      "median:  Theodore Roosevelt 35.60914454277286\n",
      "25%:  James Monroe 37.48062015503876\n",
      "75%:  Ronald Reagan 20.754789272030653\n"
     ]
    }
   ],
   "source": [
    "sorted_mean_len = sorted(mean_len)\n",
    "longest = sorted_mean_len[-1]\n",
    "longest_p = presidents[mean_len.index(longest)]\n",
    "print(\"longest: \", longest_p, longest)\n",
    "\n",
    "shortest = sorted_mean_len[0]\n",
    "shortest_p = presidents[mean_len.index(shortest)]\n",
    "print(\"shortest: \", shortest_p, shortest)\n",
    "\n",
    "median = mean_len[len(sorted_mean_len) // 2]\n",
    "median_p = presidents[mean_len.index(median)]\n",
    "print(\"median: \", median_p, median)\n",
    "\n",
    "first_q = mean_len[len(sorted_mean_len) // 4]\n",
    "first_q_p = presidents[mean_len.index(first_q)]\n",
    "print(\"25%: \", first_q_p, first_q)\n",
    "\n",
    "third_q = mean_len[math.floor(len(sorted_mean_len) * (3 / 4))]\n",
    "third_q_p = presidents[mean_len.index(third_q)]\n",
    "print(\"75%: \", third_q_p, third_q)\n"
   ]
  },
  {
   "cell_type": "code",
   "execution_count": 148,
   "metadata": {},
   "outputs": [],
   "source": [
    "long = None\n",
    "short = None \n",
    "long_len = 0 \n",
    "short_len  = math.inf"
   ]
  },
  {
   "cell_type": "code",
   "execution_count": 156,
   "metadata": {},
   "outputs": [
    {
     "name": "stdout",
     "output_type": "stream",
     "text": [
      "longest text length:  610\n",
      "shortest text length:  1\n",
      "longest text:    \r\n",
      "\r\n",
      "Over the past 48 months, clear progress has been made in solving the challenges we found in January of 1977:  \r\n",
      "\r\n",
      " almost all of our comprehensive energy program have been enacted, and the Department of Energy has been established to administer the program;  \r\n",
      "\r\n",
      " confidence in the government's integrity has been restored, and respect for the government's openness and fairness has been renewed;  \r\n",
      "\r\n",
      " the government has been made more effective and efficient: the Civil Service system was completely reformed for the first time this century; 14 reorganization initiatives have been proposed to the Congress, approved, and implemented; two new Cabinet departments have been created to consolidate and streamline the government's handling of energy and education problems; inspectors general have been placed in each Cabinet department to combat fraud, waste and other abuses; the regulatory process has been reformed through creation of the Regulatory Council, implementation of Executive Order 12044 and its requirement for cost-impact analyses, elimination of unnecessary regulation, and passage of the Regulatory Flexibility Act; procedures have been established to assure citizen participation in government; and the airline, trucking, rail and communications industries are being deregulated;  \r\n",
      "\r\n",
      " critical social problems, many long ignored by the Federal government, have been addressed directly; an urban policy was developed and implemented to reverse the decline in our urban areas; the Social Security System was refinanced to put it on a sound financial basis; the Humphrey-Hawkins Full Employment Act was enacted; Federal assistance for education was expanded by more than 75 percent; the minimum wage was increased to levels needed to ease the effects of inflation; affirmative action has been pursued aggressively-more blacks, Hispanics and women have been appointed to senior government positions and to judgeships than at any other time in our history; the ERA ratification deadline was extended to aid the ratification effort; and minority business procurement by the Federal government has more than doubled;  \r\n",
      "\r\n",
      " the Nation's first sectoral policies were put in place, for the auto and steel industries, with my Administration demonstrating the value of cooperation between the government, business and labor;  \r\n",
      "\r\n",
      " reversing previous trends, real defense spending has increased every year since 1977; the real increase in FY 1980 defense spending is well above 3 percent and I expect FY 1981 defense spending to be even higher; looking ahead, the defense program I am proposing is premised on a real increase in defense spending over the next five years of 20 percent or more;  \r\n",
      "\r\n",
      " the NATO Alliance has proven its unity in responding to the situations in Eastern Europe and Southwest Asia and in agreeing on the issues to be addressed in the review of the Helsinki Final Act currently underway in Madrid;  \r\n",
      "\r\n",
      " the peace process in the Middle East established at Camp David and by the Peace Treaty between Egypt and Israel is being buttressed on two fronts: steady progress in the normalization of Egyptian-Israeli relations in many fields, and the commitment of both Egypt and Israel, with United States' assistance, to see through to successful conclusion the autonomy negotiations for the West Bank and Gaza;  \r\n",
      "\r\n",
      " the Panama Canal Treaties have been put into effect, which has helped to improve relations with Latin America;  \r\n",
      "\r\n",
      " we have continued this Nation's strong commitment to the pursuit of human rights throughout the world, evenhandedly and objectively; our commitment to a worldwide human rights policy has remained firm; and many other countries have given high priority to it;  \r\n",
      "\r\n",
      " our resolve to oppose aggression, such as the illegal invasion of the Soviet Union into Afghanistan, has been supported by tough action\n",
      "shortest text:  \r\n",
      "\r\n",
      "Mr\n"
     ]
    }
   ],
   "source": [
    "for s in new_sou_lst: \n",
    "    for sentence in s: \n",
    "        words = sentence.split(\" \")\n",
    "        if len(words) < short_len: \n",
    "            short = sentence\n",
    "            short_len = len(words)\n",
    "        if len(words) > long_len:\n",
    "            long = sentence \n",
    "            long_len = len(words)\n",
    "\n",
    "\n",
    "print(\"longest text length: \", long_len)\n",
    "print(\"shortest text length: \", short_len)\n",
    "\n",
    "print(\"longest text: \", long)\n",
    "print(\"shortest text: \", short)\n",
    "\n"
   ]
  },
  {
   "cell_type": "code",
   "execution_count": 158,
   "metadata": {},
   "outputs": [],
   "source": [
    "#Since Mr is not a word, let's take a look at \n",
    "#some one word sentences"
   ]
  },
  {
   "cell_type": "code",
   "execution_count": 157,
   "metadata": {},
   "outputs": [
    {
     "name": "stdout",
     "output_type": "stream",
     "text": [
      "\r\n",
      "\r\n",
      "Mr\n",
      "\r\n",
      "\r\n",
      "Hon\n",
      "\r\n",
      "\r\n",
      "\n",
      "\r\n",
      "\r\n",
      "Second\n",
      "\r\n",
      "\r\n",
      "Third\n",
      "\r\n",
      "\r\n",
      "\n",
      "\r\n",
      "\r\n",
      "Mr\n",
      "\r\n",
      "\r\n",
      "\n",
      "\r\n",
      "\r\n",
      "\n",
      "\r\n",
      "\r\n",
      "\n",
      "m\n",
      "\r\n",
      "\r\n",
      "\n",
      "\r\n",
      "\r\n",
      "\n",
      "\r\n",
      "\r\n",
      "\n",
      "\r\n",
      "\r\n",
      "2\n",
      "\r\n",
      "\r\n",
      "3\n",
      "\r\n",
      "\r\n",
      "\n",
      "\r\n",
      "\r\n",
      "Second\n",
      "A\n",
      "A\n",
      "\r\n",
      "\r\n",
      "\n",
      "\r\n",
      "\r\n",
      "\n",
      "\r\n",
      "\r\n",
      "\n",
      "\r\n",
      "\r\n",
      "II\n",
      "\r\n",
      "\r\n",
      "III\n",
      "\r\n",
      "\r\n",
      "IV\n",
      "\r\n",
      "\r\n",
      "Second\n",
      "\r\n",
      "\r\n",
      "Third\n",
      "\r\n",
      "\r\n",
      "Second\n",
      "\r\n",
      "\r\n",
      "Fourth\n",
      "\r\n",
      "\r\n",
      "Fifth\n",
      "\r\n",
      "\r\n",
      "Second\n",
      "\r\n",
      "\r\n",
      "Third\n",
      "\r\n",
      "\r\n",
      "Fourth\n",
      "\r\n",
      "\r\n",
      "Fifth\n",
      "\r\n",
      "\r\n",
      "Mr\n",
      "\r\n",
      "\r\n",
      "\n",
      "m\n",
      "\r\n",
      "\r\n",
      "\n",
      "'\n",
      "\r\n",
      "\r\n",
      "\n",
      "\r\n",
      "\r\n",
      "\n",
      "\r\n",
      "\r\n",
      "\n",
      "\r\n",
      "\r\n",
      "\n",
      "\r\n",
      "\r\n",
      "\n",
      "\r\n",
      "\r\n",
      "\n",
      ")\n",
      "-Dec\n",
      "\r\n",
      "\r\n",
      "\n",
      "\r\n",
      "\r\n",
      "\n",
      "\r\n",
      "\r\n",
      "Second\n",
      "\r\n",
      "\r\n",
      "Third\n",
      "\r\n",
      "\r\n",
      "Fourth\n",
      "\r\n",
      "\r\n",
      "Fifth\n",
      "\r\n",
      "\r\n",
      "\n",
      "\r\n",
      "\r\n",
      "\n",
      "E\n",
      "\r\n",
      "\r\n",
      "\n",
      "\r\n",
      "\r\n",
      "\n",
      "S\n",
      "\r\n",
      "\r\n",
      "\n",
      "\r\n",
      "\r\n",
      "\n",
      "745M\n",
      "128M\n",
      "\r\n",
      "\r\n",
      "\n",
      "\r\n",
      "\r\n",
      "\n",
      "\n",
      "\n",
      "\r\n",
      "\r\n",
      "\n",
      "\r\n",
      "\r\n",
      "\n",
      "\r\n",
      "\r\n",
      "\n",
      "A\n",
      "\r\n",
      "\r\n",
      "\n",
      "\"\r\n",
      "\r\n",
      "\n",
      "\r\n",
      "\r\n",
      "\n",
      "\r\n",
      "\r\n",
      "\n",
      "\r\n",
      "\r\n",
      "\n",
      "\r\n",
      "\r\n",
      "\n",
      "\r\n",
      "\r\n",
      "Second\n",
      "\r\n",
      "\r\n",
      "\n",
      "\r\n",
      "\r\n",
      "\n",
      "\r\n",
      "\r\n",
      "\n",
      "\r\n",
      "\r\n",
      "2\n",
      "\r\n",
      "\r\n",
      "3\n",
      "\r\n",
      "\r\n",
      "\n",
      "\r\n",
      "\r\n",
      "\n",
      "--Riot\n",
      "--Riot\n",
      "--Riot\n",
      "--Riots\n",
      "--Outbreak\n",
      "--Rebellion\n",
      "--Revolt\n",
      "--Revolution\n",
      "--Revolution\n",
      "--Riot\n",
      "--Riot\n",
      "--Revolution\n",
      "--Riot\n",
      "--Revolution\n",
      "--Revolution\n",
      "--Revolution\n",
      "\r\n",
      "\r\n",
      "\n",
      "\r\n",
      "\r\n",
      "\n",
      "\r\n",
      "\r\n",
      "\n",
      "\r\n",
      "\r\n",
      "Second\n",
      "\r\n",
      "\r\n",
      "Third\n",
      "\r\n",
      "\r\n",
      "\n",
      "\r\n",
      "\r\n",
      "\n",
      "\r\n",
      "\r\n",
      "\n",
      "\r\n",
      "\r\n",
      "\n",
      "--\n",
      "\r\n",
      "\r\n",
      "ART\n",
      "5M\n",
      "\r\n",
      "\r\n",
      "\n",
      "\"\r\n",
      "\r\n",
      "\n",
      "\r\n",
      "\r\n",
      "\n",
      "\r\n",
      "\r\n",
      "2\n",
      "\r\n",
      "\r\n",
      "3\n",
      "\r\n",
      "\r\n",
      "4\n",
      "\r\n",
      "\r\n",
      "5\n",
      "\"\r\n",
      "\r\n",
      "6\n",
      "\r\n",
      "\r\n",
      "7\n",
      "5%\n",
      "MR\n",
      "\r\n",
      "\r\n",
      "\n",
      "\r\n",
      "\r\n",
      "\n",
      "\r\n",
      "\r\n",
      "\n",
      "\r\n",
      "\r\n",
      "\n",
      "\r\n",
      "\r\n",
      "\n",
      "\r\n",
      "\r\n",
      "\n",
      "\r\n",
      "\r\n",
      "\n",
      "\r\n",
      "\r\n",
      "\n",
      "m\n",
      "\r\n",
      "\r\n",
      "\n",
      "\r\n",
      "\r\n",
      "\n",
      "A\n",
      "\r\n",
      "\r\n",
      "\n",
      "\r\n",
      "\r\n",
      "\n",
      "\r\n",
      "\r\n",
      "\n",
      "\r\n",
      "\r\n",
      "\n",
      "\r\n",
      "\r\n",
      "\n",
      "\r\n",
      "\r\n",
      "\n",
      "\r\n",
      "\r\n",
      "Second\n",
      "\r\n",
      "\r\n",
      "Third\n",
      "\r\n",
      "\r\n",
      "\n",
      "\r\n",
      "\r\n",
      "\n",
      "\"\r\n",
      "\r\n",
      "\n",
      "\r\n",
      "\r\n",
      "\n",
      "\r\n",
      "\r\n",
      "\n",
      "\r\n",
      "\r\n",
      "\n",
      "\r\n",
      "\r\n",
      "\n",
      "\r\n",
      "\r\n",
      "\n",
      "\r\n",
      "\r\n",
      "\n",
      "\r\n",
      "\r\n",
      "\n",
      "\r\n",
      "\r\n",
      "Secondly\n",
      "\r\n",
      "\r\n",
      "Thirdly\n",
      "\r\n",
      "\r\n",
      "Fourthly\n",
      "\r\n",
      "\r\n",
      "\n",
      "\r\n",
      "\r\n",
      "\n",
      "\r\n",
      "\r\n",
      "\n",
      "873,992,909\n",
      "\r\n",
      "\r\n",
      "Mr\n",
      "\r\n",
      "\r\n",
      "Second\n",
      "\r\n",
      "\r\n",
      "Third\n",
      "95M\n",
      "\r\n",
      "\r\n",
      "\n",
      "\r\n",
      "\r\n",
      "\n",
      "\r\n",
      "\r\n",
      "Second\n",
      "e\n",
      "e\n",
      "e\n",
      "\r\n",
      "\r\n",
      "\n",
      "\r\n",
      "\r\n",
      "\n",
      "\r\n",
      "\r\n",
      "Mr\n",
      "\r\n",
      "\r\n",
      "Second\n",
      "\r\n",
      "\r\n",
      "Third\n",
      "\r\n",
      "\r\n",
      "\n",
      "\r\n",
      "\r\n",
      "Second\n",
      "\r\n",
      "\r\n",
      "Third\n",
      "\r\n",
      "\r\n",
      "Fourth\n",
      "\r\n",
      "\r\n",
      "ART\n",
      "\r\n",
      "\r\n",
      "ART\n",
      "\r\n",
      "\r\n",
      "2\n",
      "\r\n",
      "\r\n",
      "3\n",
      "\r\n",
      "\r\n",
      "4\n",
      "\r\n",
      "\r\n",
      "\n",
      "R\n",
      "\r\n",
      "\r\n",
      "\n",
      "5M\n",
      "4M\n",
      "\r\n",
      "\r\n",
      "First\n",
      "\r\n",
      "\r\n",
      "Second\n",
      "\r\n",
      "\r\n",
      "Third\n",
      "\r\n",
      "\r\n",
      "\n",
      "\r\n",
      "\r\n",
      "\n",
      "\r\n",
      "\r\n",
      "\n",
      "\r\n",
      "\r\n",
      "\n",
      "\"\r\n",
      "\r\n",
      "\n",
      "\r\n",
      "\r\n",
      "\n"
     ]
    }
   ],
   "source": [
    "for s in new_sou_lst:\n",
    "    for sentence in s:\n",
    "        w = sentence.split(\" \")\n",
    "        if len(w) == 1: \n",
    "            print(sentence)"
   ]
  },
  {
   "cell_type": "code",
   "execution_count": null,
   "metadata": {},
   "outputs": [],
   "source": [
    "#The shortest sentence utter during the SOU could be \"Second\" or \"Third\", \n",
    "#provided that the number of syllables doesn't matter "
   ]
  }
 ],
 "metadata": {
  "kernelspec": {
   "display_name": "Python 3",
   "language": "python",
   "name": "python3"
  },
  "language_info": {
   "codemirror_mode": {
    "name": "ipython",
    "version": 3
   },
   "file_extension": ".py",
   "mimetype": "text/x-python",
   "name": "python",
   "nbconvert_exporter": "python",
   "pygments_lexer": "ipython3",
   "version": "3.7.4"
  }
 },
 "nbformat": 4,
 "nbformat_minor": 2
}
