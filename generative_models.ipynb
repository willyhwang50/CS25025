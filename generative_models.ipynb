{
 "cells": [
  {
   "cell_type": "code",
   "execution_count": 0,
   "metadata": {
    "colab": {},
    "colab_type": "code",
    "id": "bOTT8n0OiTVq"
   },
   "outputs": [],
   "source": [
    "import math\n",
    "import matplotlib.pyplot as plt\n",
    "% matplotlib inline\n",
    "from scipy.special import logsumexp\n",
    "import numpy as np"
   ]
  },
  {
   "cell_type": "code",
   "execution_count": 0,
   "metadata": {
    "colab": {},
    "colab_type": "code",
    "id": "5S3NyIKDlP-V"
   },
   "outputs": [],
   "source": [
    "# Variables setup\n",
    "# Let d = 30 "
   ]
  },
  {
   "cell_type": "code",
   "execution_count": 0,
   "metadata": {
    "colab": {},
    "colab_type": "code",
    "id": "KEP6UZKQiy4I"
   },
   "outputs": [],
   "source": [
    "d = 30\n",
    "X = [0, 1, 2]\n",
    "Y = [i for i in range(1, d-2)]"
   ]
  },
  {
   "cell_type": "code",
   "execution_count": 0,
   "metadata": {
    "colab": {},
    "colab_type": "code",
    "id": "pGQVaSq2luoB"
   },
   "outputs": [],
   "source": [
    "# Create functions that generates X according to the given conditions "
   ]
  },
  {
   "cell_type": "code",
   "execution_count": 0,
   "metadata": {
    "colab": {},
    "colab_type": "code",
    "id": "vgl4SvXHiy6d"
   },
   "outputs": [],
   "source": [
    "def gen_x(a0, a1, a2, b0, b1, b2, c0, c1, c2, k):\n",
    "    x_values = []\n",
    "    for i in range(1, d+1):\n",
    "        if i in [k, k+1]:\n",
    "            val = np.random.choice(X, p=[a0, a1, a2])\n",
    "        elif i in [k+2, k+3]:\n",
    "            val = np.random.choice(X, p=[b0, b1, b2])\n",
    "        else:\n",
    "            val = np.random.choice(X, p=[c0, c1, c2])\n",
    "        x_values.append(val)\n",
    "    return x_values"
   ]
  },
  {
   "cell_type": "code",
   "execution_count": 0,
   "metadata": {
    "colab": {},
    "colab_type": "code",
    "id": "3rEPiXO9rh5k"
   },
   "outputs": [],
   "source": [
    "# Part (a)"
   ]
  },
  {
   "cell_type": "code",
   "execution_count": 0,
   "metadata": {
    "colab": {},
    "colab_type": "code",
    "id": "UCRWk3Akrk-T"
   },
   "outputs": [],
   "source": [
    "# Let's set a2, b1, c0 close to 1 compared to others "
   ]
  },
  {
   "cell_type": "code",
   "execution_count": 0,
   "metadata": {
    "colab": {},
    "colab_type": "code",
    "id": "adlpV59Fiy-K"
   },
   "outputs": [],
   "source": [
    "a0 = 0.025\n",
    "a1 = 0.025\n",
    "a2 = 0.95\n",
    "b0 = 0.025\n",
    "b1 = 0.95\n",
    "b2 = 0.025\n",
    "c0 = 0.95\n",
    "c1 = 0.025\n",
    "c2 = 0.025"
   ]
  },
  {
   "cell_type": "code",
   "execution_count": 0,
   "metadata": {
    "colab": {},
    "colab_type": "code",
    "id": "cq0ieWpbsNwE"
   },
   "outputs": [],
   "source": [
    "# Set Y as certain values to see how x values are generated "
   ]
  },
  {
   "cell_type": "code",
   "execution_count": 0,
   "metadata": {
    "colab": {},
    "colab_type": "code",
    "id": "pTU2XD0-izAi"
   },
   "outputs": [],
   "source": [
    "# Y = 5\n",
    "xv1 = gen_x(a0,a1,a2,b0,b1,b2,c0,c1,c2, 5)\n",
    "xv2 = gen_x(a0,a1,a2,b0,b1,b2,c0,c1,c2, 5)\n",
    "xv3 = gen_x(a0,a1,a2,b0,b1,b2,c0,c1,c2, 5)\n",
    "xv4 = gen_x(a0,a1,a2,b0,b1,b2,c0,c1,c2, 5)"
   ]
  },
  {
   "cell_type": "code",
   "execution_count": 0,
   "metadata": {
    "colab": {
     "base_uri": "https://localhost:8080/",
     "height": 85
    },
    "colab_type": "code",
    "id": "5lkRiR2-skmb",
    "outputId": "e860b729-86ef-4242-fef7-dd2f1234f539"
   },
   "outputs": [
    {
     "name": "stdout",
     "output_type": "stream",
     "text": [
      "[0, 0, 0, 0, 2, 2, 1, 1, 0, 1, 0, 0, 0, 0, 0, 0, 0, 0, 0, 0, 0, 0, 0, 1, 0, 0, 0, 0, 0, 0]\n",
      "[0, 0, 1, 0, 2, 2, 1, 1, 0, 0, 0, 0, 0, 0, 0, 0, 0, 0, 1, 0, 0, 0, 0, 0, 0, 0, 0, 0, 0, 2]\n",
      "[0, 0, 0, 0, 2, 2, 1, 1, 0, 0, 0, 0, 0, 0, 0, 0, 0, 0, 0, 0, 0, 0, 1, 0, 0, 0, 0, 0, 0, 0]\n",
      "[2, 0, 0, 0, 2, 2, 0, 1, 0, 0, 0, 0, 0, 0, 0, 0, 0, 0, 0, 0, 0, 0, 0, 0, 0, 0, 0, 0, 0, 0]\n"
     ]
    }
   ],
   "source": [
    "print(xv1)\n",
    "print(xv2)\n",
    "print(xv3)\n",
    "print(xv4)"
   ]
  },
  {
   "cell_type": "code",
   "execution_count": 0,
   "metadata": {
    "colab": {},
    "colab_type": "code",
    "id": "_B4KhVTnsxN6"
   },
   "outputs": [],
   "source": [
    "# Visualize vectors xv1 and xv2"
   ]
  },
  {
   "cell_type": "code",
   "execution_count": 0,
   "metadata": {
    "colab": {
     "base_uri": "https://localhost:8080/",
     "height": 282
    },
    "colab_type": "code",
    "id": "YV9JR81BizC8",
    "outputId": "a657111c-d3e6-4c5e-dc31-35861cc8f73e"
   },
   "outputs": [
    {
     "data": {
      "text/plain": [
       "[<matplotlib.lines.Line2D at 0x7fab9b3c56a0>]"
      ]
     },
     "execution_count": 44,
     "metadata": {
      "tags": []
     },
     "output_type": "execute_result"
    },
    {
     "data": {
      "image/png": "[encoded data removed]",
      "text/plain": [
       "<Figure size 432x288 with 1 Axes>"
      ]
     },
     "metadata": {
      "needs_background": "light",
      "tags": []
     },
     "output_type": "display_data"
    }
   ],
   "source": [
    "plt.plot(xv1)"
   ]
  },
  {
   "cell_type": "code",
   "execution_count": 0,
   "metadata": {
    "colab": {
     "base_uri": "https://localhost:8080/",
     "height": 282
    },
    "colab_type": "code",
    "id": "vCuztVgws5cm",
    "outputId": "36c118a8-2e96-4ce5-a44d-b6e5febe6fde"
   },
   "outputs": [
    {
     "data": {
      "text/plain": [
       "[<matplotlib.lines.Line2D at 0x7fab9b334278>]"
      ]
     },
     "execution_count": 45,
     "metadata": {
      "tags": []
     },
     "output_type": "execute_result"
    },
    {
     "data": {
      "image/png": "[encoded data removed]",
      "text/plain": [
       "<Figure size 432x288 with 1 Axes>"
      ]
     },
     "metadata": {
      "needs_background": "light",
      "tags": []
     },
     "output_type": "display_data"
    }
   ],
   "source": [
    "plt.plot(xv2)"
   ]
  },
  {
   "cell_type": "code",
   "execution_count": 0,
   "metadata": {
    "colab": {},
    "colab_type": "code",
    "id": "wPOZz5O7tDPB"
   },
   "outputs": [],
   "source": [
    "# This time, let  Y = 10."
   ]
  },
  {
   "cell_type": "code",
   "execution_count": 0,
   "metadata": {
    "colab": {},
    "colab_type": "code",
    "id": "wSyfqZaiizFi"
   },
   "outputs": [],
   "source": [
    "xv5 = gen_x(a0,a1,a2,b0,b1,b2,c0,c1,c2, 10)\n",
    "xv6 = gen_x(a0,a1,a2,b0,b1,b2,c0,c1,c2, 10)\n",
    "xv7 = gen_x(a0,a1,a2,b0,b1,b2,c0,c1,c2, 10)\n",
    "xv8 = gen_x(a0,a1,a2,b0,b1,b2,c0,c1,c2, 10)"
   ]
  },
  {
   "cell_type": "code",
   "execution_count": 0,
   "metadata": {
    "colab": {
     "base_uri": "https://localhost:8080/",
     "height": 85
    },
    "colab_type": "code",
    "id": "zQHVKzzYtVE5",
    "outputId": "6cd9b8b8-25a6-478a-f18c-1723c60f8925"
   },
   "outputs": [
    {
     "name": "stdout",
     "output_type": "stream",
     "text": [
      "[0, 0, 0, 0, 0, 0, 1, 0, 0, 2, 1, 1, 1, 0, 0, 0, 0, 0, 0, 0, 0, 0, 0, 0, 0, 0, 0, 0, 0, 0]\n",
      "[0, 0, 0, 0, 0, 0, 0, 0, 0, 2, 2, 1, 1, 0, 2, 0, 0, 0, 0, 0, 0, 0, 0, 2, 0, 0, 0, 0, 0, 0]\n",
      "[0, 0, 0, 0, 0, 0, 0, 0, 0, 2, 2, 1, 1, 0, 0, 0, 0, 0, 0, 2, 0, 0, 0, 0, 0, 0, 0, 0, 0, 0]\n",
      "[0, 1, 0, 0, 0, 0, 0, 0, 0, 2, 2, 1, 1, 0, 0, 0, 0, 0, 0, 0, 0, 0, 0, 0, 0, 0, 0, 0, 0, 2]\n"
     ]
    }
   ],
   "source": [
    "print(xv5)\n",
    "print(xv6)\n",
    "print(xv7)\n",
    "print(xv8)"
   ]
  },
  {
   "cell_type": "code",
   "execution_count": 0,
   "metadata": {
    "colab": {},
    "colab_type": "code",
    "id": "d1VKgOo_tbBO"
   },
   "outputs": [],
   "source": [
    "# Visualize vector xv5"
   ]
  },
  {
   "cell_type": "code",
   "execution_count": 0,
   "metadata": {
    "colab": {
     "base_uri": "https://localhost:8080/",
     "height": 282
    },
    "colab_type": "code",
    "id": "kTCcKsCJizHu",
    "outputId": "bca6c615-83f6-41ee-e5fb-944c5a96ad1c"
   },
   "outputs": [
    {
     "data": {
      "text/plain": [
       "[<matplotlib.lines.Line2D at 0x7fab9b319e80>]"
      ]
     },
     "execution_count": 48,
     "metadata": {
      "tags": []
     },
     "output_type": "execute_result"
    },
    {
     "data": {
      "image/png": "[encoded data removed]",
      "text/plain": [
       "<Figure size 432x288 with 1 Axes>"
      ]
     },
     "metadata": {
      "needs_background": "light",
      "tags": []
     },
     "output_type": "display_data"
    }
   ],
   "source": [
    "plt.plot(x2)"
   ]
  },
  {
   "cell_type": "code",
   "execution_count": 0,
   "metadata": {
    "colab": {},
    "colab_type": "code",
    "id": "uq3vo4cyizKd"
   },
   "outputs": [],
   "source": [
    "# The results suggest that there may be a pattern in the permutation of entries \n",
    "# in the vectors of X. We often see ones following twos, creating downward steps\n",
    "# in the plot. "
   ]
  },
  {
   "cell_type": "code",
   "execution_count": 0,
   "metadata": {
    "colab": {},
    "colab_type": "code",
    "id": "-d8zlTwOuKKn"
   },
   "outputs": [],
   "source": [
    "# Variable Y seems to determine where/when these steps begin. If we set Y as \n",
    "# equal to k, we are likely to see the aforementioned pattern starting from \n",
    "# the kth entry of the simulated x vector. "
   ]
  },
  {
   "cell_type": "code",
   "execution_count": 0,
   "metadata": {
    "colab": {},
    "colab_type": "code",
    "id": "5J_bqfhcj42e"
   },
   "outputs": [],
   "source": [
    "# Part (b)"
   ]
  },
  {
   "cell_type": "code",
   "execution_count": 0,
   "metadata": {
    "colab": {},
    "colab_type": "code",
    "id": "dm8gAypfyF-Y"
   },
   "outputs": [],
   "source": [
    "# Using indicator functions make the expression much easier "
   ]
  },
  {
   "cell_type": "markdown",
   "metadata": {
    "colab_type": "text",
    "id": "wRYzCrcvkM2N"
   },
   "source": [
    "$log P(X_1, X_2, ..., X_d, Y)$\n",
    "\n",
    "$ = log(P(X_1, ..., X_d | Y = k)P(Y = k)) $  \n",
    "\n",
    "(We use Bayes' rule)\n",
    "\n",
    "$= log(P(X_1 | Y = k)  ... P(X_d | Y = k)P(Y = k)) $\n",
    "\n",
    "$= log(\\pi_k \\cdot (\\prod_{j=1}^{k-1} c_{0}^{X_{j0}} c_{1}^{X_{j1}} c_{2}^{X_{j2}}) \\cdot a_{0}^{X_{k0}} a_{1}^{X_{k1}} a_{2}^{X_{k2}} a_{0}^{X_{(k+1)0}} a_{1}^{X_{(k+1)1}} a_{2}^{X_{(k+1)2}} b_{0}^{X_{(k+2)0}} b_{1}^{X_{(k+2)1}} b_{2}^{X_{(k+2)2}} b_{0}^{X_{(k+3)0}} b_{1}^{X_{(k+3)1}} b_{2}^{X_{(k+3)2}} \\cdot (\\prod_{j=k+4}^{d} c_{0}^{X_{j0}} c_{1}^{X_{j1}} c_{2}^{X_{j2}}) )$"
   ]
  },
  {
   "cell_type": "code",
   "execution_count": 0,
   "metadata": {
    "colab": {},
    "colab_type": "code",
    "id": "H51amJeSj44y"
   },
   "outputs": [],
   "source": [
    "# Part (c)"
   ]
  },
  {
   "cell_type": "code",
   "execution_count": 0,
   "metadata": {
    "colab": {},
    "colab_type": "code",
    "id": "QVVeMafYxIYt"
   },
   "outputs": [],
   "source": [
    "# If we had a fully observed sample X_i, Y_i (i = 1,...,n), we can simply use the\n",
    "# expression of the log-joint distribution above to calculate the maximum \n",
    "# likelihood estimates. We differentiate the sum of log P(X_1, ..., X_d, Y) given X  \n",
    "# w.r.t. a parameter, set it equal to zero, and solve the score equation. "
   ]
  },
  {
   "cell_type": "markdown",
   "metadata": {
    "colab_type": "text",
    "id": "L6uHa_bbkePG"
   },
   "source": [
    "To illustrate, in order to estimate $a_0$, we calculate the following\n",
    "\n",
    "$0 = \\frac{d}{d a_0} \\Sigma_{i=1}^{d} log P(X_1, ..., X_d, Y)$\n",
    "\n",
    "$\\rightarrow \\Sigma_{i=1}^{d} 2 a_0 - (X_{ik0} + X_{i(k+1)0}) = 0$\n",
    "\n",
    "$\\rightarrow a_0 = \\frac{\\Sigma_{i=1}^{d} X_{ik0} + X_{i(k+1)0}}{2d}$"
   ]
  },
  {
   "cell_type": "code",
   "execution_count": 0,
   "metadata": {
    "colab": {},
    "colab_type": "code",
    "id": "xIPscMUsj47N"
   },
   "outputs": [],
   "source": [
    "# To summarize, to find the maximum likelihood estimate of a_0, \n",
    "# we are counting zeros in the kth and k+1th entries in all X \n",
    "# vectors. We then divide that by twice the total number of vectors.\n",
    "# We can propogate this intuition to explain the solution for solving\n",
    "# for maximum likelihood estimates of a_i, b_i, c_i, and pi_i. \n",
    "\n",
    "# a_i = count how many i's appear in the k and k+1th \n",
    "# entries of all X vectors and divide by twice the total number of vectors.\n",
    "\n",
    "# b_i = count how many i's appear in the k+2 and k+3rd \n",
    "# entries of all X vectors and divide by twice the total number of vectors.\n",
    "\n",
    "# c_i = count how many i's appear in the rest of the entries of all X\n",
    "# vectors and divide by d * (d-4).\n",
    "\n",
    "# pi_i = count the number of Y = i's divided by total number of vectors."
   ]
  },
  {
   "cell_type": "code",
   "execution_count": 0,
   "metadata": {
    "colab": {},
    "colab_type": "code",
    "id": "yVI353hi3B_e"
   },
   "outputs": [],
   "source": [
    "# Part (d)"
   ]
  },
  {
   "cell_type": "code",
   "execution_count": 0,
   "metadata": {
    "colab": {},
    "colab_type": "code",
    "id": "-h25qvhBj49m"
   },
   "outputs": [],
   "source": [
    "# pseudo code for the EM iterations that estimate the parameters if \n",
    "# Y_i are unobserved."
   ]
  },
  {
   "cell_type": "markdown",
   "metadata": {
    "colab_type": "text",
    "id": "pAoJaXU5ks4E"
   },
   "source": [
    "Initializing parameters\n",
    "\n",
    "E Step : \n",
    "\n",
    "a. Compute log-probabilities \n",
    "\n",
    "$log(w_{i}(z))$\n",
    "$ = log(\\frac{P(X_1, ..., X_d, Y)}{\\Sigma_Y P(X_1, ..., X_d, Y)})$\n",
    "$ = log(P(X_1, ..., X_d, Y)) - log(\\Sigma_Y P(X_1, ..., X_d, Y))$\n",
    "\n",
    "b. Using the log-joint distribution in part(b) we calculate\n",
    "\n",
    "$log(P(X_1, ..., X_d, Y)) = log(\\pi_k \\cdot (\\prod_{j=1}^{k-1} c_{0}^{X_{j0}} c_{1}^{X_{j1}} c_{2}^{X_{j2}}) \\cdot a_{0}^{X_{k0}} a_{1}^{X_{k1}} a_{2}^{X_{k2}} a_{0}^{X_{(k+1)0}} a_{1}^{X_{(k+1)1}} a_{2}^{X_{(k+1)2}} b_{0}^{X_{(k+2)0}} b_{1}^{X_{(k+2)1}} b_{2}^{X_{(k+2)2}} b_{0}^{X_{(k+3)0}} b_{1}^{X_{(k+3)1}} b_{2}^{X_{(k+3)2}} \\cdot (\\prod_{j=k+4}^{d} c_{0}^{X_{j0}} c_{1}^{X_{j1}} c_{2}^{X_{j2}}) )$\n",
    "\n",
    "c. Using scipy.misc.logsumexp function, compute \n",
    "\n",
    "$log(\\Sigma_Y P(X_1, ..., X_d, Y))$.\n",
    "\n",
    "d. Compute $w_i(z)$ by calculating \n",
    "\n",
    "$exp(log(P(X_1, ..., X_d, Y)) - log(\\Sigma_Y P(X_1, ..., X_d, Y)))$\n",
    "\n",
    "\n",
    "M Step : \n",
    "\n",
    "a. Maximize \n",
    "\n",
    "$\\theta(t+1) = argmax \\Sigma_{i} \\Sigma_{Y} w_{i}(z) log(P(X_i, Y | \\theta))$\n",
    "\n",
    "which solves \n",
    "\n",
    "$\\Sigma_{i} \\Sigma_{Y} w_{i}(z) d_{\\theta} log(P(X_i, Y | \\theta)) = 0$.\n",
    "\n",
    "b. Replace the derivative with the maximum likelihood estimator. Then,\n",
    "\n",
    "$\\theta(t+1)$ solves $\\Sigma_{i} \\Sigma_{Y} w_{i}(z) MLE(\\theta) = 0$.\n",
    "\n",
    "c. Compute the expected values of MLE (Since $Y_i$ are unobserved)\n",
    "\n",
    "Add the products of $P(Y_i = k)$ and the MLE expression given $Y_i = k$. Then we retrieve $\\theta(t+1)$.\n",
    "\n",
    "3: Repeat the E and M steps until $\\frac{|\\theta(t+1) - \\theta(t)|}{|\\theta(t)|} < \\epsilon$. \n"
   ]
  }
 ],
 "metadata": {
  "accelerator": "GPU",
  "colab": {
   "collapsed_sections": [],
   "name": "HW5_Problem1.ipynb",
   "provenance": []
  },
  "kernelspec": {
   "display_name": "Python 3",
   "language": "python",
   "name": "python3"
  },
  "language_info": {
   "codemirror_mode": {
    "name": "ipython",
    "version": 3
   },
   "file_extension": ".py",
   "mimetype": "text/x-python",
   "name": "python",
   "nbconvert_exporter": "python",
   "pygments_lexer": "ipython3",
   "version": "3.7.7"
  }
 },
 "nbformat": 4,
 "nbformat_minor": 1
}
