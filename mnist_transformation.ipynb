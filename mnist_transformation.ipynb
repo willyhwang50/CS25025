{
  "nbformat": 4,
  "nbformat_minor": 0,
  "metadata": {
    "colab": {
      "name": "Hwang_HW4_Problem2.ipynb",
      "provenance": [],
      "collapsed_sections": [],
      "machine_shape": "hm"
    },
    "kernelspec": {
      "name": "python3",
      "display_name": "Python 3"
    },
    "accelerator": "GPU"
  },
  "cells": [
    {
      "cell_type": "code",
      "metadata": {
        "id": "qn9mON2gZD6b",
        "colab_type": "code",
        "outputId": "1b26f557-2be9-4a71-b0f1-15b9b9eb5e86",
        "colab": {
          "base_uri": "https://localhost:8080/",
          "height": 54
        }
      },
      "source": [
        "from google.colab import drive\n",
        "drive.mount('/content/drive')"
      ],
      "execution_count": 0,
      "outputs": [
        {
          "output_type": "stream",
          "text": [
            "Drive already mounted at /content/drive; to attempt to forcibly remount, call drive.mount(\"/content/drive\", force_remount=True).\n"
          ],
          "name": "stdout"
        }
      ]
    },
    {
      "cell_type": "code",
      "metadata": {
        "id": "Q0CuKPiqZd5s",
        "colab_type": "code",
        "outputId": "fee48d7a-d600-4739-808f-aa79fc9a1830",
        "colab": {
          "base_uri": "https://localhost:8080/",
          "height": 51
        }
      },
      "source": [
        "import torch\n",
        "import numpy as np\n",
        "import torch.nn as nn\n",
        "import torch.nn.functional as F\n",
        "import matplotlib.pyplot as plt\n",
        "import torch.optim as optim\n",
        "from tqdm import tqdm\n",
        "datadir='/content/drive/My Drive/CS25025/HW4/'\n",
        "print(torch.__version__)\n",
        "torch.cuda.is_available()"
      ],
      "execution_count": 0,
      "outputs": [
        {
          "output_type": "stream",
          "text": [
            "1.5.0+cu101\n"
          ],
          "name": "stdout"
        },
        {
          "output_type": "execute_result",
          "data": {
            "text/plain": [
              "True"
            ]
          },
          "metadata": {
            "tags": []
          },
          "execution_count": 2
        }
      ]
    },
    {
      "cell_type": "code",
      "metadata": {
        "id": "BRcQf32Xb41L",
        "colab_type": "code",
        "colab": {}
      },
      "source": [
        "# Get Mnist data and split into train validation and test"
      ],
      "execution_count": 0,
      "outputs": []
    },
    {
      "cell_type": "code",
      "metadata": {
        "id": "RL8KP4I5Zd9C",
        "colab_type": "code",
        "colab": {}
      },
      "source": [
        "def get_mnist():\n",
        "\n",
        "    \n",
        "    data=np.float64(np.load(datadir+'MNIST.npy'))\n",
        "    labels=np.float32(np.load(datadir+'MNIST_labels.npy'))\n",
        "    print(data.shape)\n",
        "    data=np.float32(data)/255.\n",
        "    train_dat=data[0:50000].reshape((-1,1,28,28))\n",
        "    train_labels=np.int32(labels[0:50000])\n",
        "    val_dat=data[50000:60000].reshape((-1,1,28,28))\n",
        "    val_labels=np.int32(labels[50000:60000])\n",
        "    test_dat=data[60000:70000].reshape((-1,1,28,28))\n",
        "    test_labels=np.int32(labels[60000:70000])\n",
        "    \n",
        "    return (train_dat, train_labels), (val_dat, val_labels), (test_dat, test_labels)"
      ],
      "execution_count": 0,
      "outputs": []
    },
    {
      "cell_type": "code",
      "metadata": {
        "id": "SRj83FD8cAEP",
        "colab_type": "code",
        "colab": {}
      },
      "source": [
        "# Get the data "
      ],
      "execution_count": 0,
      "outputs": []
    },
    {
      "cell_type": "code",
      "metadata": {
        "id": "toTDNYIAcBGZ",
        "colab_type": "code",
        "colab": {}
      },
      "source": [
        "def get_data(data_set):\n",
        "    if (data_set==\"mnist\"):\n",
        "        return(get_mnist())\n",
        "    if (data_set==\"cifar\"):\n",
        "        return(get_cifar())\n",
        "    if (data_set==\"mnist_transform\"):\n",
        "        return(get_mnist_transform())"
      ],
      "execution_count": 0,
      "outputs": []
    },
    {
      "cell_type": "code",
      "metadata": {
        "id": "Yty8N8_gcFX1",
        "colab_type": "code",
        "colab": {}
      },
      "source": [
        "# The network"
      ],
      "execution_count": 0,
      "outputs": []
    },
    {
      "cell_type": "code",
      "metadata": {
        "id": "N4_14QvaZeAa",
        "colab_type": "code",
        "colab": {}
      },
      "source": [
        "class MNIST_Net(nn.Module):\n",
        "    def __init__(self,p=0.5,minimizer='Adam'):\n",
        "        super(MNIST_Net, self).__init__()\n",
        "        # 32 output features using 5x5 kernel applied to input image\n",
        "        self.conv1 = nn.Conv2d(1, 32, kernel_size=5)\n",
        "        # 64 output features using 5x5 kernel applied to 32 features of previous layer.\n",
        "        self.conv2 = nn.Conv2d(32, 64, kernel_size=5)\n",
        "        # Dropout - zero out some output features so weights aren't updated.\n",
        "        self.conv2_drop = nn.Dropout2d(p)\n",
        "        # 64 x 4 x 4 = 1024 units total in final spartial layer fully connected to 256 unit later\n",
        "        self.fc1 = nn.Linear(1024, 256)\n",
        "        # Last layer has 10 units for 10 classes\n",
        "        self.fc2 = nn.Linear(256, 10)\n",
        "        if minimizer == 'Adam':\n",
        "            self.optimizer = torch.optim.Adam(self.parameters(), lr = step_size)\n",
        "        else:\n",
        "            optimizer = torch.optim.SGD(self.parameters(), lr = step_size, momentum=0.9)\n",
        "\n",
        "        # negative log-likelihood loss \n",
        "        self.criterion=nn.CrossEntropyLoss()\n",
        "            \n",
        "    def forward(self, x):\n",
        "\n",
        "        # Apply first conv then maxpool by factor of 2 then non-linearity relu\n",
        "        x = F.relu(F.max_pool2d(self.conv1(x), 2))\n",
        "        # Apply second conv then drop, then maxpool by factor of 2 then non-linearity relu\n",
        "        x = F.relu(F.max_pool2d(self.conv2_drop(self.conv2(x)), 2))\n",
        "        # Reshape 64 x 4 x 4 to 1024 units\n",
        "        x = x.view(-1, 1024)\n",
        "        # Apply fully connected layer with non-linearity relu\n",
        "        x = F.relu(self.fc1(x))\n",
        "        # Another dropout\n",
        "        x = F.dropout(x, training=self.training)\n",
        "        # Final 10 unit logits layer\n",
        "        x = self.fc2(x)\n",
        "        return x\n",
        "    \n",
        "    def get_acc_and_loss(self, data, targ):\n",
        "        # Apply network to batch input\n",
        "        output = self.forward(data)\n",
        "        # Comput loss between logit output and targ (correct class labels)\n",
        "        loss = self.criterion(output, targ)\n",
        "        # Also compute correct classification rate\n",
        "        pred = torch.max(output,1)[1]\n",
        "        correct = torch.eq(pred,targ).sum()\n",
        "        \n",
        "        return loss,correct\n",
        "        \n",
        "    def run_grad(self,data,targ):\n",
        "\n",
        "        # Compute loss and accuracy\n",
        "        loss, correct=self.get_acc_and_loss(data,targ)\n",
        "        # Zero out gradients\n",
        "        self.optimizer.zero_grad()\n",
        "        # Compute gradients\n",
        "        loss.backward()\n",
        "        # Update parameters based on gradients\n",
        "        self.optimizer.step()\n",
        "        \n",
        "        return loss, correct\n",
        "    \n",
        "        "
      ],
      "execution_count": 0,
      "outputs": []
    },
    {
      "cell_type": "code",
      "metadata": {
        "id": "MLQVCqYycKpU",
        "colab_type": "code",
        "colab": {}
      },
      "source": [
        "# Run one epoch"
      ],
      "execution_count": 0,
      "outputs": []
    },
    {
      "cell_type": "code",
      "metadata": {
        "id": "F-J_hZubZeDv",
        "colab_type": "code",
        "colab": {}
      },
      "source": [
        "def run_epoch(net,epoch,train,batch_size, num=None, ttype=\"train\"):\n",
        "    \n",
        "    # Model is being trained dropout is applied\n",
        "    net.train()\n",
        "    if ttype=='train':\n",
        "        t1=time.time()\n",
        "        n=train[0].shape[0]\n",
        "        if (num is not None):\n",
        "            n=np.minimum(n,num)\n",
        "        ii=np.array(np.arange(0,n,1))\n",
        "        tr=train[0][ii]\n",
        "        y=train[1][ii]\n",
        "        train_loss=0; train_correct=0\n",
        "        with tqdm(total=len(y)) as progress_bar:\n",
        "            for j in np.arange(0,len(y),batch_size):\n",
        "              # Transfer batch data to device (cpu or gpu)\n",
        "                data=torch.torch.from_numpy(tr[j:j+batch_size]).to(device)\n",
        "                targ=torch.torch.from_numpy(y[j:j+batch_size]).type(torch.long).to(device)\n",
        "              # Compute gradients, update params and report loss and correct\n",
        "                loss, correct = net.run_grad(data,targ) \n",
        "                \n",
        "                train_loss += loss.item()\n",
        "                train_correct += correct.item()\n",
        "                \n",
        "                progress_bar.set_postfix(loss=loss.item())\n",
        "                progress_bar.update(data.size(0))\n",
        "        train_loss /= len(y)\n",
        "        print('\\nTraining set epoch {}: Avg. loss: {:.4f}, Accuracy: {}/{} ({:.0f}%)\\n'.format(epoch,\n",
        "            train_loss, train_correct, len(y),\n",
        "            100. * train_correct / len(y)))\n",
        "    return train_loss, train_correct \n"
      ],
      "execution_count": 0,
      "outputs": []
    },
    {
      "cell_type": "code",
      "metadata": {
        "id": "x3cyLdK0cOg_",
        "colab_type": "code",
        "colab": {}
      },
      "source": [
        "# Run the network on a test set"
      ],
      "execution_count": 0,
      "outputs": []
    },
    {
      "cell_type": "code",
      "metadata": {
        "id": "czzbPz6rcQp4",
        "colab_type": "code",
        "colab": {}
      },
      "source": [
        "def net_test(net,val,batch_size,ttype='val'):\n",
        "\n",
        "    # Do not apply dropout or gradients.\n",
        "    net.eval()\n",
        "    with torch.no_grad():\n",
        "                test_loss = 0\n",
        "                test_correct = 0\n",
        "                vald=val[0]\n",
        "                yval=val[1]\n",
        "                for j in np.arange(0,len(yval),batch_size):\n",
        "                    data=torch.torch.from_numpy(vald[j:j+batch_size]).to(device)\n",
        "                    targ = torch.torch.from_numpy(yval[j:j+batch_size]).type(torch.long).to(device)\n",
        "                    loss,correct=net.get_acc_and_loss(data,targ)\n",
        "\n",
        "                    test_loss += loss.item()\n",
        "                    test_correct += correct.item()\n",
        "\n",
        "                test_loss /= len(yval)\n",
        "                SSS='Validation'\n",
        "                if (ttype=='test'):\n",
        "                    SSS='Test'\n",
        "                print('\\n{} set: Avg. loss: {:.4f}, Accuracy: {}/{} ({:.0f}%)\\n'.format(SSS,\n",
        "                    test_loss, test_correct, len(yval),\n",
        "                    100. * test_correct / len(yval)))\n",
        "    return test_loss, test_correct "
      ],
      "execution_count": 0,
      "outputs": []
    },
    {
      "cell_type": "code",
      "metadata": {
        "id": "0cJeV8PjcTsu",
        "colab_type": "code",
        "colab": {}
      },
      "source": [
        "# Run the training. Save the model and test at the end"
      ],
      "execution_count": 0,
      "outputs": []
    },
    {
      "cell_type": "code",
      "metadata": {
        "id": "aWkrDbe3ZeHS",
        "colab_type": "code",
        "colab": {}
      },
      "source": [
        "import time\n",
        "\n",
        "# Some parameters>\n",
        "batch_size=500\n",
        "step_size=.001\n",
        "num_epochs=20\n",
        "numtrain=10000\n",
        "minimizer=\"Adam\"\n",
        "data_set=\"mnist\"\n",
        "model_name=\"model_original\"\n",
        "dropout_p=0.5\n",
        "dim=28\n",
        "nchannels=1\n",
        "use_gpu=True\n",
        "\n",
        "# use GPU when possible\n",
        "device = 'cuda:0' if torch.cuda.is_available() and use_gpu else 'cpu'\n",
        "print(device)\n",
        "# get data\n",
        "train,val,test=get_data(data_set=data_set)\n",
        "# Initialize the model\n",
        "net = MNIST_Net(p = dropout_p, minimizer=minimizer)\n",
        "net.to(device)\n",
        "#define optimizer\n",
        "\n",
        "# Run epochs\n",
        "for i in range(num_epochs):\n",
        "    run_epoch(net,i,train,batch_size, num=numtrain, ttype=\"train\")\n",
        "    # Test on validation set.\n",
        "    net_test(net,val,batch_size)\n",
        "# Test on test set.\n",
        "net_test(net,test,batch_size,ttype='test')\n",
        "# Save model\n",
        "torch.save(net.state_dict(), datadir + 'models/' + model_name)"
      ],
      "execution_count": 0,
      "outputs": []
    },
    {
      "cell_type": "code",
      "metadata": {
        "id": "HDCKdjDicbPH",
        "colab_type": "code",
        "colab": {}
      },
      "source": [
        "# Reload the model that was saved and continue training"
      ],
      "execution_count": 0,
      "outputs": []
    },
    {
      "cell_type": "code",
      "metadata": {
        "id": "0OlCPLOuZeKq",
        "colab_type": "code",
        "outputId": "fb15383e-d690-417a-93f9-518b0de86093",
        "colab": {
          "base_uri": "https://localhost:8080/",
          "height": 68
        }
      },
      "source": [
        "batch_size=500\n",
        "num_worker = 0\n",
        "step_size=.001\n",
        "num_epochs=0\n",
        "num_train=10000\n",
        "minimizer=\"Adam\"\n",
        "data_set=\"mnist\"\n",
        "new_model_name = 'mnist_model_continue'\n",
        "dropout_p =.5\n",
        "\n",
        "net = MNIST_Net(p = dropout_p, minimizer=minimizer)\n",
        "net.to(device)\n",
        "\n",
        "#load saved model\n",
        "state_dict = torch.load(datadir+'models/'+ model_name, map_location = device)\n",
        "net.load_state_dict(state_dict)\n",
        "\n",
        "for i in range(num_epochs):\n",
        "    run_epoch(net,i,train,batch_size, num=numtrain, ttype=\"train\")\n",
        "\n",
        "\n",
        "net_test(net,test,batch_size, ttype=\"test\")\n",
        "#save model\n",
        "if num_epochs>0:\n",
        "  torch.save(net.state_dict(), datadir+ 'models/' +new_model_name)"
      ],
      "execution_count": 0,
      "outputs": [
        {
          "output_type": "stream",
          "text": [
            "\n",
            "Test set: Avg. loss: 0.0001, Accuracy: 9856/10000 (99%)\n",
            "\n"
          ],
          "name": "stdout"
        }
      ]
    },
    {
      "cell_type": "code",
      "metadata": {
        "id": "nfbnEp7znuNy",
        "colab_type": "code",
        "outputId": "79e93296-dd45-4d6f-c830-94f7be9be3e7",
        "colab": {
          "base_uri": "https://localhost:8080/",
          "height": 34
        }
      },
      "source": [
        "# starting part (a)\n",
        "state_dict = torch.load(datadir+'models/'+ model_name, map_location = device)\n",
        "net.load_state_dict(state_dict)"
      ],
      "execution_count": 0,
      "outputs": [
        {
          "output_type": "execute_result",
          "data": {
            "text/plain": [
              "<All keys matched successfully>"
            ]
          },
          "metadata": {
            "tags": []
          },
          "execution_count": 23
        }
      ]
    },
    {
      "cell_type": "code",
      "metadata": {
        "id": "H4U-SuDzJyVu",
        "colab_type": "code",
        "outputId": "f03beabe-464d-4922-c55e-4350be965169",
        "colab": {
          "base_uri": "https://localhost:8080/",
          "height": 153
        }
      },
      "source": [
        "for name, param in net.named_parameters():\n",
        "    if param.requires_grad:\n",
        "        print(name, param.shape)"
      ],
      "execution_count": 0,
      "outputs": [
        {
          "output_type": "stream",
          "text": [
            "conv1.weight torch.Size([32, 1, 5, 5])\n",
            "conv1.bias torch.Size([32])\n",
            "conv2.weight torch.Size([64, 32, 5, 5])\n",
            "conv2.bias torch.Size([64])\n",
            "fc1.weight torch.Size([256, 1024])\n",
            "fc1.bias torch.Size([256])\n",
            "fc2.weight torch.Size([10, 256])\n",
            "fc2.bias torch.Size([10])\n"
          ],
          "name": "stdout"
        }
      ]
    },
    {
      "cell_type": "code",
      "metadata": {
        "id": "adV4W8HSLTvm",
        "colab_type": "code",
        "colab": {}
      },
      "source": [
        "# We can either sum the product of each row, or we can simply use a simple operation \n",
        "# to do the calculation for us. Indeed, the results match: there are 317066 \n",
        "# parameters "
      ],
      "execution_count": 0,
      "outputs": []
    },
    {
      "cell_type": "code",
      "metadata": {
        "id": "KyVCzUXZJDo-",
        "colab_type": "code",
        "outputId": "6feb5655-4ac0-46f5-ccf8-cf4728d6933a",
        "colab": {
          "base_uri": "https://localhost:8080/",
          "height": 34
        }
      },
      "source": [
        "model_parameters = filter(lambda p: p.requires_grad, net.parameters())\n",
        "params = sum([np.prod(p.size()) for p in model_parameters])\n",
        "print(params)"
      ],
      "execution_count": 0,
      "outputs": [
        {
          "output_type": "stream",
          "text": [
            "317066\n"
          ],
          "name": "stdout"
        }
      ]
    },
    {
      "cell_type": "code",
      "metadata": {
        "id": "vaGZiaAHZeOg",
        "colab_type": "code",
        "colab": {}
      },
      "source": [
        "# Running the model "
      ],
      "execution_count": 0,
      "outputs": []
    },
    {
      "cell_type": "code",
      "metadata": {
        "id": "qdByWyvxZeR9",
        "colab_type": "code",
        "outputId": "331ce97a-371e-42d3-e54a-0dcb58ec0806",
        "colab": {
          "base_uri": "https://localhost:8080/",
          "height": 1000
        }
      },
      "source": [
        "import time\n",
        "\n",
        "# Some parameters>\n",
        "batch_size=500\n",
        "step_size=.001\n",
        "num_epochs=20\n",
        "numtrain=10000\n",
        "minimizer=\"Adam\"\n",
        "data_set=\"mnist\"\n",
        "model_name=\"model_original\"\n",
        "dropout_p=0.5\n",
        "dim=28\n",
        "nchannels=1\n",
        "use_gpu=True\n",
        "\n",
        "# use GPU when possible\n",
        "device = 'cuda:0' if torch.cuda.is_available() and use_gpu else 'cpu'\n",
        "print(device)\n",
        "# get data\n",
        "train,val,test=get_data(data_set=data_set)\n",
        "# Initialize the model\n",
        "net = MNIST_Net(p = dropout_p, minimizer=minimizer)\n",
        "net.to(device)\n",
        "#define optimizer\n",
        "\n",
        "# Run epochs\n",
        "train_error = [] \n",
        "val_error  = []\n",
        "for i in range(num_epochs):\n",
        "    train_loss, train_correct = run_epoch(net,i,train,batch_size, num=numtrain, ttype=\"train\")\n",
        "    train_error.append(train_loss)\n",
        "    # Test on validation set.\n",
        "    val_loss, val_correct = net_test(net,val,batch_size)\n",
        "    val_error.append(val_loss)\n",
        "# Test on test set.\n",
        "test_loss, test_correct = net_test(net,test,batch_size,ttype='test')\n",
        "# Save model\n",
        "torch.save(net.state_dict(), datadir + 'models/' + model_name)"
      ],
      "execution_count": 0,
      "outputs": [
        {
          "output_type": "stream",
          "text": [
            "cuda:0\n",
            "(70000, 784)\n"
          ],
          "name": "stdout"
        },
        {
          "output_type": "stream",
          "text": [
            "100%|██████████| 10000/10000 [00:00<00:00, 78988.03it/s, loss=0.668]\n",
            "100%|██████████| 10000/10000 [00:00<00:00, 79624.27it/s, loss=0.329]\n"
          ],
          "name": "stderr"
        },
        {
          "output_type": "stream",
          "text": [
            "\n",
            "Training set epoch 0: Avg. loss: 0.0030, Accuracy: 5390/10000 (54%)\n",
            "\n",
            "\n",
            "Validation set: Avg. loss: 0.0010, Accuracy: 8488/10000 (85%)\n",
            "\n",
            "\n",
            "Training set epoch 1: Avg. loss: 0.0010, Accuracy: 8439/10000 (84%)\n",
            "\n"
          ],
          "name": "stdout"
        },
        {
          "output_type": "stream",
          "text": [
            "100%|██████████| 10000/10000 [00:00<00:00, 83034.48it/s, loss=0.242]\n",
            " 20%|██        | 2000/10000 [00:00<00:00, 68812.10it/s, loss=0.265]"
          ],
          "name": "stderr"
        },
        {
          "output_type": "stream",
          "text": [
            "\n",
            "Validation set: Avg. loss: 0.0006, Accuracy: 9185/10000 (92%)\n",
            "\n",
            "\n",
            "Training set epoch 2: Avg. loss: 0.0007, Accuracy: 9010/10000 (90%)\n",
            "\n",
            "\n",
            "Validation set: Avg. loss: 0.0004, Accuracy: 9424/10000 (94%)\n",
            "\n"
          ],
          "name": "stdout"
        },
        {
          "output_type": "stream",
          "text": [
            "100%|██████████| 10000/10000 [00:00<00:00, 84317.79it/s, loss=0.205]\n",
            "100%|██████████| 10000/10000 [00:00<00:00, 84448.34it/s, loss=0.132]\n"
          ],
          "name": "stderr"
        },
        {
          "output_type": "stream",
          "text": [
            "\n",
            "Training set epoch 3: Avg. loss: 0.0005, Accuracy: 9264/10000 (93%)\n",
            "\n",
            "\n",
            "Validation set: Avg. loss: 0.0003, Accuracy: 9545/10000 (95%)\n",
            "\n",
            "\n",
            "Training set epoch 4: Avg. loss: 0.0004, Accuracy: 9420/10000 (94%)\n",
            "\n"
          ],
          "name": "stdout"
        },
        {
          "output_type": "stream",
          "text": [
            "100%|██████████| 10000/10000 [00:00<00:00, 83032.34it/s, loss=0.119]\n",
            " 15%|█▌        | 1500/10000 [00:00<00:00, 61551.80it/s, loss=0.114]"
          ],
          "name": "stderr"
        },
        {
          "output_type": "stream",
          "text": [
            "\n",
            "Validation set: Avg. loss: 0.0003, Accuracy: 9623/10000 (96%)\n",
            "\n",
            "\n",
            "Training set epoch 5: Avg. loss: 0.0003, Accuracy: 9495/10000 (95%)\n",
            "\n",
            "\n",
            "Validation set: Avg. loss: 0.0002, Accuracy: 9650/10000 (96%)\n",
            "\n"
          ],
          "name": "stdout"
        },
        {
          "output_type": "stream",
          "text": [
            "100%|██████████| 10000/10000 [00:00<00:00, 80133.28it/s, loss=0.0882]\n",
            "100%|██████████| 10000/10000 [00:00<00:00, 81453.08it/s, loss=0.105]\n"
          ],
          "name": "stderr"
        },
        {
          "output_type": "stream",
          "text": [
            "\n",
            "Training set epoch 6: Avg. loss: 0.0003, Accuracy: 9538/10000 (95%)\n",
            "\n",
            "\n",
            "Validation set: Avg. loss: 0.0002, Accuracy: 9705/10000 (97%)\n",
            "\n",
            "\n",
            "Training set epoch 7: Avg. loss: 0.0003, Accuracy: 9598/10000 (96%)\n",
            "\n"
          ],
          "name": "stdout"
        },
        {
          "output_type": "stream",
          "text": [
            "100%|██████████| 10000/10000 [00:00<00:00, 83433.04it/s, loss=0.0913]\n",
            " 15%|█▌        | 1500/10000 [00:00<00:00, 64922.62it/s, loss=0.102]"
          ],
          "name": "stderr"
        },
        {
          "output_type": "stream",
          "text": [
            "\n",
            "Validation set: Avg. loss: 0.0002, Accuracy: 9730/10000 (97%)\n",
            "\n",
            "\n",
            "Training set epoch 8: Avg. loss: 0.0002, Accuracy: 9661/10000 (97%)\n",
            "\n",
            "\n",
            "Validation set: Avg. loss: 0.0002, Accuracy: 9744/10000 (97%)\n",
            "\n"
          ],
          "name": "stdout"
        },
        {
          "output_type": "stream",
          "text": [
            "100%|██████████| 10000/10000 [00:00<00:00, 83683.06it/s, loss=0.0639]\n",
            "100%|██████████| 10000/10000 [00:00<00:00, 84097.67it/s, loss=0.0904]\n"
          ],
          "name": "stderr"
        },
        {
          "output_type": "stream",
          "text": [
            "\n",
            "Training set epoch 9: Avg. loss: 0.0002, Accuracy: 9690/10000 (97%)\n",
            "\n",
            "\n",
            "Validation set: Avg. loss: 0.0002, Accuracy: 9763/10000 (98%)\n",
            "\n",
            "\n",
            "Training set epoch 10: Avg. loss: 0.0002, Accuracy: 9684/10000 (97%)\n",
            "\n",
            "\n",
            "Validation set: Avg. loss: 0.0001, Accuracy: 9785/10000 (98%)\n",
            "\n"
          ],
          "name": "stdout"
        },
        {
          "output_type": "stream",
          "text": [
            "100%|██████████| 10000/10000 [00:00<00:00, 84050.48it/s, loss=0.0607]\n",
            "100%|██████████| 10000/10000 [00:00<00:00, 82907.11it/s, loss=0.0523]\n"
          ],
          "name": "stderr"
        },
        {
          "output_type": "stream",
          "text": [
            "\n",
            "Training set epoch 11: Avg. loss: 0.0002, Accuracy: 9732/10000 (97%)\n",
            "\n",
            "\n",
            "Validation set: Avg. loss: 0.0001, Accuracy: 9777/10000 (98%)\n",
            "\n",
            "\n",
            "Training set epoch 12: Avg. loss: 0.0002, Accuracy: 9736/10000 (97%)\n",
            "\n"
          ],
          "name": "stdout"
        },
        {
          "output_type": "stream",
          "text": [
            "100%|██████████| 10000/10000 [00:00<00:00, 83189.29it/s, loss=0.0678]\n",
            " 20%|██        | 2000/10000 [00:00<00:00, 69540.56it/s, loss=0.0688]"
          ],
          "name": "stderr"
        },
        {
          "output_type": "stream",
          "text": [
            "\n",
            "Validation set: Avg. loss: 0.0001, Accuracy: 9780/10000 (98%)\n",
            "\n",
            "\n",
            "Training set epoch 13: Avg. loss: 0.0002, Accuracy: 9762/10000 (98%)\n",
            "\n",
            "\n",
            "Validation set: Avg. loss: 0.0001, Accuracy: 9809/10000 (98%)\n",
            "\n"
          ],
          "name": "stdout"
        },
        {
          "output_type": "stream",
          "text": [
            "100%|██████████| 10000/10000 [00:00<00:00, 84075.42it/s, loss=0.0435]\n",
            "100%|██████████| 10000/10000 [00:00<00:00, 83135.04it/s, loss=0.0483]\n"
          ],
          "name": "stderr"
        },
        {
          "output_type": "stream",
          "text": [
            "\n",
            "Training set epoch 14: Avg. loss: 0.0002, Accuracy: 9757/10000 (98%)\n",
            "\n",
            "\n",
            "Validation set: Avg. loss: 0.0001, Accuracy: 9800/10000 (98%)\n",
            "\n",
            "\n",
            "Training set epoch 15: Avg. loss: 0.0001, Accuracy: 9769/10000 (98%)\n",
            "\n"
          ],
          "name": "stdout"
        },
        {
          "output_type": "stream",
          "text": [
            "100%|██████████| 10000/10000 [00:00<00:00, 83323.98it/s, loss=0.0446]\n",
            " 15%|█▌        | 1500/10000 [00:00<00:00, 65259.33it/s, loss=0.0694]"
          ],
          "name": "stderr"
        },
        {
          "output_type": "stream",
          "text": [
            "\n",
            "Validation set: Avg. loss: 0.0001, Accuracy: 9815/10000 (98%)\n",
            "\n",
            "\n",
            "Training set epoch 16: Avg. loss: 0.0001, Accuracy: 9785/10000 (98%)\n",
            "\n",
            "\n",
            "Validation set: Avg. loss: 0.0001, Accuracy: 9818/10000 (98%)\n",
            "\n"
          ],
          "name": "stdout"
        },
        {
          "output_type": "stream",
          "text": [
            "100%|██████████| 10000/10000 [00:00<00:00, 83951.39it/s, loss=0.0373]\n",
            "100%|██████████| 10000/10000 [00:00<00:00, 84277.13it/s, loss=0.0366]\n"
          ],
          "name": "stderr"
        },
        {
          "output_type": "stream",
          "text": [
            "\n",
            "Training set epoch 17: Avg. loss: 0.0001, Accuracy: 9808/10000 (98%)\n",
            "\n",
            "\n",
            "Validation set: Avg. loss: 0.0001, Accuracy: 9832/10000 (98%)\n",
            "\n",
            "\n",
            "Training set epoch 18: Avg. loss: 0.0001, Accuracy: 9804/10000 (98%)\n",
            "\n",
            "\n",
            "Validation set: Avg. loss: 0.0001, Accuracy: 9825/10000 (98%)\n",
            "\n"
          ],
          "name": "stdout"
        },
        {
          "output_type": "stream",
          "text": [
            "100%|██████████| 10000/10000 [00:00<00:00, 82654.53it/s, loss=0.0368]\n"
          ],
          "name": "stderr"
        },
        {
          "output_type": "stream",
          "text": [
            "\n",
            "Training set epoch 19: Avg. loss: 0.0001, Accuracy: 9834/10000 (98%)\n",
            "\n",
            "\n",
            "Validation set: Avg. loss: 0.0001, Accuracy: 9835/10000 (98%)\n",
            "\n",
            "\n",
            "Test set: Avg. loss: 0.0001, Accuracy: 9836/10000 (98%)\n",
            "\n"
          ],
          "name": "stdout"
        }
      ]
    },
    {
      "cell_type": "code",
      "metadata": {
        "id": "zU-7mrSoL9_T",
        "colab_type": "code",
        "colab": {}
      },
      "source": [
        "# Train accuracy: 0.9834\n",
        "# Validation accuracy of 0.98.35,\n",
        "# Test accuracy of 0.9836 \n",
        "# Surprisingly, these accuracy rates are very high although we used only \n",
        "# 10000 training data. Now, let's plot the error rates. "
      ],
      "execution_count": 0,
      "outputs": []
    },
    {
      "cell_type": "code",
      "metadata": {
        "id": "mMOO7GWoZeTh",
        "colab_type": "code",
        "outputId": "031cbc78-f0da-4694-ae41-c4df1f49db60",
        "colab": {
          "base_uri": "https://localhost:8080/",
          "height": 265
        }
      },
      "source": [
        "# Training error \n",
        "plt.plot(train_error)\n",
        "plt.show()"
      ],
      "execution_count": 0,
      "outputs": [
        {
          "output_type": "display_data",
          "data": {
            "image/png": "[encoded data removed]",
            "text/plain": [
              "<Figure size 432x288 with 1 Axes>"
            ]
          },
          "metadata": {
            "tags": [],
            "needs_background": "light"
          }
        }
      ]
    },
    {
      "cell_type": "code",
      "metadata": {
        "id": "5k2UvsqwZeYI",
        "colab_type": "code",
        "outputId": "be60f478-4e43-49d6-fb4c-93203e9d8697",
        "colab": {
          "base_uri": "https://localhost:8080/",
          "height": 265
        }
      },
      "source": [
        "# Validation error \n",
        "plt.plot(val_error)\n",
        "plt.show()"
      ],
      "execution_count": 0,
      "outputs": [
        {
          "output_type": "display_data",
          "data": {
            "image/png": "[encoded data removed]",
            "text/plain": [
              "<Figure size 432x288 with 1 Axes>"
            ]
          },
          "metadata": {
            "tags": [],
            "needs_background": "light"
          }
        }
      ]
    },
    {
      "cell_type": "code",
      "metadata": {
        "id": "nl2WNgMnZeZ6",
        "colab_type": "code",
        "colab": {}
      },
      "source": [
        "# The plots above show that the error rates decrease almost exponentially \n",
        "# as epochs proceed. Let's check out the final training and validation error rate\n"
      ],
      "execution_count": 0,
      "outputs": []
    },
    {
      "cell_type": "code",
      "metadata": {
        "id": "oQ7wbNT3MfWD",
        "colab_type": "code",
        "outputId": "14fbdddc-c2c1-4c94-f8fd-4c0cf97d8398",
        "colab": {
          "base_uri": "https://localhost:8080/",
          "height": 34
        }
      },
      "source": [
        "train_error[-1]"
      ],
      "execution_count": 0,
      "outputs": [
        {
          "output_type": "execute_result",
          "data": {
            "text/plain": [
              "0.0001155659768730402"
            ]
          },
          "metadata": {
            "tags": []
          },
          "execution_count": 34
        }
      ]
    },
    {
      "cell_type": "code",
      "metadata": {
        "id": "tzzzg46QZedw",
        "colab_type": "code",
        "outputId": "30bc41b9-738f-43ec-aa21-a96e0f8a6245",
        "colab": {
          "base_uri": "https://localhost:8080/",
          "height": 34
        }
      },
      "source": [
        "val_error[-1]"
      ],
      "execution_count": 0,
      "outputs": [
        {
          "output_type": "execute_result",
          "data": {
            "text/plain": [
              "0.00010458708626683801"
            ]
          },
          "metadata": {
            "tags": []
          },
          "execution_count": 33
        }
      ]
    },
    {
      "cell_type": "code",
      "metadata": {
        "id": "rM88sfMjMpRZ",
        "colab_type": "code",
        "colab": {}
      },
      "source": [
        "# Showing an image with the 32 5 by 5 filters that are\n",
        "# estimated in the first layer of the model."
      ],
      "execution_count": 0,
      "outputs": []
    },
    {
      "cell_type": "code",
      "metadata": {
        "id": "ZF2EaqlRMtJT",
        "colab_type": "code",
        "colab": {}
      },
      "source": [
        "# function that display MNIST images"
      ],
      "execution_count": 0,
      "outputs": []
    },
    {
      "cell_type": "code",
      "metadata": {
        "id": "Fudl-BrWZegP",
        "colab_type": "code",
        "colab": {}
      },
      "source": [
        "def display_images(image):\n",
        "\n",
        "    img = image.reshape(28, 28)\n",
        "    plt.imshow(img, interpolation=\"nearest\", cmap=\"gray\")"
      ],
      "execution_count": 0,
      "outputs": []
    },
    {
      "cell_type": "code",
      "metadata": {
        "id": "5aVNC_EhRXnN",
        "colab_type": "code",
        "outputId": "7180547d-6224-491d-ce27-b901acba2b1d",
        "colab": {
          "base_uri": "https://localhost:8080/",
          "height": 34
        }
      },
      "source": [
        "train[0].shape"
      ],
      "execution_count": 0,
      "outputs": [
        {
          "output_type": "execute_result",
          "data": {
            "text/plain": [
              "(50000, 1, 28, 28)"
            ]
          },
          "metadata": {
            "tags": []
          },
          "execution_count": 52
        }
      ]
    },
    {
      "cell_type": "code",
      "metadata": {
        "id": "YOVSzK3Xv2sK",
        "colab_type": "code",
        "outputId": "0bc720f0-47f5-4c74-f7bd-16d5fb124996",
        "colab": {
          "base_uri": "https://localhost:8080/",
          "height": 265
        }
      },
      "source": [
        "display_images(train[0][1])"
      ],
      "execution_count": 0,
      "outputs": [
        {
          "output_type": "display_data",
          "data": {
            "image/png": "[encoded data removed]",
            "text/plain": [
              "<Figure size 432x288 with 1 Axes>"
            ]
          },
          "metadata": {
            "tags": [],
            "needs_background": "light"
          }
        }
      ]
    },
    {
      "cell_type": "code",
      "metadata": {
        "id": "DkA90Xayv5KL",
        "colab_type": "code",
        "outputId": "fb873892-73bf-419d-d1b4-4bfd9bd12f52",
        "colab": {
          "base_uri": "https://localhost:8080/",
          "height": 1000
        }
      },
      "source": [
        "var = list(net.parameters())\n",
        "flayer = var[0].cpu().detach().numpy()\n",
        "for f in flayer:\n",
        "    plt.figure(figsize=(1,1))\n",
        "    plt.imshow(f[0], interpolation=\"nearest\", cmap=\"gray\")\n",
        "    plt.show()"
      ],
      "execution_count": 0,
      "outputs": [
        {
          "output_type": "display_data",
          "data": {
            "image/png": "[encoded data removed]",
            "text/plain": [
              "<Figure size 72x72 with 1 Axes>"
            ]
          },
          "metadata": {
            "tags": [],
            "needs_background": "light"
          }
        },
        {
          "output_type": "display_data",
          "data": {
            "image/png": "[encoded data removed]",
            "text/plain": [
              "<Figure size 72x72 with 1 Axes>"
            ]
          },
          "metadata": {
            "tags": [],
            "needs_background": "light"
          }
        },
        {
          "output_type": "display_data",
          "data": {
            "image/png": "[encoded data removed]",
            "text/plain": [
              "<Figure size 72x72 with 1 Axes>"
            ]
          },
          "metadata": {
            "tags": [],
            "needs_background": "light"
          }
        },
        {
          "output_type": "display_data",
          "data": {
            "image/png": "[encoded data removed]",
            "text/plain": [
              "<Figure size 72x72 with 1 Axes>"
            ]
          },
          "metadata": {
            "tags": [],
            "needs_background": "light"
          }
        },
        {
          "output_type": "display_data",
          "data": {
            "image/png": "[encoded data removed]",
            "text/plain": [
              "<Figure size 72x72 with 1 Axes>"
            ]
          },
          "metadata": {
            "tags": [],
            "needs_background": "light"
          }
        },
        {
          "output_type": "display_data",
          "data": {
            "image/png": "[encoded data removed]",
            "text/plain": [
              "<Figure size 72x72 with 1 Axes>"
            ]
          },
          "metadata": {
            "tags": [],
            "needs_background": "light"
          }
        },
        {
          "output_type": "display_data",
          "data": {
            "image/png": "[encoded data removed]",
            "text/plain": [
              "<Figure size 72x72 with 1 Axes>"
            ]
          },
          "metadata": {
            "tags": [],
            "needs_background": "light"
          }
        },
        {
          "output_type": "display_data",
          "data": {
            "image/png": "[encoded data removed]",
            "text/plain": [
              "<Figure size 72x72 with 1 Axes>"
            ]
          },
          "metadata": {
            "tags": [],
            "needs_background": "light"
          }
        },
        {
          "output_type": "display_data",
          "data": {
            "image/png": "[encoded data removed]",
            "text/plain": [
              "<Figure size 72x72 with 1 Axes>"
            ]
          },
          "metadata": {
            "tags": [],
            "needs_background": "light"
          }
        },
        {
          "output_type": "display_data",
          "data": {
            "image/png": "[encoded data removed]",
            "text/plain": [
              "<Figure size 72x72 with 1 Axes>"
            ]
          },
          "metadata": {
            "tags": [],
            "needs_background": "light"
          }
        },
        {
          "output_type": "display_data",
          "data": {
            "image/png": "[encoded data removed]",
            "text/plain": [
              "<Figure size 72x72 with 1 Axes>"
            ]
          },
          "metadata": {
            "tags": [],
            "needs_background": "light"
          }
        },
        {
          "output_type": "display_data",
          "data": {
            "image/png": "[encoded data removed]",
            "text/plain": [
              "<Figure size 72x72 with 1 Axes>"
            ]
          },
          "metadata": {
            "tags": [],
            "needs_background": "light"
          }
        },
        {
          "output_type": "display_data",
          "data": {
            "image/png": "[encoded data removed]",
            "text/plain": [
              "<Figure size 72x72 with 1 Axes>"
            ]
          },
          "metadata": {
            "tags": [],
            "needs_background": "light"
          }
        },
        {
          "output_type": "display_data",
          "data": {
            "image/png": "[encoded data removed]",
            "text/plain": [
              "<Figure size 72x72 with 1 Axes>"
            ]
          },
          "metadata": {
            "tags": [],
            "needs_background": "light"
          }
        },
        {
          "output_type": "display_data",
          "data": {
            "image/png": "[encoded data removed]",
            "text/plain": [
              "<Figure size 72x72 with 1 Axes>"
            ]
          },
          "metadata": {
            "tags": [],
            "needs_background": "light"
          }
        },
        {
          "output_type": "display_data",
          "data": {
            "image/png": "[encoded data removed]",
            "text/plain": [
              "<Figure size 72x72 with 1 Axes>"
            ]
          },
          "metadata": {
            "tags": [],
            "needs_background": "light"
          }
        },
        {
          "output_type": "display_data",
          "data": {
            "image/png": "[encoded data removed]",
            "text/plain": [
              "<Figure size 72x72 with 1 Axes>"
            ]
          },
          "metadata": {
            "tags": [],
            "needs_background": "light"
          }
        },
        {
          "output_type": "display_data",
          "data": {
            "image/png": "[encoded data removed]",
            "text/plain": [
              "<Figure size 72x72 with 1 Axes>"
            ]
          },
          "metadata": {
            "tags": [],
            "needs_background": "light"
          }
        },
        {
          "output_type": "display_data",
          "data": {
            "image/png": "[encoded data removed]",
            "text/plain": [
              "<Figure size 72x72 with 1 Axes>"
            ]
          },
          "metadata": {
            "tags": [],
            "needs_background": "light"
          }
        },
        {
          "output_type": "display_data",
          "data": {
            "image/png": "[encoded data removed]",
            "text/plain": [
              "<Figure size 72x72 with 1 Axes>"
            ]
          },
          "metadata": {
            "tags": [],
            "needs_background": "light"
          }
        },
        {
          "output_type": "display_data",
          "data": {
            "image/png": "[encoded data removed]",
            "text/plain": [
              "<Figure size 72x72 with 1 Axes>"
            ]
          },
          "metadata": {
            "tags": [],
            "needs_background": "light"
          }
        },
        {
          "output_type": "display_data",
          "data": {
            "image/png": "[encoded data removed]",
            "text/plain": [
              "<Figure size 72x72 with 1 Axes>"
            ]
          },
          "metadata": {
            "tags": [],
            "needs_background": "light"
          }
        },
        {
          "output_type": "display_data",
          "data": {
            "image/png": "[encoded data removed]",
            "text/plain": [
              "<Figure size 72x72 with 1 Axes>"
            ]
          },
          "metadata": {
            "tags": [],
            "needs_background": "light"
          }
        },
        {
          "output_type": "display_data",
          "data": {
            "image/png": "[encoded data removed]",
            "text/plain": [
              "<Figure size 72x72 with 1 Axes>"
            ]
          },
          "metadata": {
            "tags": [],
            "needs_background": "light"
          }
        },
        {
          "output_type": "display_data",
          "data": {
            "image/png": "[encoded data removed]",
            "text/plain": [
              "<Figure size 72x72 with 1 Axes>"
            ]
          },
          "metadata": {
            "tags": [],
            "needs_background": "light"
          }
        },
        {
          "output_type": "display_data",
          "data": {
            "image/png": "[encoded data removed]",
            "text/plain": [
              "<Figure size 72x72 with 1 Axes>"
            ]
          },
          "metadata": {
            "tags": [],
            "needs_background": "light"
          }
        },
        {
          "output_type": "display_data",
          "data": {
            "image/png": "[encoded data removed]",
            "text/plain": [
              "<Figure size 72x72 with 1 Axes>"
            ]
          },
          "metadata": {
            "tags": [],
            "needs_background": "light"
          }
        },
        {
          "output_type": "display_data",
          "data": {
            "image/png": "[encoded data removed]",
            "text/plain": [
              "<Figure size 72x72 with 1 Axes>"
            ]
          },
          "metadata": {
            "tags": [],
            "needs_background": "light"
          }
        },
        {
          "output_type": "display_data",
          "data": {
            "image/png": "[encoded data removed]",
            "text/plain": [
              "<Figure size 72x72 with 1 Axes>"
            ]
          },
          "metadata": {
            "tags": [],
            "needs_background": "light"
          }
        },
        {
          "output_type": "display_data",
          "data": {
            "image/png": "[encoded data removed]",
            "text/plain": [
              "<Figure size 72x72 with 1 Axes>"
            ]
          },
          "metadata": {
            "tags": [],
            "needs_background": "light"
          }
        },
        {
          "output_type": "display_data",
          "data": {
            "image/png": "[encoded data removed]",
            "text/plain": [
              "<Figure size 72x72 with 1 Axes>"
            ]
          },
          "metadata": {
            "tags": [],
            "needs_background": "light"
          }
        },
        {
          "output_type": "display_data",
          "data": {
            "image/png": "[encoded data removed]",
            "text/plain": [
              "<Figure size 72x72 with 1 Axes>"
            ]
          },
          "metadata": {
            "tags": [],
            "needs_background": "light"
          }
        }
      ]
    },
    {
      "cell_type": "code",
      "metadata": {
        "id": "EBVSbnCEAhG2",
        "colab_type": "code",
        "colab": {}
      },
      "source": [
        "# Part (b)"
      ],
      "execution_count": 0,
      "outputs": []
    },
    {
      "cell_type": "code",
      "metadata": {
        "id": "R9KG5_skkKAU",
        "colab_type": "code",
        "colab": {}
      },
      "source": [
        "# Part (I)"
      ],
      "execution_count": 0,
      "outputs": []
    },
    {
      "cell_type": "code",
      "metadata": {
        "id": "NUTh7am48H_Q",
        "colab_type": "code",
        "colab": {}
      },
      "source": [
        "# Keep the same number of layers and change layer parameters reducing number of\n",
        "# parameters by half in one experiment and doubling the number parameters in another. \n",
        "# Try a few different options. Report the results."
      ],
      "execution_count": 0,
      "outputs": []
    },
    {
      "cell_type": "code",
      "metadata": {
        "id": "hm5dqaq48ccQ",
        "colab_type": "code",
        "colab": {}
      },
      "source": [
        "# reducing number of parameters by half"
      ],
      "execution_count": 0,
      "outputs": []
    },
    {
      "cell_type": "code",
      "metadata": {
        "id": "8dlhpi8I7-xR",
        "colab_type": "code",
        "colab": {}
      },
      "source": [
        "class MNIST_Net_half(nn.Module):\n",
        "    def __init__(self,p=0.5,minimizer='Adam'):\n",
        "        super(MNIST_Net_half, self).__init__()\n",
        "        # 16 output features using 5x5 kernel applied to input image\n",
        "        self.conv1 = nn.Conv2d(1, 16, kernel_size=5)\n",
        "        # 32 output features using 5x5 kernel applied to 16 features of previous layer.\n",
        "        self.conv2 = nn.Conv2d(16, 32, kernel_size=5)\n",
        "        # Dropout - zero out some output features so weights aren't updated.\n",
        "        self.conv2_drop = nn.Dropout2d(p)\n",
        "        # 32 x 4 x 4 = 512 units total in final spartial layer fully connected to 128 unit later\n",
        "        self.fc1 = nn.Linear(512, 128)\n",
        "        # Last layer has 10 units for 10 classes\n",
        "        self.fc2 = nn.Linear(128, 10)\n",
        "        if minimizer == 'Adam':\n",
        "            self.optimizer = torch.optim.Adam(self.parameters(), lr = step_size)\n",
        "        else:\n",
        "            optimizer = torch.optim.SGD(self.parameters(), lr = step_size, momentum=0.9)\n",
        "\n",
        "        # negative log-likelihood loss \n",
        "        self.criterion=nn.CrossEntropyLoss()\n",
        "            \n",
        "    def forward(self, x):\n",
        "\n",
        "        # Apply first conv then maxpool by factor of 2 then non-linearity relu\n",
        "        x = F.relu(F.max_pool2d(self.conv1(x), 2))\n",
        "        # Apply second conv then drop, then maxpool by factor of 2 then non-linearity relu\n",
        "        x = F.relu(F.max_pool2d(self.conv2_drop(self.conv2(x)), 2))\n",
        "        # Reshape 32 x 4 x 4 to 512 units\n",
        "        x = x.view(-1, 512)\n",
        "        # Apply fully connected layer with non-linearity relu\n",
        "        x = F.relu(self.fc1(x))\n",
        "        # Another dropout\n",
        "        x = F.dropout(x, training=self.training)\n",
        "        # Final 10 unit logits layer\n",
        "        x = self.fc2(x)\n",
        "        return x\n",
        "    \n",
        "    def get_acc_and_loss(self, data, targ):\n",
        "        # Apply network to batch input\n",
        "        output = self.forward(data)\n",
        "        # Comput loss between logit output and targ (correct class labels)\n",
        "        loss = self.criterion(output, targ)\n",
        "        # Also compute correct classification rate\n",
        "        pred = torch.max(output,1)[1]\n",
        "        correct = torch.eq(pred,targ).sum()\n",
        "        \n",
        "        return loss,correct\n",
        "        \n",
        "    def run_grad(self,data,targ):\n",
        "\n",
        "        # Compute loss and accuracy\n",
        "        loss, correct=self.get_acc_and_loss(data,targ)\n",
        "        # Zero out gradients\n",
        "        self.optimizer.zero_grad()\n",
        "        # Compute gradients\n",
        "        loss.backward()\n",
        "        # Update parameters based on gradients\n",
        "        self.optimizer.step()\n",
        "        \n",
        "        return loss, correct\n",
        "    \n",
        "        "
      ],
      "execution_count": 0,
      "outputs": []
    },
    {
      "cell_type": "code",
      "metadata": {
        "id": "6u3MDxAB80NP",
        "colab_type": "code",
        "colab": {}
      },
      "source": [
        "# Run the Training Model "
      ],
      "execution_count": 0,
      "outputs": []
    },
    {
      "cell_type": "code",
      "metadata": {
        "id": "JsLhDQVi7_-U",
        "colab_type": "code",
        "outputId": "256d509f-3947-498a-f906-2ac8b38db277",
        "colab": {
          "base_uri": "https://localhost:8080/",
          "height": 1000
        }
      },
      "source": [
        "import time\n",
        "\n",
        "# Some parameters>\n",
        "batch_size=500\n",
        "step_size=.001\n",
        "num_epochs=20\n",
        "numtrain=10000\n",
        "minimizer=\"Adam\"\n",
        "data_set=\"mnist\"\n",
        "model_name=\"model_half\"\n",
        "dropout_p=0.5\n",
        "dim=28\n",
        "nchannels=1\n",
        "use_gpu=True\n",
        "\n",
        "# use GPU when possible\n",
        "device = 'cuda:0' if torch.cuda.is_available() and use_gpu else 'cpu'\n",
        "print(device)\n",
        "# get data\n",
        "train,val,test=get_data(data_set=data_set)\n",
        "# Initialize the model\n",
        "net = MNIST_Net_half(p = dropout_p, minimizer=minimizer)\n",
        "net.to(device)\n",
        "#define optimizer\n",
        "\n",
        "# Run epochs\n",
        "train_error = [] \n",
        "val_error  = []\n",
        "for i in range(num_epochs):\n",
        "    train_loss, train_correct = run_epoch(net,i,train,batch_size, num=numtrain, ttype=\"train\")\n",
        "    train_error.append(train_loss)\n",
        "    # Test on validation set.\n",
        "    val_loss, val_correct = net_test(net,val,batch_size)\n",
        "    val_error.append(val_loss)\n",
        "# Test on test set.\n",
        "test_loss, test_correct = net_test(net,test,batch_size,ttype='test')\n",
        "# Save model\n",
        "torch.save(net.state_dict(), datadir + 'models/' + model_name)"
      ],
      "execution_count": 0,
      "outputs": [
        {
          "output_type": "stream",
          "text": [
            "cuda:0\n",
            "(70000, 784)\n"
          ],
          "name": "stdout"
        },
        {
          "output_type": "stream",
          "text": [
            "100%|██████████| 10000/10000 [00:00<00:00, 75800.04it/s, loss=1.55]\n",
            "100%|██████████| 10000/10000 [00:00<00:00, 75991.06it/s, loss=0.606]\n",
            "  0%|          | 0/10000 [00:00<?, ?it/s]"
          ],
          "name": "stderr"
        },
        {
          "output_type": "stream",
          "text": [
            "\n",
            "Training set epoch 0: Avg. loss: 0.0041, Accuracy: 3480/10000 (35%)\n",
            "\n",
            "\n",
            "Validation set: Avg. loss: 0.0027, Accuracy: 7122/10000 (71%)\n",
            "\n",
            "\n",
            "Training set epoch 1: Avg. loss: 0.0020, Accuracy: 6970/10000 (70%)\n",
            "\n",
            "\n",
            "Validation set: Avg. loss: 0.0009, Accuracy: 8759/10000 (88%)\n",
            "\n"
          ],
          "name": "stdout"
        },
        {
          "output_type": "stream",
          "text": [
            "100%|██████████| 10000/10000 [00:00<00:00, 81886.09it/s, loss=0.443]\n",
            "100%|██████████| 10000/10000 [00:00<00:00, 82885.81it/s, loss=0.34]\n",
            " 10%|█         | 1000/10000 [00:00<00:00, 58387.22it/s, loss=0.374]"
          ],
          "name": "stderr"
        },
        {
          "output_type": "stream",
          "text": [
            "\n",
            "Training set epoch 2: Avg. loss: 0.0012, Accuracy: 8258/10000 (83%)\n",
            "\n",
            "\n",
            "Validation set: Avg. loss: 0.0006, Accuracy: 9159/10000 (92%)\n",
            "\n",
            "\n",
            "Training set epoch 3: Avg. loss: 0.0008, Accuracy: 8739/10000 (87%)\n",
            "\n",
            "\n",
            "Validation set: Avg. loss: 0.0005, Accuracy: 9324/10000 (93%)\n",
            "\n"
          ],
          "name": "stdout"
        },
        {
          "output_type": "stream",
          "text": [
            "100%|██████████| 10000/10000 [00:00<00:00, 81364.75it/s, loss=0.291]\n",
            "100%|██████████| 10000/10000 [00:00<00:00, 82188.40it/s, loss=0.243]\n",
            "  5%|▌         | 500/10000 [00:00<00:00, 44352.25it/s, loss=0.369]"
          ],
          "name": "stderr"
        },
        {
          "output_type": "stream",
          "text": [
            "\n",
            "Training set epoch 4: Avg. loss: 0.0007, Accuracy: 8933/10000 (89%)\n",
            "\n",
            "\n",
            "Validation set: Avg. loss: 0.0004, Accuracy: 9398/10000 (94%)\n",
            "\n",
            "\n",
            "Training set epoch 5: Avg. loss: 0.0006, Accuracy: 9103/10000 (91%)\n",
            "\n",
            "\n",
            "Validation set: Avg. loss: 0.0004, Accuracy: 9446/10000 (94%)\n",
            "\n"
          ],
          "name": "stdout"
        },
        {
          "output_type": "stream",
          "text": [
            "100%|██████████| 10000/10000 [00:00<00:00, 82811.68it/s, loss=0.239]\n",
            "100%|██████████| 10000/10000 [00:00<00:00, 83298.49it/s, loss=0.186]\n",
            "  5%|▌         | 500/10000 [00:00<00:00, 42211.51it/s, loss=0.285]"
          ],
          "name": "stderr"
        },
        {
          "output_type": "stream",
          "text": [
            "\n",
            "Training set epoch 6: Avg. loss: 0.0006, Accuracy: 9167/10000 (92%)\n",
            "\n",
            "\n",
            "Validation set: Avg. loss: 0.0003, Accuracy: 9517/10000 (95%)\n",
            "\n",
            "\n",
            "Training set epoch 7: Avg. loss: 0.0005, Accuracy: 9267/10000 (93%)\n",
            "\n",
            "\n",
            "Validation set: Avg. loss: 0.0003, Accuracy: 9560/10000 (96%)\n",
            "\n"
          ],
          "name": "stdout"
        },
        {
          "output_type": "stream",
          "text": [
            "100%|██████████| 10000/10000 [00:00<00:00, 80957.21it/s, loss=0.218]\n",
            "100%|██████████| 10000/10000 [00:00<00:00, 81493.91it/s, loss=0.188]\n",
            "  5%|▌         | 500/10000 [00:00<00:00, 43269.69it/s, loss=0.193]"
          ],
          "name": "stderr"
        },
        {
          "output_type": "stream",
          "text": [
            "\n",
            "Training set epoch 8: Avg. loss: 0.0005, Accuracy: 9309/10000 (93%)\n",
            "\n",
            "\n",
            "Validation set: Avg. loss: 0.0003, Accuracy: 9597/10000 (96%)\n",
            "\n",
            "\n",
            "Training set epoch 9: Avg. loss: 0.0004, Accuracy: 9357/10000 (94%)\n",
            "\n",
            "\n",
            "Validation set: Avg. loss: 0.0002, Accuracy: 9615/10000 (96%)\n",
            "\n"
          ],
          "name": "stdout"
        },
        {
          "output_type": "stream",
          "text": [
            "100%|██████████| 10000/10000 [00:00<00:00, 82153.62it/s, loss=0.143]\n",
            "100%|██████████| 10000/10000 [00:00<00:00, 82357.52it/s, loss=0.124]\n",
            "  5%|▌         | 500/10000 [00:00<00:00, 42547.21it/s, loss=0.241]"
          ],
          "name": "stderr"
        },
        {
          "output_type": "stream",
          "text": [
            "\n",
            "Training set epoch 10: Avg. loss: 0.0004, Accuracy: 9440/10000 (94%)\n",
            "\n",
            "\n",
            "Validation set: Avg. loss: 0.0002, Accuracy: 9653/10000 (97%)\n",
            "\n",
            "\n",
            "Training set epoch 11: Avg. loss: 0.0004, Accuracy: 9432/10000 (94%)\n",
            "\n",
            "\n",
            "Validation set: Avg. loss: 0.0002, Accuracy: 9690/10000 (97%)\n",
            "\n"
          ],
          "name": "stdout"
        },
        {
          "output_type": "stream",
          "text": [
            "100%|██████████| 10000/10000 [00:00<00:00, 82894.50it/s, loss=0.129]\n",
            "100%|██████████| 10000/10000 [00:00<00:00, 81279.61it/s, loss=0.12]\n",
            "  5%|▌         | 500/10000 [00:00<00:00, 39825.90it/s, loss=0.178]"
          ],
          "name": "stderr"
        },
        {
          "output_type": "stream",
          "text": [
            "\n",
            "Training set epoch 12: Avg. loss: 0.0004, Accuracy: 9465/10000 (95%)\n",
            "\n",
            "\n",
            "Validation set: Avg. loss: 0.0002, Accuracy: 9681/10000 (97%)\n",
            "\n",
            "\n",
            "Training set epoch 13: Avg. loss: 0.0003, Accuracy: 9524/10000 (95%)\n",
            "\n",
            "\n",
            "Validation set: Avg. loss: 0.0002, Accuracy: 9699/10000 (97%)\n",
            "\n"
          ],
          "name": "stdout"
        },
        {
          "output_type": "stream",
          "text": [
            "100%|██████████| 10000/10000 [00:00<00:00, 80083.86it/s, loss=0.12]\n",
            "100%|██████████| 10000/10000 [00:00<00:00, 81442.64it/s, loss=0.129]\n",
            "  5%|▌         | 500/10000 [00:00<00:00, 44605.07it/s, loss=0.161]"
          ],
          "name": "stderr"
        },
        {
          "output_type": "stream",
          "text": [
            "\n",
            "Training set epoch 14: Avg. loss: 0.0003, Accuracy: 9534/10000 (95%)\n",
            "\n",
            "\n",
            "Validation set: Avg. loss: 0.0002, Accuracy: 9717/10000 (97%)\n",
            "\n",
            "\n",
            "Training set epoch 15: Avg. loss: 0.0003, Accuracy: 9526/10000 (95%)\n",
            "\n",
            "\n",
            "Validation set: Avg. loss: 0.0002, Accuracy: 9712/10000 (97%)\n",
            "\n"
          ],
          "name": "stdout"
        },
        {
          "output_type": "stream",
          "text": [
            "100%|██████████| 10000/10000 [00:00<00:00, 82121.45it/s, loss=0.125]\n",
            "100%|██████████| 10000/10000 [00:00<00:00, 80814.79it/s, loss=0.0984]\n",
            "  5%|▌         | 500/10000 [00:00<00:00, 44659.21it/s, loss=0.167]"
          ],
          "name": "stderr"
        },
        {
          "output_type": "stream",
          "text": [
            "\n",
            "Training set epoch 16: Avg. loss: 0.0003, Accuracy: 9570/10000 (96%)\n",
            "\n",
            "\n",
            "Validation set: Avg. loss: 0.0002, Accuracy: 9740/10000 (97%)\n",
            "\n",
            "\n",
            "Training set epoch 17: Avg. loss: 0.0003, Accuracy: 9586/10000 (96%)\n",
            "\n",
            "\n",
            "Validation set: Avg. loss: 0.0002, Accuracy: 9749/10000 (97%)\n",
            "\n"
          ],
          "name": "stdout"
        },
        {
          "output_type": "stream",
          "text": [
            "100%|██████████| 10000/10000 [00:00<00:00, 81058.59it/s, loss=0.0791]\n",
            "100%|██████████| 10000/10000 [00:00<00:00, 81529.55it/s, loss=0.0996]\n"
          ],
          "name": "stderr"
        },
        {
          "output_type": "stream",
          "text": [
            "\n",
            "Training set epoch 18: Avg. loss: 0.0003, Accuracy: 9607/10000 (96%)\n",
            "\n",
            "\n",
            "Validation set: Avg. loss: 0.0002, Accuracy: 9746/10000 (97%)\n",
            "\n",
            "\n",
            "Training set epoch 19: Avg. loss: 0.0003, Accuracy: 9628/10000 (96%)\n",
            "\n",
            "\n",
            "Validation set: Avg. loss: 0.0002, Accuracy: 9748/10000 (97%)\n",
            "\n",
            "\n",
            "Test set: Avg. loss: 0.0002, Accuracy: 9784/10000 (98%)\n",
            "\n"
          ],
          "name": "stdout"
        }
      ]
    },
    {
      "cell_type": "code",
      "metadata": {
        "id": "9oyudUGL7_4X",
        "colab_type": "code",
        "colab": {}
      },
      "source": [
        "# When we decreased the number of features in each layer by half, the test \n",
        "# accuracy dropped to 0.9784. So did the training and validation accuracy: they \n",
        "# all slightly decreased. The results align with our expectations because when we\n",
        "# decrease the number of parameters, then we have less information at hand when\n",
        "# we make predictions. However, the accuracy rates are still quite high \n",
        "# nevertheless. "
      ],
      "execution_count": 0,
      "outputs": []
    },
    {
      "cell_type": "code",
      "metadata": {
        "id": "7qQDQDsy7_ei",
        "colab_type": "code",
        "colab": {}
      },
      "source": [
        "# Doubling the number of parameters "
      ],
      "execution_count": 0,
      "outputs": []
    },
    {
      "cell_type": "code",
      "metadata": {
        "id": "Fotrrg3W86yH",
        "colab_type": "code",
        "colab": {}
      },
      "source": [
        "class MNIST_Net_double(nn.Module):\n",
        "    def __init__(self,p=0.5,minimizer='Adam'):\n",
        "        super(MNIST_Net_double, self).__init__()\n",
        "        # 64 output features using 5x5 kernel applied to input image\n",
        "        self.conv1 = nn.Conv2d(1, 64, kernel_size=5)\n",
        "        # 128 output features using 5x5 kernel applied to 64 features of previous layer.\n",
        "        self.conv2 = nn.Conv2d(64, 128, kernel_size=5)\n",
        "        # Dropout - zero out some output features so weights aren't updated.\n",
        "        self.conv2_drop = nn.Dropout2d(p)\n",
        "        # 128 x 4 x 4 = 2048 units total in final spartial layer fully connected to 512 unit later\n",
        "        self.fc1 = nn.Linear(2048, 512)\n",
        "        # Last layer has 10 units for 10 classes\n",
        "        self.fc2 = nn.Linear(512, 10)\n",
        "        if minimizer == 'Adam':\n",
        "            self.optimizer = torch.optim.Adam(self.parameters(), lr = step_size)\n",
        "        else:\n",
        "            optimizer = torch.optim.SGD(self.parameters(), lr = step_size, momentum=0.9)\n",
        "\n",
        "        # negative log-likelihood loss \n",
        "        self.criterion=nn.CrossEntropyLoss()\n",
        "            \n",
        "    def forward(self, x):\n",
        "\n",
        "        # Apply first conv then maxpool by factor of 2 then non-linearity relu\n",
        "        x = F.relu(F.max_pool2d(self.conv1(x), 2))\n",
        "        # Apply second conv then drop, then maxpool by factor of 2 then non-linearity relu\n",
        "        x = F.relu(F.max_pool2d(self.conv2_drop(self.conv2(x)), 2))\n",
        "        # Reshape 128 x 4 x 4 to 2048 units\n",
        "        x = x.view(-1, 2048)\n",
        "        # Apply fully connected layer with non-linearity relu\n",
        "        x = F.relu(self.fc1(x))\n",
        "        # Another dropout\n",
        "        x = F.dropout(x, training=self.training)\n",
        "        # Final 10 unit logits layer\n",
        "        x = self.fc2(x)\n",
        "        return x\n",
        "    \n",
        "    def get_acc_and_loss(self, data, targ):\n",
        "        # Apply network to batch input\n",
        "        output = self.forward(data)\n",
        "        # Comput loss between logit output and targ (correct class labels)\n",
        "        loss = self.criterion(output, targ)\n",
        "        # Also compute correct classification rate\n",
        "        pred = torch.max(output,1)[1]\n",
        "        correct = torch.eq(pred,targ).sum()\n",
        "        \n",
        "        return loss,correct\n",
        "        \n",
        "    def run_grad(self,data,targ):\n",
        "\n",
        "        # Compute loss and accuracy\n",
        "        loss, correct=self.get_acc_and_loss(data,targ)\n",
        "        # Zero out gradients\n",
        "        self.optimizer.zero_grad()\n",
        "        # Compute gradients\n",
        "        loss.backward()\n",
        "        # Update parameters based on gradients\n",
        "        self.optimizer.step()\n",
        "        \n",
        "        return loss, correct\n",
        "    \n",
        "        "
      ],
      "execution_count": 0,
      "outputs": []
    },
    {
      "cell_type": "code",
      "metadata": {
        "id": "phykpjdK87CF",
        "colab_type": "code",
        "outputId": "0bab3700-aba1-4b77-dfa7-03dac918db2a",
        "colab": {
          "base_uri": "https://localhost:8080/",
          "height": 1000
        }
      },
      "source": [
        "import time\n",
        "\n",
        "# Some parameters>\n",
        "batch_size=500\n",
        "step_size=.001\n",
        "num_epochs=20\n",
        "numtrain=10000\n",
        "minimizer=\"Adam\"\n",
        "data_set=\"mnist\"\n",
        "model_name=\"model_double\"\n",
        "dropout_p=0.5\n",
        "dim=28\n",
        "nchannels=1\n",
        "use_gpu=True\n",
        "\n",
        "# use GPU when possible\n",
        "device = 'cuda:0' if torch.cuda.is_available() and use_gpu else 'cpu'\n",
        "print(device)\n",
        "# get data\n",
        "train,val,test=get_data(data_set=data_set)\n",
        "# Initialize the model\n",
        "net = MNIST_Net_double(p = dropout_p, minimizer=minimizer)\n",
        "net.to(device)\n",
        "#define optimizer\n",
        "\n",
        "# Run epochs\n",
        "train_error = [] \n",
        "val_error  = []\n",
        "for i in range(num_epochs):\n",
        "    train_loss, train_correct = run_epoch(net,i,train,batch_size, num=numtrain, ttype=\"train\")\n",
        "    train_error.append(train_loss)\n",
        "    # Test on validation set.\n",
        "    val_loss, val_correct = net_test(net,val,batch_size)\n",
        "    val_error.append(val_loss)\n",
        "# Test on test set.\n",
        "test_loss, test_correct = net_test(net,test,batch_size,ttype='test')\n",
        "# Save model\n",
        "torch.save(net.state_dict(), datadir + 'models/' + model_name)"
      ],
      "execution_count": 0,
      "outputs": [
        {
          "output_type": "stream",
          "text": [
            "cuda:0\n",
            "(70000, 784)\n"
          ],
          "name": "stdout"
        },
        {
          "output_type": "stream",
          "text": [
            "100%|██████████| 10000/10000 [00:00<00:00, 35409.91it/s, loss=0.386]\n",
            " 40%|████      | 4000/10000 [00:00<00:00, 37556.62it/s, loss=0.304]"
          ],
          "name": "stderr"
        },
        {
          "output_type": "stream",
          "text": [
            "\n",
            "Training set epoch 0: Avg. loss: 0.0022, Accuracy: 6586/10000 (66%)\n",
            "\n",
            "\n",
            "Validation set: Avg. loss: 0.0006, Accuracy: 9063/10000 (91%)\n",
            "\n"
          ],
          "name": "stdout"
        },
        {
          "output_type": "stream",
          "text": [
            "100%|██████████| 10000/10000 [00:00<00:00, 37446.57it/s, loss=0.183]\n",
            " 40%|████      | 4000/10000 [00:00<00:00, 37715.51it/s, loss=0.206]"
          ],
          "name": "stderr"
        },
        {
          "output_type": "stream",
          "text": [
            "\n",
            "Training set epoch 1: Avg. loss: 0.0006, Accuracy: 9100/10000 (91%)\n",
            "\n",
            "\n",
            "Validation set: Avg. loss: 0.0004, Accuracy: 9435/10000 (94%)\n",
            "\n"
          ],
          "name": "stdout"
        },
        {
          "output_type": "stream",
          "text": [
            "100%|██████████| 10000/10000 [00:00<00:00, 37476.31it/s, loss=0.121]\n",
            " 40%|████      | 4000/10000 [00:00<00:00, 37646.03it/s, loss=0.174]"
          ],
          "name": "stderr"
        },
        {
          "output_type": "stream",
          "text": [
            "\n",
            "Training set epoch 2: Avg. loss: 0.0004, Accuracy: 9416/10000 (94%)\n",
            "\n",
            "\n",
            "Validation set: Avg. loss: 0.0002, Accuracy: 9628/10000 (96%)\n",
            "\n"
          ],
          "name": "stdout"
        },
        {
          "output_type": "stream",
          "text": [
            "100%|██████████| 10000/10000 [00:00<00:00, 37438.21it/s, loss=0.0956]\n",
            " 40%|████      | 4000/10000 [00:00<00:00, 37679.00it/s, loss=0.13]"
          ],
          "name": "stderr"
        },
        {
          "output_type": "stream",
          "text": [
            "\n",
            "Training set epoch 3: Avg. loss: 0.0003, Accuracy: 9537/10000 (95%)\n",
            "\n",
            "\n",
            "Validation set: Avg. loss: 0.0002, Accuracy: 9692/10000 (97%)\n",
            "\n"
          ],
          "name": "stdout"
        },
        {
          "output_type": "stream",
          "text": [
            "100%|██████████| 10000/10000 [00:00<00:00, 37523.62it/s, loss=0.0777]\n",
            " 40%|████      | 4000/10000 [00:00<00:00, 37495.09it/s, loss=0.103]"
          ],
          "name": "stderr"
        },
        {
          "output_type": "stream",
          "text": [
            "\n",
            "Training set epoch 4: Avg. loss: 0.0002, Accuracy: 9631/10000 (96%)\n",
            "\n",
            "\n",
            "Validation set: Avg. loss: 0.0002, Accuracy: 9747/10000 (97%)\n",
            "\n"
          ],
          "name": "stdout"
        },
        {
          "output_type": "stream",
          "text": [
            "100%|██████████| 10000/10000 [00:00<00:00, 37461.42it/s, loss=0.048]\n",
            " 40%|████      | 4000/10000 [00:00<00:00, 37652.70it/s, loss=0.074]"
          ],
          "name": "stderr"
        },
        {
          "output_type": "stream",
          "text": [
            "\n",
            "Training set epoch 5: Avg. loss: 0.0002, Accuracy: 9722/10000 (97%)\n",
            "\n",
            "\n",
            "Validation set: Avg. loss: 0.0002, Accuracy: 9762/10000 (98%)\n",
            "\n"
          ],
          "name": "stdout"
        },
        {
          "output_type": "stream",
          "text": [
            "100%|██████████| 10000/10000 [00:00<00:00, 37548.08it/s, loss=0.056]\n",
            " 40%|████      | 4000/10000 [00:00<00:00, 37648.73it/s, loss=0.0714]"
          ],
          "name": "stderr"
        },
        {
          "output_type": "stream",
          "text": [
            "\n",
            "Training set epoch 6: Avg. loss: 0.0002, Accuracy: 9737/10000 (97%)\n",
            "\n",
            "\n",
            "Validation set: Avg. loss: 0.0001, Accuracy: 9790/10000 (98%)\n",
            "\n"
          ],
          "name": "stdout"
        },
        {
          "output_type": "stream",
          "text": [
            "100%|██████████| 10000/10000 [00:00<00:00, 37625.28it/s, loss=0.0383]\n",
            " 40%|████      | 4000/10000 [00:00<00:00, 37652.79it/s, loss=0.0769]"
          ],
          "name": "stderr"
        },
        {
          "output_type": "stream",
          "text": [
            "\n",
            "Training set epoch 7: Avg. loss: 0.0002, Accuracy: 9770/10000 (98%)\n",
            "\n",
            "\n",
            "Validation set: Avg. loss: 0.0001, Accuracy: 9810/10000 (98%)\n",
            "\n"
          ],
          "name": "stdout"
        },
        {
          "output_type": "stream",
          "text": [
            "100%|██████████| 10000/10000 [00:00<00:00, 37443.76it/s, loss=0.0327]\n",
            " 40%|████      | 4000/10000 [00:00<00:00, 37664.88it/s, loss=0.0654]"
          ],
          "name": "stderr"
        },
        {
          "output_type": "stream",
          "text": [
            "\n",
            "Training set epoch 8: Avg. loss: 0.0001, Accuracy: 9792/10000 (98%)\n",
            "\n",
            "\n",
            "Validation set: Avg. loss: 0.0001, Accuracy: 9810/10000 (98%)\n",
            "\n"
          ],
          "name": "stdout"
        },
        {
          "output_type": "stream",
          "text": [
            "100%|██████████| 10000/10000 [00:00<00:00, 37489.04it/s, loss=0.0303]\n",
            " 40%|████      | 4000/10000 [00:00<00:00, 37584.88it/s, loss=0.0531]"
          ],
          "name": "stderr"
        },
        {
          "output_type": "stream",
          "text": [
            "\n",
            "Training set epoch 9: Avg. loss: 0.0001, Accuracy: 9826/10000 (98%)\n",
            "\n",
            "\n",
            "Validation set: Avg. loss: 0.0001, Accuracy: 9821/10000 (98%)\n",
            "\n"
          ],
          "name": "stdout"
        },
        {
          "output_type": "stream",
          "text": [
            "100%|██████████| 10000/10000 [00:00<00:00, 37434.37it/s, loss=0.0378]\n",
            " 40%|████      | 4000/10000 [00:00<00:00, 38209.06it/s, loss=0.0479]"
          ],
          "name": "stderr"
        },
        {
          "output_type": "stream",
          "text": [
            "\n",
            "Training set epoch 10: Avg. loss: 0.0001, Accuracy: 9841/10000 (98%)\n",
            "\n",
            "\n",
            "Validation set: Avg. loss: 0.0001, Accuracy: 9823/10000 (98%)\n",
            "\n"
          ],
          "name": "stdout"
        },
        {
          "output_type": "stream",
          "text": [
            "100%|██████████| 10000/10000 [00:00<00:00, 37792.11it/s, loss=0.0277]\n",
            " 40%|████      | 4000/10000 [00:00<00:00, 37850.12it/s, loss=0.0491]"
          ],
          "name": "stderr"
        },
        {
          "output_type": "stream",
          "text": [
            "\n",
            "Training set epoch 11: Avg. loss: 0.0001, Accuracy: 9843/10000 (98%)\n",
            "\n",
            "\n",
            "Validation set: Avg. loss: 0.0001, Accuracy: 9829/10000 (98%)\n",
            "\n"
          ],
          "name": "stdout"
        },
        {
          "output_type": "stream",
          "text": [
            "100%|██████████| 10000/10000 [00:00<00:00, 37491.25it/s, loss=0.0443]\n",
            " 40%|████      | 4000/10000 [00:00<00:00, 37556.53it/s, loss=0.059]"
          ],
          "name": "stderr"
        },
        {
          "output_type": "stream",
          "text": [
            "\n",
            "Training set epoch 12: Avg. loss: 0.0001, Accuracy: 9868/10000 (99%)\n",
            "\n",
            "\n",
            "Validation set: Avg. loss: 0.0001, Accuracy: 9790/10000 (98%)\n",
            "\n"
          ],
          "name": "stdout"
        },
        {
          "output_type": "stream",
          "text": [
            "100%|██████████| 10000/10000 [00:00<00:00, 37394.15it/s, loss=0.0311]\n",
            " 40%|████      | 4000/10000 [00:00<00:00, 37121.10it/s, loss=0.0435]"
          ],
          "name": "stderr"
        },
        {
          "output_type": "stream",
          "text": [
            "\n",
            "Training set epoch 13: Avg. loss: 0.0001, Accuracy: 9857/10000 (99%)\n",
            "\n",
            "\n",
            "Validation set: Avg. loss: 0.0001, Accuracy: 9836/10000 (98%)\n",
            "\n"
          ],
          "name": "stdout"
        },
        {
          "output_type": "stream",
          "text": [
            "100%|██████████| 10000/10000 [00:00<00:00, 37079.54it/s, loss=0.0101]\n",
            " 40%|████      | 4000/10000 [00:00<00:00, 37500.37it/s, loss=0.0447]"
          ],
          "name": "stderr"
        },
        {
          "output_type": "stream",
          "text": [
            "\n",
            "Training set epoch 14: Avg. loss: 0.0001, Accuracy: 9877/10000 (99%)\n",
            "\n",
            "\n",
            "Validation set: Avg. loss: 0.0001, Accuracy: 9837/10000 (98%)\n",
            "\n"
          ],
          "name": "stdout"
        },
        {
          "output_type": "stream",
          "text": [
            "100%|██████████| 10000/10000 [00:00<00:00, 37490.95it/s, loss=0.0129]\n",
            " 40%|████      | 4000/10000 [00:00<00:00, 37851.65it/s, loss=0.0343]"
          ],
          "name": "stderr"
        },
        {
          "output_type": "stream",
          "text": [
            "\n",
            "Training set epoch 15: Avg. loss: 0.0001, Accuracy: 9884/10000 (99%)\n",
            "\n",
            "\n",
            "Validation set: Avg. loss: 0.0001, Accuracy: 9842/10000 (98%)\n",
            "\n"
          ],
          "name": "stdout"
        },
        {
          "output_type": "stream",
          "text": [
            "100%|██████████| 10000/10000 [00:00<00:00, 37245.06it/s, loss=0.0137]\n",
            " 40%|████      | 4000/10000 [00:00<00:00, 37591.28it/s, loss=0.0135]"
          ],
          "name": "stderr"
        },
        {
          "output_type": "stream",
          "text": [
            "\n",
            "Training set epoch 16: Avg. loss: 0.0001, Accuracy: 9911/10000 (99%)\n",
            "\n",
            "\n",
            "Validation set: Avg. loss: 0.0001, Accuracy: 9851/10000 (99%)\n",
            "\n"
          ],
          "name": "stdout"
        },
        {
          "output_type": "stream",
          "text": [
            "100%|██████████| 10000/10000 [00:00<00:00, 37242.98it/s, loss=0.0128]\n",
            " 40%|████      | 4000/10000 [00:00<00:00, 37212.66it/s, loss=0.0224]"
          ],
          "name": "stderr"
        },
        {
          "output_type": "stream",
          "text": [
            "\n",
            "Training set epoch 17: Avg. loss: 0.0001, Accuracy: 9906/10000 (99%)\n",
            "\n",
            "\n",
            "Validation set: Avg. loss: 0.0001, Accuracy: 9851/10000 (99%)\n",
            "\n"
          ],
          "name": "stdout"
        },
        {
          "output_type": "stream",
          "text": [
            "100%|██████████| 10000/10000 [00:00<00:00, 37097.81it/s, loss=0.0116]\n",
            " 40%|████      | 4000/10000 [00:00<00:00, 37553.59it/s, loss=0.0241]"
          ],
          "name": "stderr"
        },
        {
          "output_type": "stream",
          "text": [
            "\n",
            "Training set epoch 18: Avg. loss: 0.0001, Accuracy: 9914/10000 (99%)\n",
            "\n",
            "\n",
            "Validation set: Avg. loss: 0.0001, Accuracy: 9856/10000 (99%)\n",
            "\n"
          ],
          "name": "stdout"
        },
        {
          "output_type": "stream",
          "text": [
            "100%|██████████| 10000/10000 [00:00<00:00, 37313.22it/s, loss=0.0105]\n"
          ],
          "name": "stderr"
        },
        {
          "output_type": "stream",
          "text": [
            "\n",
            "Training set epoch 19: Avg. loss: 0.0000, Accuracy: 9914/10000 (99%)\n",
            "\n",
            "\n",
            "Validation set: Avg. loss: 0.0001, Accuracy: 9870/10000 (99%)\n",
            "\n",
            "\n",
            "Test set: Avg. loss: 0.0001, Accuracy: 9858/10000 (99%)\n",
            "\n"
          ],
          "name": "stdout"
        }
      ]
    },
    {
      "cell_type": "code",
      "metadata": {
        "id": "are1mq9fIEnJ",
        "colab_type": "code",
        "colab": {}
      },
      "source": [
        "# The test accuracy is 0.9858, which is a slight increase in performance from the \n",
        "# original network. The results make sense because we have more information \n",
        "# with which we can make predictions. However, the we should note that the \n",
        "# improvement is only miniscule, and hence thetest accuracy may not increase \n",
        "# indefinitely as we increase the number of parameters. "
      ],
      "execution_count": 0,
      "outputs": []
    },
    {
      "cell_type": "code",
      "metadata": {
        "id": "qGqoP8RAIE4u",
        "colab_type": "code",
        "colab": {}
      },
      "source": [
        "# This time, we cut the dropout probability by half and see what happens \n",
        "# to the test accuracy. "
      ],
      "execution_count": 0,
      "outputs": []
    },
    {
      "cell_type": "code",
      "metadata": {
        "id": "HsA_uhupNPTb",
        "colab_type": "code",
        "outputId": "314ed88e-999f-45d0-935d-3f5ac7946aa2",
        "colab": {
          "base_uri": "https://localhost:8080/",
          "height": 1000
        }
      },
      "source": [
        "import time\n",
        "\n",
        "# Some parameters>\n",
        "batch_size=500\n",
        "step_size=.001\n",
        "num_epochs=20\n",
        "numtrain=10000\n",
        "minimizer=\"Adam\"\n",
        "data_set=\"mnist\"\n",
        "model_name=\"model_drop\"\n",
        "dropout_p=0.25\n",
        "dim=28\n",
        "nchannels=1\n",
        "use_gpu=True\n",
        "\n",
        "# use GPU when possible\n",
        "device = 'cuda:0' if torch.cuda.is_available() and use_gpu else 'cpu'\n",
        "print(device)\n",
        "# get data\n",
        "train,val,test=get_data(data_set=data_set)\n",
        "# Initialize the model\n",
        "net = MNIST_Net(p = dropout_p, minimizer=minimizer)\n",
        "net.to(device)\n",
        "#define optimizer\n",
        "\n",
        "# Run epochs\n",
        "train_error = [] \n",
        "val_error  = []\n",
        "for i in range(num_epochs):\n",
        "    train_loss, train_correct = run_epoch(net,i,train,batch_size, num=numtrain, ttype=\"train\")\n",
        "    train_error.append(train_loss)\n",
        "    # Test on validation set.\n",
        "    val_loss, val_correct = net_test(net,val,batch_size)\n",
        "    val_error.append(val_loss)\n",
        "# Test on test set.\n",
        "test_loss, test_correct = net_test(net,test,batch_size,ttype='test')\n",
        "# Save model\n",
        "torch.save(net.state_dict(), datadir + 'models/' + model_name)"
      ],
      "execution_count": 0,
      "outputs": [
        {
          "output_type": "stream",
          "text": [
            "cuda:0\n",
            "(70000, 784)\n"
          ],
          "name": "stdout"
        },
        {
          "output_type": "stream",
          "text": [
            "100%|██████████| 10000/10000 [00:00<00:00, 79134.08it/s, loss=0.578]\n",
            "100%|██████████| 10000/10000 [00:00<00:00, 83108.85it/s, loss=0.32]\n"
          ],
          "name": "stderr"
        },
        {
          "output_type": "stream",
          "text": [
            "\n",
            "Training set epoch 0: Avg. loss: 0.0028, Accuracy: 5977/10000 (60%)\n",
            "\n",
            "\n",
            "Validation set: Avg. loss: 0.0009, Accuracy: 8814/10000 (88%)\n",
            "\n",
            "\n",
            "Training set epoch 1: Avg. loss: 0.0009, Accuracy: 8625/10000 (86%)\n",
            "\n"
          ],
          "name": "stdout"
        },
        {
          "output_type": "stream",
          "text": [
            "100%|██████████| 10000/10000 [00:00<00:00, 82792.39it/s, loss=0.199]\n",
            " 15%|█▌        | 1500/10000 [00:00<00:00, 64875.09it/s, loss=0.171]"
          ],
          "name": "stderr"
        },
        {
          "output_type": "stream",
          "text": [
            "\n",
            "Validation set: Avg. loss: 0.0005, Accuracy: 9240/10000 (92%)\n",
            "\n",
            "\n",
            "Training set epoch 2: Avg. loss: 0.0006, Accuracy: 9151/10000 (92%)\n",
            "\n",
            "\n",
            "Validation set: Avg. loss: 0.0004, Accuracy: 9451/10000 (95%)\n",
            "\n"
          ],
          "name": "stdout"
        },
        {
          "output_type": "stream",
          "text": [
            "100%|██████████| 10000/10000 [00:00<00:00, 83433.54it/s, loss=0.138]\n",
            "100%|██████████| 10000/10000 [00:00<00:00, 83397.04it/s, loss=0.113]\n"
          ],
          "name": "stderr"
        },
        {
          "output_type": "stream",
          "text": [
            "\n",
            "Training set epoch 3: Avg. loss: 0.0004, Accuracy: 9370/10000 (94%)\n",
            "\n",
            "\n",
            "Validation set: Avg. loss: 0.0003, Accuracy: 9549/10000 (95%)\n",
            "\n",
            "\n",
            "Training set epoch 4: Avg. loss: 0.0004, Accuracy: 9483/10000 (95%)\n",
            "\n"
          ],
          "name": "stdout"
        },
        {
          "output_type": "stream",
          "text": [
            "100%|██████████| 10000/10000 [00:00<00:00, 83190.61it/s, loss=0.0898]\n",
            " 15%|█▌        | 1500/10000 [00:00<00:00, 65253.24it/s, loss=0.136]"
          ],
          "name": "stderr"
        },
        {
          "output_type": "stream",
          "text": [
            "\n",
            "Validation set: Avg. loss: 0.0002, Accuracy: 9628/10000 (96%)\n",
            "\n",
            "\n",
            "Training set epoch 5: Avg. loss: 0.0003, Accuracy: 9589/10000 (96%)\n",
            "\n",
            "\n",
            "Validation set: Avg. loss: 0.0002, Accuracy: 9678/10000 (97%)\n",
            "\n"
          ],
          "name": "stdout"
        },
        {
          "output_type": "stream",
          "text": [
            "100%|██████████| 10000/10000 [00:00<00:00, 83187.47it/s, loss=0.0863]\n",
            "100%|██████████| 10000/10000 [00:00<00:00, 84522.53it/s, loss=0.0558]\n"
          ],
          "name": "stderr"
        },
        {
          "output_type": "stream",
          "text": [
            "\n",
            "Training set epoch 6: Avg. loss: 0.0003, Accuracy: 9599/10000 (96%)\n",
            "\n",
            "\n",
            "Validation set: Avg. loss: 0.0002, Accuracy: 9724/10000 (97%)\n",
            "\n",
            "\n",
            "Training set epoch 7: Avg. loss: 0.0002, Accuracy: 9671/10000 (97%)\n",
            "\n",
            "\n",
            "Validation set: Avg. loss: 0.0002, Accuracy: 9754/10000 (98%)\n",
            "\n"
          ],
          "name": "stdout"
        },
        {
          "output_type": "stream",
          "text": [
            "100%|██████████| 10000/10000 [00:00<00:00, 83515.27it/s, loss=0.0534]\n",
            "100%|██████████| 10000/10000 [00:00<00:00, 83637.34it/s, loss=0.0446]\n"
          ],
          "name": "stderr"
        },
        {
          "output_type": "stream",
          "text": [
            "\n",
            "Training set epoch 8: Avg. loss: 0.0002, Accuracy: 9706/10000 (97%)\n",
            "\n",
            "\n",
            "Validation set: Avg. loss: 0.0002, Accuracy: 9763/10000 (98%)\n",
            "\n",
            "\n",
            "Training set epoch 9: Avg. loss: 0.0002, Accuracy: 9739/10000 (97%)\n",
            "\n"
          ],
          "name": "stdout"
        },
        {
          "output_type": "stream",
          "text": [
            "100%|██████████| 10000/10000 [00:00<00:00, 83929.22it/s, loss=0.0525]\n",
            " 15%|█▌        | 1500/10000 [00:00<00:00, 64738.24it/s, loss=0.0642]"
          ],
          "name": "stderr"
        },
        {
          "output_type": "stream",
          "text": [
            "\n",
            "Validation set: Avg. loss: 0.0001, Accuracy: 9764/10000 (98%)\n",
            "\n",
            "\n",
            "Training set epoch 10: Avg. loss: 0.0002, Accuracy: 9762/10000 (98%)\n",
            "\n",
            "\n",
            "Validation set: Avg. loss: 0.0001, Accuracy: 9770/10000 (98%)\n",
            "\n"
          ],
          "name": "stdout"
        },
        {
          "output_type": "stream",
          "text": [
            "100%|██████████| 10000/10000 [00:00<00:00, 84327.45it/s, loss=0.0458]\n",
            "100%|██████████| 10000/10000 [00:00<00:00, 83110.99it/s, loss=0.0521]\n"
          ],
          "name": "stderr"
        },
        {
          "output_type": "stream",
          "text": [
            "\n",
            "Training set epoch 11: Avg. loss: 0.0002, Accuracy: 9767/10000 (98%)\n",
            "\n",
            "\n",
            "Validation set: Avg. loss: 0.0001, Accuracy: 9783/10000 (98%)\n",
            "\n",
            "\n",
            "Training set epoch 12: Avg. loss: 0.0001, Accuracy: 9779/10000 (98%)\n",
            "\n"
          ],
          "name": "stdout"
        },
        {
          "output_type": "stream",
          "text": [
            "100%|██████████| 10000/10000 [00:00<00:00, 83321.00it/s, loss=0.0512]\n",
            " 15%|█▌        | 1500/10000 [00:00<00:00, 63526.32it/s, loss=0.0622]"
          ],
          "name": "stderr"
        },
        {
          "output_type": "stream",
          "text": [
            "\n",
            "Validation set: Avg. loss: 0.0001, Accuracy: 9771/10000 (98%)\n",
            "\n",
            "\n",
            "Training set epoch 13: Avg. loss: 0.0001, Accuracy: 9807/10000 (98%)\n",
            "\n",
            "\n",
            "Validation set: Avg. loss: 0.0001, Accuracy: 9768/10000 (98%)\n",
            "\n"
          ],
          "name": "stdout"
        },
        {
          "output_type": "stream",
          "text": [
            "100%|██████████| 10000/10000 [00:00<00:00, 83239.31it/s, loss=0.0375]\n",
            "100%|██████████| 10000/10000 [00:00<00:00, 83164.05it/s, loss=0.0278]\n"
          ],
          "name": "stderr"
        },
        {
          "output_type": "stream",
          "text": [
            "\n",
            "Training set epoch 14: Avg. loss: 0.0001, Accuracy: 9827/10000 (98%)\n",
            "\n",
            "\n",
            "Validation set: Avg. loss: 0.0001, Accuracy: 9801/10000 (98%)\n",
            "\n",
            "\n",
            "Training set epoch 15: Avg. loss: 0.0001, Accuracy: 9823/10000 (98%)\n",
            "\n"
          ],
          "name": "stdout"
        },
        {
          "output_type": "stream",
          "text": [
            "100%|██████████| 10000/10000 [00:00<00:00, 83770.81it/s, loss=0.0292]\n",
            " 15%|█▌        | 1500/10000 [00:00<00:00, 63663.24it/s, loss=0.0301]"
          ],
          "name": "stderr"
        },
        {
          "output_type": "stream",
          "text": [
            "\n",
            "Validation set: Avg. loss: 0.0001, Accuracy: 9819/10000 (98%)\n",
            "\n",
            "\n",
            "Training set epoch 16: Avg. loss: 0.0001, Accuracy: 9844/10000 (98%)\n",
            "\n",
            "\n",
            "Validation set: Avg. loss: 0.0001, Accuracy: 9827/10000 (98%)\n",
            "\n"
          ],
          "name": "stdout"
        },
        {
          "output_type": "stream",
          "text": [
            "100%|██████████| 10000/10000 [00:00<00:00, 83846.34it/s, loss=0.0239]\n",
            "100%|██████████| 10000/10000 [00:00<00:00, 83207.11it/s, loss=0.0297]\n"
          ],
          "name": "stderr"
        },
        {
          "output_type": "stream",
          "text": [
            "\n",
            "Training set epoch 17: Avg. loss: 0.0001, Accuracy: 9880/10000 (99%)\n",
            "\n",
            "\n",
            "Validation set: Avg. loss: 0.0001, Accuracy: 9823/10000 (98%)\n",
            "\n",
            "\n",
            "Training set epoch 18: Avg. loss: 0.0001, Accuracy: 9855/10000 (99%)\n",
            "\n"
          ],
          "name": "stdout"
        },
        {
          "output_type": "stream",
          "text": [
            "100%|██████████| 10000/10000 [00:00<00:00, 85177.89it/s, loss=0.0214]\n"
          ],
          "name": "stderr"
        },
        {
          "output_type": "stream",
          "text": [
            "\n",
            "Validation set: Avg. loss: 0.0001, Accuracy: 9832/10000 (98%)\n",
            "\n",
            "\n",
            "Training set epoch 19: Avg. loss: 0.0001, Accuracy: 9873/10000 (99%)\n",
            "\n",
            "\n",
            "Validation set: Avg. loss: 0.0001, Accuracy: 9831/10000 (98%)\n",
            "\n",
            "\n",
            "Test set: Avg. loss: 0.0001, Accuracy: 9849/10000 (98%)\n",
            "\n"
          ],
          "name": "stdout"
        }
      ]
    },
    {
      "cell_type": "code",
      "metadata": {
        "id": "LPZkhjdujt0l",
        "colab_type": "code",
        "colab": {}
      },
      "source": [
        "# By decreasing the dropout probability, we decrease the probability that \n",
        "# an output feature is zeroed out and weights aren't updated. For this reason we \n",
        "# retrieve similar results as when we doubled the number of parameters. Test \n",
        "# accuracy slightly increased to 0.9849. "
      ],
      "execution_count": 0,
      "outputs": []
    },
    {
      "cell_type": "code",
      "metadata": {
        "id": "JZ1HV2_gkFpT",
        "colab_type": "code",
        "colab": {}
      },
      "source": [
        "# Part (II)"
      ],
      "execution_count": 0,
      "outputs": []
    },
    {
      "cell_type": "code",
      "metadata": {
        "id": "Gy5ej1TEkalR",
        "colab_type": "code",
        "colab": {}
      },
      "source": [
        "# Design a deeper network with more or less the same number of parameters as the\n",
        "# original network. In order to prevent changes in the total number of parameters, \n",
        "# we simply divide the first layer with 32 features into two layers of \n",
        "# 16 features. "
      ],
      "execution_count": 0,
      "outputs": []
    },
    {
      "cell_type": "code",
      "metadata": {
        "id": "qD-omeJGPIgw",
        "colab_type": "code",
        "colab": {}
      },
      "source": [
        "class MNIST_Net_deeper(nn.Module):\n",
        "    def __init__(self,p=0.5,minimizer='Adam'):\n",
        "        super(MNIST_Net_deeper, self).__init__()\n",
        "        # 16 output features using 5x5 kernel applied to input image\n",
        "        self.conv1 = nn.Conv2d(1, 16, kernel_size=5)\n",
        "        # 16 output features using 5x5 kernel applied to 16 features of previous layer.\n",
        "        self.conv2 = nn.Conv2d(16, 16, kernel_size=5)\n",
        "        # 64 output features using 5x5 kernel applied to 16 features of previous layer.\n",
        "        self.conv3 = nn.Conv2d(16, 64, kernel_size=5, stride = 1, padding = 1)\n",
        "        # Dropout - zero out some output features so weights aren't updated.\n",
        "        self.conv3_drop = nn.Dropout2d(p)\n",
        "        # 64 x 1 x 1 = 64 units total in final spartial layer fully connected to 16 unit later\n",
        "        self.fc1 = nn.Linear(64, 16)\n",
        "        self.fc2 = nn.Linear(16, 10)\n",
        "        if minimizer == 'Adam':\n",
        "            self.optimizer = torch.optim.Adam(self.parameters(), lr = step_size)\n",
        "        else:\n",
        "            optimizer = torch.optim.SGD(self.parameters(), lr = step_size, momentum=0.9)\n",
        "\n",
        "        # negative log-likelihood loss \n",
        "        self.criterion=nn.CrossEntropyLoss()\n",
        "            \n",
        "    def forward(self, x):\n",
        "\n",
        "        # Apply first conv then maxpool by factor of 2 then non-linearity relu\n",
        "        x = F.relu(F.max_pool2d(self.conv1(x), 2))\n",
        "        # Apply second conv, then maxpool by factor of 2 then non-linearity relu\n",
        "        x = F.relu(F.max_pool2d(self.conv2(x), 2))\n",
        "        # Apply third conv then drop, then maxpool by factor of 2 then non-linearity relu\n",
        "        x = F.relu(F.max_pool2d(self.conv3_drop(self.conv3(x)), 2))\n",
        "        # Reshape 64 x 1 x 1 to 64 units\n",
        "        x = x.view(-1, 64)\n",
        "        # Apply fully connected layer with non-linearity relu\n",
        "        x = F.relu(self.fc1(x))\n",
        "        x = F.dropout(x, training=self.training)\n",
        "        # Final 10 unit logits layer\n",
        "        x = self.fc2(x)\n",
        "        return x\n",
        "    \n",
        "    def get_acc_and_loss(self, data, targ):\n",
        "        # Apply network to batch input\n",
        "        output = self.forward(data)\n",
        "        # Comput loss between logit output and targ (correct class labels)\n",
        "        loss = self.criterion(output, targ)\n",
        "        # Also compute correct classification rate\n",
        "        pred = torch.max(output,1)[1]\n",
        "        correct = torch.eq(pred,targ).sum()\n",
        "        \n",
        "        return loss,correct\n",
        "        \n",
        "    def run_grad(self,data,targ):\n",
        "\n",
        "        # Compute loss and accuracy\n",
        "        loss, correct=self.get_acc_and_loss(data,targ)\n",
        "        # Zero out gradients\n",
        "        self.optimizer.zero_grad()\n",
        "        # Compute gradients\n",
        "        loss.backward()\n",
        "        # Update parameters based on gradients\n",
        "        self.optimizer.step()\n",
        "        \n",
        "        return loss, correct\n",
        "    \n",
        "        "
      ],
      "execution_count": 0,
      "outputs": []
    },
    {
      "cell_type": "code",
      "metadata": {
        "id": "CFDdzIW1PIXO",
        "colab_type": "code",
        "outputId": "aad0d9c4-12ce-4ddd-8643-7378eb6c91d0",
        "colab": {
          "base_uri": "https://localhost:8080/",
          "height": 1000
        }
      },
      "source": [
        "import time\n",
        "\n",
        "# Some parameters>\n",
        "batch_size=500\n",
        "step_size=.001\n",
        "num_epochs=20\n",
        "numtrain=10000\n",
        "minimizer=\"Adam\"\n",
        "data_set=\"mnist\"\n",
        "model_name=\"model_deeper\"\n",
        "dropout_p=0.5\n",
        "dim=28\n",
        "nchannels=1\n",
        "use_gpu=True\n",
        "\n",
        "# use GPU when possible\n",
        "device = 'cuda:0' if torch.cuda.is_available() and use_gpu else 'cpu'\n",
        "print(device)\n",
        "# get data\n",
        "train,val,test=get_data(data_set=data_set)\n",
        "# Initialize the model\n",
        "net = MNIST_Net_deeper(p = dropout_p, minimizer=minimizer)\n",
        "net.to(device)\n",
        "#define optimizer\n",
        "\n",
        "# Run epochs\n",
        "train_error = [] \n",
        "val_error  = []\n",
        "for i in range(num_epochs):\n",
        "    train_loss, train_correct = run_epoch(net,i,train,batch_size, num=numtrain, ttype=\"train\")\n",
        "    train_error.append(train_loss)\n",
        "    # Test on validation set.\n",
        "    val_loss, val_correct = net_test(net,val,batch_size)\n",
        "    val_error.append(val_loss)\n",
        "# Test on test set.\n",
        "test_loss, test_correct = net_test(net,test,batch_size,ttype='test')\n",
        "# Save model\n",
        "torch.save(net.state_dict(), datadir + 'models/' + model_name)"
      ],
      "execution_count": 0,
      "outputs": [
        {
          "output_type": "stream",
          "text": [
            "cuda:0\n",
            "(70000, 784)\n"
          ],
          "name": "stdout"
        },
        {
          "output_type": "stream",
          "text": [
            "100%|██████████| 10000/10000 [00:00<00:00, 74428.06it/s, loss=2.09]\n",
            "100%|██████████| 10000/10000 [00:00<00:00, 76105.10it/s, loss=1.7]\n",
            "  0%|          | 0/10000 [00:00<?, ?it/s]"
          ],
          "name": "stderr"
        },
        {
          "output_type": "stream",
          "text": [
            "\n",
            "Training set epoch 0: Avg. loss: 0.0045, Accuracy: 1666/10000 (17%)\n",
            "\n",
            "\n",
            "Validation set: Avg. loss: 0.0040, Accuracy: 4639/10000 (46%)\n",
            "\n",
            "\n",
            "Training set epoch 1: Avg. loss: 0.0037, Accuracy: 3223/10000 (32%)\n",
            "\n",
            "\n",
            "Validation set: Avg. loss: 0.0028, Accuracy: 6026/10000 (60%)\n",
            "\n"
          ],
          "name": "stdout"
        },
        {
          "output_type": "stream",
          "text": [
            "100%|██████████| 10000/10000 [00:00<00:00, 78591.67it/s, loss=1.38]\n",
            "100%|██████████| 10000/10000 [00:00<00:00, 76496.94it/s, loss=1.27]\n",
            "  0%|          | 0/10000 [00:00<?, ?it/s]"
          ],
          "name": "stderr"
        },
        {
          "output_type": "stream",
          "text": [
            "\n",
            "Training set epoch 2: Avg. loss: 0.0031, Accuracy: 4357/10000 (44%)\n",
            "\n",
            "\n",
            "Validation set: Avg. loss: 0.0021, Accuracy: 7055/10000 (71%)\n",
            "\n",
            "\n",
            "Training set epoch 3: Avg. loss: 0.0027, Accuracy: 5054/10000 (51%)\n",
            "\n",
            "\n",
            "Validation set: Avg. loss: 0.0018, Accuracy: 8047/10000 (80%)\n",
            "\n"
          ],
          "name": "stdout"
        },
        {
          "output_type": "stream",
          "text": [
            "100%|██████████| 10000/10000 [00:00<00:00, 77623.28it/s, loss=1.13]\n",
            "100%|██████████| 10000/10000 [00:00<00:00, 81497.07it/s, loss=1.08]\n",
            "  0%|          | 0/10000 [00:00<?, ?it/s, loss=1.06]"
          ],
          "name": "stderr"
        },
        {
          "output_type": "stream",
          "text": [
            "\n",
            "Training set epoch 4: Avg. loss: 0.0025, Accuracy: 5539/10000 (55%)\n",
            "\n",
            "\n",
            "Validation set: Avg. loss: 0.0014, Accuracy: 8265/10000 (83%)\n",
            "\n",
            "\n",
            "Training set epoch 5: Avg. loss: 0.0022, Accuracy: 5923/10000 (59%)\n",
            "\n",
            "\n",
            "Validation set: Avg. loss: 0.0012, Accuracy: 8485/10000 (85%)\n",
            "\n"
          ],
          "name": "stdout"
        },
        {
          "output_type": "stream",
          "text": [
            "100%|██████████| 10000/10000 [00:00<00:00, 77239.33it/s, loss=0.945]\n",
            "100%|██████████| 10000/10000 [00:00<00:00, 77053.44it/s, loss=0.891]\n",
            "  0%|          | 0/10000 [00:00<?, ?it/s]"
          ],
          "name": "stderr"
        },
        {
          "output_type": "stream",
          "text": [
            "\n",
            "Training set epoch 6: Avg. loss: 0.0020, Accuracy: 6303/10000 (63%)\n",
            "\n",
            "\n",
            "Validation set: Avg. loss: 0.0010, Accuracy: 8775/10000 (88%)\n",
            "\n",
            "\n",
            "Training set epoch 7: Avg. loss: 0.0019, Accuracy: 6575/10000 (66%)\n",
            "\n",
            "\n",
            "Validation set: Avg. loss: 0.0009, Accuracy: 8844/10000 (88%)\n",
            "\n"
          ],
          "name": "stdout"
        },
        {
          "output_type": "stream",
          "text": [
            "100%|██████████| 10000/10000 [00:00<00:00, 80487.57it/s, loss=0.844]\n",
            "100%|██████████| 10000/10000 [00:00<00:00, 78291.52it/s, loss=0.871]\n",
            "  0%|          | 0/10000 [00:00<?, ?it/s]"
          ],
          "name": "stderr"
        },
        {
          "output_type": "stream",
          "text": [
            "\n",
            "Training set epoch 8: Avg. loss: 0.0018, Accuracy: 6738/10000 (67%)\n",
            "\n",
            "\n",
            "Validation set: Avg. loss: 0.0008, Accuracy: 9093/10000 (91%)\n",
            "\n",
            "\n",
            "Training set epoch 9: Avg. loss: 0.0017, Accuracy: 6895/10000 (69%)\n",
            "\n",
            "\n",
            "Validation set: Avg. loss: 0.0008, Accuracy: 9185/10000 (92%)\n",
            "\n"
          ],
          "name": "stdout"
        },
        {
          "output_type": "stream",
          "text": [
            "100%|██████████| 10000/10000 [00:00<00:00, 76832.69it/s, loss=0.708]\n",
            "100%|██████████| 10000/10000 [00:00<00:00, 81039.96it/s, loss=0.711]\n",
            "  0%|          | 0/10000 [00:00<?, ?it/s, loss=0.789]"
          ],
          "name": "stderr"
        },
        {
          "output_type": "stream",
          "text": [
            "\n",
            "Training set epoch 10: Avg. loss: 0.0016, Accuracy: 7046/10000 (70%)\n",
            "\n",
            "\n",
            "Validation set: Avg. loss: 0.0007, Accuracy: 9282/10000 (93%)\n",
            "\n",
            "\n",
            "Training set epoch 11: Avg. loss: 0.0016, Accuracy: 7093/10000 (71%)\n",
            "\n",
            "\n",
            "Validation set: Avg. loss: 0.0006, Accuracy: 9308/10000 (93%)\n",
            "\n"
          ],
          "name": "stdout"
        },
        {
          "output_type": "stream",
          "text": [
            "100%|██████████| 10000/10000 [00:00<00:00, 80278.06it/s, loss=0.726]\n",
            "100%|██████████| 10000/10000 [00:00<00:00, 77619.26it/s, loss=0.697]\n",
            "  0%|          | 0/10000 [00:00<?, ?it/s]"
          ],
          "name": "stderr"
        },
        {
          "output_type": "stream",
          "text": [
            "\n",
            "Training set epoch 12: Avg. loss: 0.0015, Accuracy: 7232/10000 (72%)\n",
            "\n",
            "\n",
            "Validation set: Avg. loss: 0.0006, Accuracy: 9336/10000 (93%)\n",
            "\n",
            "\n",
            "Training set epoch 13: Avg. loss: 0.0014, Accuracy: 7306/10000 (73%)\n",
            "\n",
            "\n",
            "Validation set: Avg. loss: 0.0005, Accuracy: 9395/10000 (94%)\n",
            "\n"
          ],
          "name": "stdout"
        },
        {
          "output_type": "stream",
          "text": [
            "100%|██████████| 10000/10000 [00:00<00:00, 79262.99it/s, loss=0.671]\n",
            "100%|██████████| 10000/10000 [00:00<00:00, 78649.15it/s, loss=0.618]\n",
            "  0%|          | 0/10000 [00:00<?, ?it/s]"
          ],
          "name": "stderr"
        },
        {
          "output_type": "stream",
          "text": [
            "\n",
            "Training set epoch 14: Avg. loss: 0.0014, Accuracy: 7402/10000 (74%)\n",
            "\n",
            "\n",
            "Validation set: Avg. loss: 0.0005, Accuracy: 9449/10000 (94%)\n",
            "\n",
            "\n",
            "Training set epoch 15: Avg. loss: 0.0014, Accuracy: 7501/10000 (75%)\n",
            "\n",
            "\n",
            "Validation set: Avg. loss: 0.0004, Accuracy: 9467/10000 (95%)\n",
            "\n"
          ],
          "name": "stdout"
        },
        {
          "output_type": "stream",
          "text": [
            "100%|██████████| 10000/10000 [00:00<00:00, 80306.34it/s, loss=0.594]\n",
            "100%|██████████| 10000/10000 [00:00<00:00, 78438.38it/s, loss=0.651]\n",
            "  0%|          | 0/10000 [00:00<?, ?it/s]"
          ],
          "name": "stderr"
        },
        {
          "output_type": "stream",
          "text": [
            "\n",
            "Training set epoch 16: Avg. loss: 0.0013, Accuracy: 7614/10000 (76%)\n",
            "\n",
            "\n",
            "Validation set: Avg. loss: 0.0004, Accuracy: 9491/10000 (95%)\n",
            "\n",
            "\n",
            "Training set epoch 17: Avg. loss: 0.0013, Accuracy: 7590/10000 (76%)\n",
            "\n",
            "\n",
            "Validation set: Avg. loss: 0.0004, Accuracy: 9525/10000 (95%)\n",
            "\n"
          ],
          "name": "stdout"
        },
        {
          "output_type": "stream",
          "text": [
            "100%|██████████| 10000/10000 [00:00<00:00, 79183.98it/s, loss=0.542]\n",
            "100%|██████████| 10000/10000 [00:00<00:00, 81005.68it/s, loss=0.562]\n"
          ],
          "name": "stderr"
        },
        {
          "output_type": "stream",
          "text": [
            "\n",
            "Training set epoch 18: Avg. loss: 0.0012, Accuracy: 7763/10000 (78%)\n",
            "\n",
            "\n",
            "Validation set: Avg. loss: 0.0004, Accuracy: 9561/10000 (96%)\n",
            "\n",
            "\n",
            "Training set epoch 19: Avg. loss: 0.0012, Accuracy: 7746/10000 (77%)\n",
            "\n",
            "\n",
            "Validation set: Avg. loss: 0.0004, Accuracy: 9548/10000 (95%)\n",
            "\n",
            "\n",
            "Test set: Avg. loss: 0.0004, Accuracy: 9572/10000 (96%)\n",
            "\n"
          ],
          "name": "stdout"
        }
      ]
    },
    {
      "cell_type": "code",
      "metadata": {
        "id": "p193wTXUPINk",
        "colab_type": "code",
        "colab": {}
      },
      "source": [
        "# Surprisingly, adding another layer while keeping the total \n",
        "# number of parameters more or less the same slightly decreased test accuracy\n",
        "# compared to the original model. We can try a different division of layers in \n",
        "# the next experiment. Here, we divide the second layer with 64 features into \n",
        "# two layers of 32 features. "
      ],
      "execution_count": 0,
      "outputs": []
    },
    {
      "cell_type": "code",
      "metadata": {
        "id": "YjGxaNFJPH3E",
        "colab_type": "code",
        "colab": {}
      },
      "source": [
        "class MNIST_Net_config(nn.Module):\n",
        "    def __init__(self,p=0.5,minimizer='Adam'):\n",
        "        super(MNIST_Net_config, self).__init__()\n",
        "        # 32 output features using 5x5 kernel applied to input image\n",
        "        self.conv1 = nn.Conv2d(1, 32, kernel_size=5)\n",
        "        # 32 output features using 5x5 kernel applied to 32 features of previous layer.\n",
        "        self.conv2 = nn.Conv2d(32, 32, kernel_size=5)\n",
        "        # 32 output features using 5x5 kernel applied to 32 features of previous layer.\n",
        "        self.conv3 = nn.Conv2d(32, 32, kernel_size =5, padding = 1)\n",
        "        # Dropout - zero out some output features so weights aren't updated.\n",
        "        self.conv3_drop = nn.Dropout2d(p)\n",
        "        # 32 x 1 x 1 = 32 units total in final spartial layer fully connected to 32 unit later\n",
        "        self.fc1 = nn.Linear(32, 32)\n",
        "        # Last layer has 10 units for 10 classes\n",
        "        self.fc2 = nn.Linear(32, 10)\n",
        "        if minimizer == 'Adam':\n",
        "            self.optimizer = torch.optim.Adam(self.parameters(), lr = step_size)\n",
        "        else:\n",
        "            optimizer = torch.optim.SGD(self.parameters(), lr = step_size, momentum=0.9)\n",
        "\n",
        "        # negative log-likelihood loss \n",
        "        self.criterion=nn.CrossEntropyLoss()\n",
        "            \n",
        "    def forward(self, x):\n",
        "\n",
        "        # Apply first conv then maxpool by factor of 2 then non-linearity relu\n",
        "        x = F.relu(F.max_pool2d(self.conv1(x), 2))\n",
        "        # Apply first conv then maxpool by factor of 2 then non-linearity relu\n",
        "        x = F.relu(F.max_pool2d(self.conv2(x), 2))\n",
        "        # Apply second conv then drop, then maxpool by factor of 2 then non-linearity relu\n",
        "        x = F.relu(F.max_pool2d(self.conv3_drop(self.conv3(x)), 2))\n",
        "        # Reshape 32 x 1 x 1 to 32 units\n",
        "        x = x.view(-1, 32)\n",
        "        # Apply fully connected layer with non-linearity relu\n",
        "        x = F.relu(self.fc1(x))\n",
        "        # Another dropout\n",
        "        x = F.dropout(x, training=self.training)\n",
        "        # Final 10 unit logits layer\n",
        "        x = self.fc2(x)\n",
        "        return x\n",
        "    \n",
        "    def get_acc_and_loss(self, data, targ):\n",
        "        # Apply network to batch input\n",
        "        output = self.forward(data)\n",
        "        # Comput loss between logit output and targ (correct class labels)\n",
        "        loss = self.criterion(output, targ)\n",
        "        # Also compute correct classification rate\n",
        "        pred = torch.max(output,1)[1]\n",
        "        correct = torch.eq(pred,targ).sum()\n",
        "        \n",
        "        return loss,correct\n",
        "        \n",
        "    def run_grad(self,data,targ):\n",
        "\n",
        "        # Compute loss and accuracy\n",
        "        loss, correct=self.get_acc_and_loss(data,targ)\n",
        "        # Zero out gradients\n",
        "        self.optimizer.zero_grad()\n",
        "        # Compute gradients\n",
        "        loss.backward()\n",
        "        # Update parameters based on gradients\n",
        "        self.optimizer.step()\n",
        "        \n",
        "        return loss, correct\n",
        "    \n",
        "        "
      ],
      "execution_count": 0,
      "outputs": []
    },
    {
      "cell_type": "code",
      "metadata": {
        "id": "k-bl_IDPTtc9",
        "colab_type": "code",
        "outputId": "79c81c2a-74b3-48b6-d441-e6e1b0d1f324",
        "colab": {
          "base_uri": "https://localhost:8080/",
          "height": 1000
        }
      },
      "source": [
        "import time\n",
        "\n",
        "# Some parameters>\n",
        "batch_size=500\n",
        "step_size=.001\n",
        "num_epochs=20\n",
        "numtrain=10000\n",
        "minimizer=\"Adam\"\n",
        "data_set=\"mnist\"\n",
        "model_name=\"model_config\"\n",
        "dropout_p=0.5\n",
        "dim=28\n",
        "nchannels=1\n",
        "use_gpu=True\n",
        "\n",
        "# use GPU when possible\n",
        "device = 'cuda:0' if torch.cuda.is_available() and use_gpu else 'cpu'\n",
        "print(device)\n",
        "# get data\n",
        "train,val,test=get_data(data_set=data_set)\n",
        "# Initialize the model\n",
        "net = MNIST_Net_config(p = dropout_p, minimizer=minimizer)\n",
        "net.to(device)\n",
        "#define optimizer\n",
        "\n",
        "# Run epochs\n",
        "train_error = [] \n",
        "val_error  = []\n",
        "for i in range(num_epochs):\n",
        "    train_loss, train_correct = run_epoch(net,i,train,batch_size, num=numtrain, ttype=\"train\")\n",
        "    train_error.append(train_loss)\n",
        "    # Test on validation set.\n",
        "    val_loss, val_correct = net_test(net,val,batch_size)\n",
        "    val_error.append(val_loss)\n",
        "# Test on test set.\n",
        "test_loss, test_correct = net_test(net,test,batch_size,ttype='test')\n",
        "# Save model\n",
        "torch.save(net.state_dict(), datadir + 'models/' + model_name)"
      ],
      "execution_count": 0,
      "outputs": [
        {
          "output_type": "stream",
          "text": [
            "cuda:0\n",
            "(70000, 784)\n"
          ],
          "name": "stdout"
        },
        {
          "output_type": "stream",
          "text": [
            "100%|██████████| 10000/10000 [00:00<00:00, 67579.22it/s, loss=2.13]\n",
            "100%|██████████| 10000/10000 [00:00<00:00, 68607.13it/s, loss=1.71]\n"
          ],
          "name": "stderr"
        },
        {
          "output_type": "stream",
          "text": [
            "\n",
            "Training set epoch 0: Avg. loss: 0.0045, Accuracy: 1601/10000 (16%)\n",
            "\n",
            "\n",
            "Validation set: Avg. loss: 0.0041, Accuracy: 3994/10000 (40%)\n",
            "\n",
            "\n",
            "Training set epoch 1: Avg. loss: 0.0038, Accuracy: 3194/10000 (32%)\n",
            "\n"
          ],
          "name": "stdout"
        },
        {
          "output_type": "stream",
          "text": [
            "100%|██████████| 10000/10000 [00:00<00:00, 68744.09it/s, loss=1.36]\n"
          ],
          "name": "stderr"
        },
        {
          "output_type": "stream",
          "text": [
            "\n",
            "Validation set: Avg. loss: 0.0028, Accuracy: 5863/10000 (59%)\n",
            "\n",
            "\n",
            "Training set epoch 2: Avg. loss: 0.0031, Accuracy: 4437/10000 (44%)\n",
            "\n",
            "\n",
            "Validation set: Avg. loss: 0.0019, Accuracy: 7241/10000 (72%)\n",
            "\n"
          ],
          "name": "stdout"
        },
        {
          "output_type": "stream",
          "text": [
            "100%|██████████| 10000/10000 [00:00<00:00, 71715.77it/s, loss=1.18]\n",
            "100%|██████████| 10000/10000 [00:00<00:00, 70423.62it/s, loss=1.01]\n"
          ],
          "name": "stderr"
        },
        {
          "output_type": "stream",
          "text": [
            "\n",
            "Training set epoch 3: Avg. loss: 0.0025, Accuracy: 5365/10000 (54%)\n",
            "\n",
            "\n",
            "Validation set: Avg. loss: 0.0014, Accuracy: 7922/10000 (79%)\n",
            "\n",
            "\n",
            "Training set epoch 4: Avg. loss: 0.0022, Accuracy: 5910/10000 (59%)\n",
            "\n"
          ],
          "name": "stdout"
        },
        {
          "output_type": "stream",
          "text": [
            "100%|██████████| 10000/10000 [00:00<00:00, 69616.97it/s, loss=0.861]\n"
          ],
          "name": "stderr"
        },
        {
          "output_type": "stream",
          "text": [
            "\n",
            "Validation set: Avg. loss: 0.0012, Accuracy: 8648/10000 (86%)\n",
            "\n",
            "\n",
            "Training set epoch 5: Avg. loss: 0.0020, Accuracy: 6407/10000 (64%)\n",
            "\n",
            "\n",
            "Validation set: Avg. loss: 0.0009, Accuracy: 8944/10000 (89%)\n",
            "\n"
          ],
          "name": "stdout"
        },
        {
          "output_type": "stream",
          "text": [
            "100%|██████████| 10000/10000 [00:00<00:00, 69598.37it/s, loss=0.774]\n",
            "100%|██████████| 10000/10000 [00:00<00:00, 71001.81it/s, loss=0.733]\n"
          ],
          "name": "stderr"
        },
        {
          "output_type": "stream",
          "text": [
            "\n",
            "Training set epoch 6: Avg. loss: 0.0018, Accuracy: 6816/10000 (68%)\n",
            "\n",
            "\n",
            "Validation set: Avg. loss: 0.0008, Accuracy: 9188/10000 (92%)\n",
            "\n",
            "\n",
            "Training set epoch 7: Avg. loss: 0.0017, Accuracy: 7067/10000 (71%)\n",
            "\n"
          ],
          "name": "stdout"
        },
        {
          "output_type": "stream",
          "text": [
            "100%|██████████| 10000/10000 [00:00<00:00, 67331.11it/s, loss=0.697]"
          ],
          "name": "stderr"
        },
        {
          "output_type": "stream",
          "text": [
            "\n",
            "Validation set: Avg. loss: 0.0007, Accuracy: 9304/10000 (93%)\n",
            "\n",
            "\n",
            "Training set epoch 8: Avg. loss: 0.0016, Accuracy: 7230/10000 (72%)\n",
            "\n",
            "\n",
            "Validation set: Avg. loss: 0.0007, Accuracy: 9371/10000 (94%)\n",
            "\n"
          ],
          "name": "stdout"
        },
        {
          "output_type": "stream",
          "text": [
            "\n",
            "100%|██████████| 10000/10000 [00:00<00:00, 68272.78it/s, loss=0.74]\n",
            "100%|██████████| 10000/10000 [00:00<00:00, 67775.78it/s, loss=0.653]\n"
          ],
          "name": "stderr"
        },
        {
          "output_type": "stream",
          "text": [
            "\n",
            "Training set epoch 9: Avg. loss: 0.0015, Accuracy: 7292/10000 (73%)\n",
            "\n",
            "\n",
            "Validation set: Avg. loss: 0.0006, Accuracy: 9440/10000 (94%)\n",
            "\n",
            "\n",
            "Training set epoch 10: Avg. loss: 0.0014, Accuracy: 7527/10000 (75%)\n",
            "\n"
          ],
          "name": "stdout"
        },
        {
          "output_type": "stream",
          "text": [
            "100%|██████████| 10000/10000 [00:00<00:00, 66556.39it/s, loss=0.585]"
          ],
          "name": "stderr"
        },
        {
          "output_type": "stream",
          "text": [
            "\n",
            "Validation set: Avg. loss: 0.0005, Accuracy: 9510/10000 (95%)\n",
            "\n",
            "\n",
            "Training set epoch 11: Avg. loss: 0.0013, Accuracy: 7631/10000 (76%)\n",
            "\n",
            "\n",
            "Validation set: Avg. loss: 0.0005, Accuracy: 9511/10000 (95%)\n",
            "\n"
          ],
          "name": "stdout"
        },
        {
          "output_type": "stream",
          "text": [
            "\n",
            "100%|██████████| 10000/10000 [00:00<00:00, 70373.40it/s, loss=0.612]\n",
            "  0%|          | 0/10000 [00:00<?, ?it/s]"
          ],
          "name": "stderr"
        },
        {
          "output_type": "stream",
          "text": [
            "\n",
            "Training set epoch 12: Avg. loss: 0.0013, Accuracy: 7722/10000 (77%)\n",
            "\n",
            "\n",
            "Validation set: Avg. loss: 0.0004, Accuracy: 9550/10000 (96%)\n",
            "\n"
          ],
          "name": "stdout"
        },
        {
          "output_type": "stream",
          "text": [
            "100%|██████████| 10000/10000 [00:00<00:00, 70662.45it/s, loss=0.592]\n",
            "100%|██████████| 10000/10000 [00:00<00:00, 70277.66it/s, loss=0.543]\n"
          ],
          "name": "stderr"
        },
        {
          "output_type": "stream",
          "text": [
            "\n",
            "Training set epoch 13: Avg. loss: 0.0012, Accuracy: 7871/10000 (79%)\n",
            "\n",
            "\n",
            "Validation set: Avg. loss: 0.0004, Accuracy: 9592/10000 (96%)\n",
            "\n",
            "\n",
            "Training set epoch 14: Avg. loss: 0.0012, Accuracy: 7883/10000 (79%)\n",
            "\n"
          ],
          "name": "stdout"
        },
        {
          "output_type": "stream",
          "text": [
            "100%|██████████| 10000/10000 [00:00<00:00, 70365.73it/s, loss=0.489]\n",
            "  0%|          | 0/10000 [00:00<?, ?it/s]"
          ],
          "name": "stderr"
        },
        {
          "output_type": "stream",
          "text": [
            "\n",
            "Validation set: Avg. loss: 0.0004, Accuracy: 9612/10000 (96%)\n",
            "\n",
            "\n",
            "Training set epoch 15: Avg. loss: 0.0012, Accuracy: 7967/10000 (80%)\n",
            "\n",
            "\n",
            "Validation set: Avg. loss: 0.0004, Accuracy: 9641/10000 (96%)\n",
            "\n"
          ],
          "name": "stdout"
        },
        {
          "output_type": "stream",
          "text": [
            "100%|██████████| 10000/10000 [00:00<00:00, 70584.20it/s, loss=0.586]\n",
            "100%|██████████| 10000/10000 [00:00<00:00, 70601.19it/s, loss=0.526]\n"
          ],
          "name": "stderr"
        },
        {
          "output_type": "stream",
          "text": [
            "\n",
            "Training set epoch 16: Avg. loss: 0.0012, Accuracy: 7912/10000 (79%)\n",
            "\n",
            "\n",
            "Validation set: Avg. loss: 0.0003, Accuracy: 9642/10000 (96%)\n",
            "\n",
            "\n",
            "Training set epoch 17: Avg. loss: 0.0011, Accuracy: 8092/10000 (81%)\n",
            "\n"
          ],
          "name": "stdout"
        },
        {
          "output_type": "stream",
          "text": [
            "100%|██████████| 10000/10000 [00:00<00:00, 70804.40it/s, loss=0.556]\n",
            "  0%|          | 0/10000 [00:00<?, ?it/s]"
          ],
          "name": "stderr"
        },
        {
          "output_type": "stream",
          "text": [
            "\n",
            "Validation set: Avg. loss: 0.0003, Accuracy: 9638/10000 (96%)\n",
            "\n",
            "\n",
            "Training set epoch 18: Avg. loss: 0.0011, Accuracy: 8091/10000 (81%)\n",
            "\n",
            "\n",
            "Validation set: Avg. loss: 0.0003, Accuracy: 9645/10000 (96%)\n",
            "\n"
          ],
          "name": "stdout"
        },
        {
          "output_type": "stream",
          "text": [
            "100%|██████████| 10000/10000 [00:00<00:00, 69877.93it/s, loss=0.487]\n"
          ],
          "name": "stderr"
        },
        {
          "output_type": "stream",
          "text": [
            "\n",
            "Training set epoch 19: Avg. loss: 0.0011, Accuracy: 8083/10000 (81%)\n",
            "\n",
            "\n",
            "Validation set: Avg. loss: 0.0003, Accuracy: 9684/10000 (97%)\n",
            "\n",
            "\n",
            "Test set: Avg. loss: 0.0003, Accuracy: 9697/10000 (97%)\n",
            "\n"
          ],
          "name": "stdout"
        }
      ]
    },
    {
      "cell_type": "code",
      "metadata": {
        "id": "ezpLUKMMfT-A",
        "colab_type": "code",
        "colab": {}
      },
      "source": [
        "# The results are somewhat discouraging. Although I thought adding layers itself \n",
        "# contributed to genering higher test accuracy, the results show that this is\n",
        "# not necessarily true. Test accuracy was highest when we doubled the number of \n",
        "# parameters and kept the total number of layers to only two. Now, let's use this\n",
        "# to test to full trainig data. "
      ],
      "execution_count": 0,
      "outputs": []
    },
    {
      "cell_type": "code",
      "metadata": {
        "id": "LIigUs4wvH4z",
        "colab_type": "code",
        "colab": {}
      },
      "source": [
        "# Part (III)"
      ],
      "execution_count": 0,
      "outputs": []
    },
    {
      "cell_type": "code",
      "metadata": {
        "id": "BDFOTthjfTfY",
        "colab_type": "code",
        "outputId": "2f1f3fe5-03ba-488a-a9aa-89aeec249f24",
        "colab": {
          "base_uri": "https://localhost:8080/",
          "height": 1000
        }
      },
      "source": [
        "import time\n",
        "\n",
        "# Some parameters>\n",
        "batch_size=500\n",
        "step_size=.001\n",
        "num_epochs=20\n",
        "numtrain=50000\n",
        "minimizer=\"Adam\"\n",
        "data_set=\"mnist\"\n",
        "model_name=\"model_double_full\"\n",
        "dropout_p=0.5\n",
        "dim=28\n",
        "nchannels=1\n",
        "use_gpu=True\n",
        "\n",
        "# use GPU when possible\n",
        "device = 'cuda:0' if torch.cuda.is_available() and use_gpu else 'cpu'\n",
        "print(device)\n",
        "# get data\n",
        "train,val,test=get_data(data_set=data_set)\n",
        "# Initialize the model\n",
        "net = MNIST_Net_double(p = dropout_p, minimizer=minimizer)\n",
        "net.to(device)\n",
        "#define optimizer\n",
        "\n",
        "# Run epochs\n",
        "train_error = [] \n",
        "val_error  = []\n",
        "for i in range(num_epochs):\n",
        "    train_loss, train_correct = run_epoch(net,i,train,batch_size, num=numtrain, ttype=\"train\")\n",
        "    train_error.append(train_loss)\n",
        "    # Test on validation set.\n",
        "    val_loss, val_correct = net_test(net,val,batch_size)\n",
        "    val_error.append(val_loss)\n",
        "# Test on test set.\n",
        "test_loss, test_correct = net_test(net,test,batch_size,ttype='test')\n",
        "# Save model\n",
        "torch.save(net.state_dict(), datadir + 'models/' + model_name)"
      ],
      "execution_count": 0,
      "outputs": [
        {
          "output_type": "stream",
          "text": [
            "cuda:0\n",
            "(70000, 784)\n"
          ],
          "name": "stdout"
        },
        {
          "output_type": "stream",
          "text": [
            "100%|██████████| 50000/50000 [00:01<00:00, 37180.75it/s, loss=0.191]\n",
            "  5%|▌         | 2500/50000 [00:00<00:01, 31543.80it/s, loss=0.127]"
          ],
          "name": "stderr"
        },
        {
          "output_type": "stream",
          "text": [
            "\n",
            "Training set epoch 0: Avg. loss: 0.0008, Accuracy: 43709/50000 (87%)\n",
            "\n",
            "\n",
            "Validation set: Avg. loss: 0.0002, Accuracy: 9759/10000 (98%)\n",
            "\n"
          ],
          "name": "stdout"
        },
        {
          "output_type": "stream",
          "text": [
            "100%|██████████| 50000/50000 [00:01<00:00, 37514.89it/s, loss=0.129]\n",
            "  5%|▌         | 2500/50000 [00:00<00:01, 31701.92it/s, loss=0.08]  "
          ],
          "name": "stderr"
        },
        {
          "output_type": "stream",
          "text": [
            "\n",
            "Training set epoch 1: Avg. loss: 0.0002, Accuracy: 48442/50000 (97%)\n",
            "\n",
            "\n",
            "Validation set: Avg. loss: 0.0001, Accuracy: 9859/10000 (99%)\n",
            "\n"
          ],
          "name": "stdout"
        },
        {
          "output_type": "stream",
          "text": [
            "100%|██████████| 50000/50000 [00:01<00:00, 37493.75it/s, loss=0.0984]\n",
            "  5%|▌         | 2500/50000 [00:00<00:01, 31591.89it/s, loss=0.0931]"
          ],
          "name": "stderr"
        },
        {
          "output_type": "stream",
          "text": [
            "\n",
            "Training set epoch 2: Avg. loss: 0.0001, Accuracy: 48860/50000 (98%)\n",
            "\n",
            "\n",
            "Validation set: Avg. loss: 0.0001, Accuracy: 9876/10000 (99%)\n",
            "\n"
          ],
          "name": "stdout"
        },
        {
          "output_type": "stream",
          "text": [
            "100%|██████████| 50000/50000 [00:01<00:00, 37526.52it/s, loss=0.106]\n",
            "  5%|▌         | 2500/50000 [00:00<00:01, 31648.72it/s, loss=0.0627]"
          ],
          "name": "stderr"
        },
        {
          "output_type": "stream",
          "text": [
            "\n",
            "Training set epoch 3: Avg. loss: 0.0001, Accuracy: 49050/50000 (98%)\n",
            "\n",
            "\n",
            "Validation set: Avg. loss: 0.0001, Accuracy: 9893/10000 (99%)\n",
            "\n"
          ],
          "name": "stdout"
        },
        {
          "output_type": "stream",
          "text": [
            "100%|██████████| 50000/50000 [00:01<00:00, 37485.66it/s, loss=0.0766]\n",
            "  5%|▌         | 2500/50000 [00:00<00:01, 31373.64it/s, loss=0.0541]"
          ],
          "name": "stderr"
        },
        {
          "output_type": "stream",
          "text": [
            "\n",
            "Training set epoch 4: Avg. loss: 0.0001, Accuracy: 49198/50000 (98%)\n",
            "\n",
            "\n",
            "Validation set: Avg. loss: 0.0001, Accuracy: 9919/10000 (99%)\n",
            "\n"
          ],
          "name": "stdout"
        },
        {
          "output_type": "stream",
          "text": [
            "100%|██████████| 50000/50000 [00:01<00:00, 37459.33it/s, loss=0.0466]\n",
            "  5%|▌         | 2500/50000 [00:00<00:01, 31586.94it/s, loss=0.0536]"
          ],
          "name": "stderr"
        },
        {
          "output_type": "stream",
          "text": [
            "\n",
            "Training set epoch 5: Avg. loss: 0.0001, Accuracy: 49296/50000 (99%)\n",
            "\n",
            "\n",
            "Validation set: Avg. loss: 0.0001, Accuracy: 9913/10000 (99%)\n",
            "\n"
          ],
          "name": "stdout"
        },
        {
          "output_type": "stream",
          "text": [
            "100%|██████████| 50000/50000 [00:01<00:00, 37557.25it/s, loss=0.053]\n",
            "  5%|▌         | 2500/50000 [00:00<00:01, 31482.62it/s, loss=0.0458]"
          ],
          "name": "stderr"
        },
        {
          "output_type": "stream",
          "text": [
            "\n",
            "Training set epoch 6: Avg. loss: 0.0001, Accuracy: 49404/50000 (99%)\n",
            "\n",
            "\n",
            "Validation set: Avg. loss: 0.0000, Accuracy: 9919/10000 (99%)\n",
            "\n"
          ],
          "name": "stdout"
        },
        {
          "output_type": "stream",
          "text": [
            "100%|██████████| 50000/50000 [00:01<00:00, 37484.69it/s, loss=0.0582]\n",
            "  5%|▌         | 2500/50000 [00:00<00:01, 31667.46it/s, loss=0.037] "
          ],
          "name": "stderr"
        },
        {
          "output_type": "stream",
          "text": [
            "\n",
            "Training set epoch 7: Avg. loss: 0.0001, Accuracy: 49472/50000 (99%)\n",
            "\n",
            "\n",
            "Validation set: Avg. loss: 0.0000, Accuracy: 9926/10000 (99%)\n",
            "\n"
          ],
          "name": "stdout"
        },
        {
          "output_type": "stream",
          "text": [
            "100%|██████████| 50000/50000 [00:01<00:00, 37523.43it/s, loss=0.0363]\n",
            "  5%|▌         | 2500/50000 [00:00<00:01, 31511.29it/s, loss=0.0396]"
          ],
          "name": "stderr"
        },
        {
          "output_type": "stream",
          "text": [
            "\n",
            "Training set epoch 8: Avg. loss: 0.0001, Accuracy: 49524/50000 (99%)\n",
            "\n",
            "\n",
            "Validation set: Avg. loss: 0.0000, Accuracy: 9925/10000 (99%)\n",
            "\n"
          ],
          "name": "stdout"
        },
        {
          "output_type": "stream",
          "text": [
            "100%|██████████| 50000/50000 [00:01<00:00, 37486.29it/s, loss=0.0473]\n",
            "  5%|▌         | 2500/50000 [00:00<00:01, 31547.79it/s, loss=0.0273]"
          ],
          "name": "stderr"
        },
        {
          "output_type": "stream",
          "text": [
            "\n",
            "Training set epoch 9: Avg. loss: 0.0001, Accuracy: 49511/50000 (99%)\n",
            "\n",
            "\n",
            "Validation set: Avg. loss: 0.0000, Accuracy: 9928/10000 (99%)\n",
            "\n"
          ],
          "name": "stdout"
        },
        {
          "output_type": "stream",
          "text": [
            "100%|██████████| 50000/50000 [00:01<00:00, 37505.82it/s, loss=0.0348]\n",
            "  5%|▌         | 2500/50000 [00:00<00:01, 31406.34it/s, loss=0.0236] "
          ],
          "name": "stderr"
        },
        {
          "output_type": "stream",
          "text": [
            "\n",
            "Training set epoch 10: Avg. loss: 0.0000, Accuracy: 49589/50000 (99%)\n",
            "\n",
            "\n",
            "Validation set: Avg. loss: 0.0000, Accuracy: 9933/10000 (99%)\n",
            "\n"
          ],
          "name": "stdout"
        },
        {
          "output_type": "stream",
          "text": [
            "100%|██████████| 50000/50000 [00:01<00:00, 37460.97it/s, loss=0.0315]\n",
            "  5%|▌         | 2500/50000 [00:00<00:01, 31913.90it/s, loss=0.0382]"
          ],
          "name": "stderr"
        },
        {
          "output_type": "stream",
          "text": [
            "\n",
            "Training set epoch 11: Avg. loss: 0.0000, Accuracy: 49602/50000 (99%)\n",
            "\n",
            "\n",
            "Validation set: Avg. loss: 0.0000, Accuracy: 9933/10000 (99%)\n",
            "\n"
          ],
          "name": "stdout"
        },
        {
          "output_type": "stream",
          "text": [
            "100%|██████████| 50000/50000 [00:01<00:00, 37417.38it/s, loss=0.0159]\n",
            "  5%|▌         | 2500/50000 [00:00<00:01, 31650.25it/s, loss=0.0233]"
          ],
          "name": "stderr"
        },
        {
          "output_type": "stream",
          "text": [
            "\n",
            "Training set epoch 12: Avg. loss: 0.0000, Accuracy: 49648/50000 (99%)\n",
            "\n",
            "\n",
            "Validation set: Avg. loss: 0.0000, Accuracy: 9937/10000 (99%)\n",
            "\n"
          ],
          "name": "stdout"
        },
        {
          "output_type": "stream",
          "text": [
            "100%|██████████| 50000/50000 [00:01<00:00, 37522.64it/s, loss=0.048]\n",
            "  5%|▌         | 2500/50000 [00:00<00:01, 31480.26it/s, loss=0.0166] "
          ],
          "name": "stderr"
        },
        {
          "output_type": "stream",
          "text": [
            "\n",
            "Training set epoch 13: Avg. loss: 0.0000, Accuracy: 49676/50000 (99%)\n",
            "\n",
            "\n",
            "Validation set: Avg. loss: 0.0000, Accuracy: 9941/10000 (99%)\n",
            "\n"
          ],
          "name": "stdout"
        },
        {
          "output_type": "stream",
          "text": [
            "100%|██████████| 50000/50000 [00:01<00:00, 37505.17it/s, loss=0.0263]\n",
            "  5%|▌         | 2500/50000 [00:00<00:01, 31556.24it/s, loss=0.035] "
          ],
          "name": "stderr"
        },
        {
          "output_type": "stream",
          "text": [
            "\n",
            "Training set epoch 14: Avg. loss: 0.0000, Accuracy: 49681/50000 (99%)\n",
            "\n",
            "\n",
            "Validation set: Avg. loss: 0.0000, Accuracy: 9947/10000 (99%)\n",
            "\n"
          ],
          "name": "stdout"
        },
        {
          "output_type": "stream",
          "text": [
            "100%|██████████| 50000/50000 [00:01<00:00, 37499.90it/s, loss=0.029]\n",
            "  5%|▌         | 2500/50000 [00:00<00:01, 31374.39it/s, loss=0.0122] "
          ],
          "name": "stderr"
        },
        {
          "output_type": "stream",
          "text": [
            "\n",
            "Training set epoch 15: Avg. loss: 0.0000, Accuracy: 49714/50000 (99%)\n",
            "\n",
            "\n",
            "Validation set: Avg. loss: 0.0000, Accuracy: 9943/10000 (99%)\n",
            "\n"
          ],
          "name": "stdout"
        },
        {
          "output_type": "stream",
          "text": [
            "100%|██████████| 50000/50000 [00:01<00:00, 37445.86it/s, loss=0.0169]\n",
            "  5%|▌         | 2500/50000 [00:00<00:01, 31541.62it/s, loss=0.0172]"
          ],
          "name": "stderr"
        },
        {
          "output_type": "stream",
          "text": [
            "\n",
            "Training set epoch 16: Avg. loss: 0.0000, Accuracy: 49694/50000 (99%)\n",
            "\n",
            "\n",
            "Validation set: Avg. loss: 0.0000, Accuracy: 9942/10000 (99%)\n",
            "\n"
          ],
          "name": "stdout"
        },
        {
          "output_type": "stream",
          "text": [
            "100%|██████████| 50000/50000 [00:01<00:00, 37509.22it/s, loss=0.00816]\n",
            "  5%|▌         | 2500/50000 [00:00<00:01, 31530.62it/s, loss=0.0165]"
          ],
          "name": "stderr"
        },
        {
          "output_type": "stream",
          "text": [
            "\n",
            "Training set epoch 17: Avg. loss: 0.0000, Accuracy: 49726/50000 (99%)\n",
            "\n",
            "\n",
            "Validation set: Avg. loss: 0.0000, Accuracy: 9943/10000 (99%)\n",
            "\n"
          ],
          "name": "stdout"
        },
        {
          "output_type": "stream",
          "text": [
            "100%|██████████| 50000/50000 [00:01<00:00, 37507.13it/s, loss=0.0163]\n",
            "  5%|▌         | 2500/50000 [00:00<00:01, 31647.77it/s, loss=0.0131]"
          ],
          "name": "stderr"
        },
        {
          "output_type": "stream",
          "text": [
            "\n",
            "Training set epoch 18: Avg. loss: 0.0000, Accuracy: 49772/50000 (100%)\n",
            "\n",
            "\n",
            "Validation set: Avg. loss: 0.0000, Accuracy: 9942/10000 (99%)\n",
            "\n"
          ],
          "name": "stdout"
        },
        {
          "output_type": "stream",
          "text": [
            "100%|██████████| 50000/50000 [00:01<00:00, 37524.10it/s, loss=0.0277]\n"
          ],
          "name": "stderr"
        },
        {
          "output_type": "stream",
          "text": [
            "\n",
            "Training set epoch 19: Avg. loss: 0.0000, Accuracy: 49743/50000 (99%)\n",
            "\n",
            "\n",
            "Validation set: Avg. loss: 0.0000, Accuracy: 9935/10000 (99%)\n",
            "\n",
            "\n",
            "Test set: Avg. loss: 0.0001, Accuracy: 9925/10000 (99%)\n",
            "\n"
          ],
          "name": "stdout"
        }
      ]
    },
    {
      "cell_type": "code",
      "metadata": {
        "id": "8CMNXQtpf4ch",
        "colab_type": "code",
        "colab": {}
      },
      "source": [
        "# Training the double parameter model with 50,000 (full) training data, \n",
        "# we achieved 0.9925 test accuracy which is remarkable. The results concurs with \n",
        "# our findings so far in the previous experiments. The double parameter model \n",
        "# seems to have the adequate number of layers and enough parameters to make \n",
        "# predictions with very high accuracy. "
      ],
      "execution_count": 0,
      "outputs": []
    },
    {
      "cell_type": "code",
      "metadata": {
        "id": "_sr0RhrBf6qi",
        "colab_type": "code",
        "colab": {}
      },
      "source": [
        "# Part (c)"
      ],
      "execution_count": 0,
      "outputs": []
    },
    {
      "cell_type": "code",
      "metadata": {
        "id": "G1zsbL-Rf6dm",
        "colab_type": "code",
        "colab": {}
      },
      "source": [
        "def get_mnist_transform():\n",
        "    data=np.float64(np.load(datadir+'MNIST_TRANSFORM.npy'))\n",
        "    labels=np.float32(np.load(datadir+'MNIST_labels.npy'))\n",
        "    print(data.shape)\n",
        "    data=np.float32(data)/255.\n",
        "    train_dat=data[0:50000].reshape((-1,1,28,28))\n",
        "    train_labels=np.int32(labels[0:50000])\n",
        "    val_dat=data[50000:60000].reshape((-1,1,28,28))\n",
        "    val_labels=np.int32(labels[50000:60000])\n",
        "    test_dat=data[60000:70000].reshape((-1,1,28,28))\n",
        "    test_labels=np.int32(labels[60000:70000])\n",
        "    \n",
        "    return (train_dat, train_labels), (val_dat, val_labels), (test_dat, test_labels)"
      ],
      "execution_count": 0,
      "outputs": []
    },
    {
      "cell_type": "code",
      "metadata": {
        "id": "C0PVdajUf6Qo",
        "colab_type": "code",
        "colab": {}
      },
      "source": [
        "def display_digit(r,c,sub):\n",
        "    plt.figure(figsize=(c*2, r*2))\n",
        "    for i in range(r*c):\n",
        "        plt.subplot(r, c, i+1)\n",
        "        plt.imshow(sub[i].reshape((28,28)), cmap='gray')\n",
        "        plt.axis('off')\n",
        "\n",
        "    plt.axis('off')\n",
        "    plt.show()"
      ],
      "execution_count": 0,
      "outputs": []
    },
    {
      "cell_type": "code",
      "metadata": {
        "id": "ML372O5vvyrr",
        "colab_type": "code",
        "colab": {}
      },
      "source": [
        "# The first 20 digits from training data -- TRANSFORMED"
      ],
      "execution_count": 0,
      "outputs": []
    },
    {
      "cell_type": "code",
      "metadata": {
        "id": "BxjrHBppf6EO",
        "colab_type": "code",
        "outputId": "86c40271-a4aa-497c-b86a-673259a4f167",
        "colab": {
          "base_uri": "https://localhost:8080/",
          "height": 483
        }
      },
      "source": [
        "trans_train, trans_val, trans_test = get_mnist_transform()\n",
        "display_digit(4,5, trans_train[0][:20])"
      ],
      "execution_count": 0,
      "outputs": [
        {
          "output_type": "stream",
          "text": [
            "(70000, 784)\n"
          ],
          "name": "stdout"
        },
        {
          "output_type": "display_data",
          "data": {
            "image/png": "[encoded data removed]",
            "text/plain": [
              "<Figure size 720x576 with 20 Axes>"
            ]
          },
          "metadata": {
            "tags": [],
            "needs_background": "light"
          }
        }
      ]
    },
    {
      "cell_type": "code",
      "metadata": {
        "id": "xOhbNarRv94F",
        "colab_type": "code",
        "colab": {}
      },
      "source": [
        "# Original first 20 digits from the training data - UNTRANSFORMED"
      ],
      "execution_count": 0,
      "outputs": []
    },
    {
      "cell_type": "code",
      "metadata": {
        "id": "JVeUH9e_f5z2",
        "colab_type": "code",
        "outputId": "90f0a1ea-59e3-4b17-bdd5-c715207fc0f2",
        "colab": {
          "base_uri": "https://localhost:8080/",
          "height": 466
        }
      },
      "source": [
        "display_digit(4, 5, train[0][:20])"
      ],
      "execution_count": 0,
      "outputs": [
        {
          "output_type": "display_data",
          "data": {
            "image/png": "[encoded data removed]",
            "text/plain": [
              "<Figure size 720x576 with 20 Axes>"
            ]
          },
          "metadata": {
            "tags": [],
            "needs_background": "light"
          }
        }
      ]
    },
    {
      "cell_type": "code",
      "metadata": {
        "id": "wyOdv02tg98U",
        "colab_type": "code",
        "colab": {}
      },
      "source": [
        "# If we pay close attention, we may be able to identify subtle differences between\n",
        "# the two plots. However, we don't see any major transformations or manipulations.  "
      ],
      "execution_count": 0,
      "outputs": []
    },
    {
      "cell_type": "code",
      "metadata": {
        "id": "DIMhK263g_cf",
        "colab_type": "code",
        "colab": {}
      },
      "source": [
        "# We can use the original architecture to test on this data set. "
      ],
      "execution_count": 0,
      "outputs": []
    },
    {
      "cell_type": "code",
      "metadata": {
        "id": "F8TphQEcg_Pl",
        "colab_type": "code",
        "outputId": "e385f22e-4075-4169-9caa-c314ee65e508",
        "colab": {
          "base_uri": "https://localhost:8080/",
          "height": 1000
        }
      },
      "source": [
        "import time\n",
        "\n",
        "# Some parameters>\n",
        "batch_size=500\n",
        "step_size=.001\n",
        "num_epochs=20\n",
        "numtrain=10000\n",
        "minimizer=\"Adam\"\n",
        "data_set = \"mnist_transform\"\n",
        "model_name=\"model_original_transform\"\n",
        "dropout_p=0.5\n",
        "dim=28\n",
        "nchannels=1\n",
        "use_gpu=True\n",
        "\n",
        "# use GPU when possible\n",
        "device = 'cuda:0' if torch.cuda.is_available() and use_gpu else 'cpu'\n",
        "print(device)\n",
        "\n",
        "# get data\n",
        "train,val,test=get_data(data_set=data_set)\n",
        "\n",
        "# Initialize the model\n",
        "net = MNIST_Net(p = dropout_p, minimizer=minimizer)\n",
        "net.to(device)\n",
        "#define optimizer\n",
        "\n",
        "# Run epochs\n",
        "for i in range(num_epochs):\n",
        "    run_epoch(net,i,train,batch_size, num=numtrain, ttype=\"train\")\n",
        "    # Test on validation set.\n",
        "    net_test(net,val,batch_size)\n",
        "# Test on test set.\n",
        "net_test(net,test,batch_size,ttype='test')\n",
        "# Save model\n",
        "torch.save(net.state_dict(), datadir+'models/'+model_name)"
      ],
      "execution_count": 0,
      "outputs": [
        {
          "output_type": "stream",
          "text": [
            "cuda:0\n"
          ],
          "name": "stdout"
        },
        {
          "output_type": "stream",
          "text": [
            " 80%|████████  | 8000/10000 [00:00<00:00, 78837.89it/s, loss=2.3]"
          ],
          "name": "stderr"
        },
        {
          "output_type": "stream",
          "text": [
            "(70000, 784)\n"
          ],
          "name": "stdout"
        },
        {
          "output_type": "stream",
          "text": [
            "100%|██████████| 10000/10000 [00:00<00:00, 78024.85it/s, loss=2.3]\n",
            "100%|██████████| 10000/10000 [00:00<00:00, 83585.17it/s, loss=2.3]\n"
          ],
          "name": "stderr"
        },
        {
          "output_type": "stream",
          "text": [
            "\n",
            "Training set epoch 0: Avg. loss: 0.0046, Accuracy: 1047/10000 (10%)\n",
            "\n",
            "\n",
            "Validation set: Avg. loss: 0.0046, Accuracy: 1135/10000 (11%)\n",
            "\n",
            "\n",
            "Training set epoch 1: Avg. loss: 0.0046, Accuracy: 1084/10000 (11%)\n",
            "\n"
          ],
          "name": "stdout"
        },
        {
          "output_type": "stream",
          "text": [
            "100%|██████████| 10000/10000 [00:00<00:00, 80514.61it/s, loss=2.3]\n",
            " 10%|█         | 1000/10000 [00:00<00:00, 55975.55it/s, loss=2.3]"
          ],
          "name": "stderr"
        },
        {
          "output_type": "stream",
          "text": [
            "\n",
            "Validation set: Avg. loss: 0.0046, Accuracy: 1135/10000 (11%)\n",
            "\n",
            "\n",
            "Training set epoch 2: Avg. loss: 0.0046, Accuracy: 1097/10000 (11%)\n",
            "\n",
            "\n",
            "Validation set: Avg. loss: 0.0046, Accuracy: 1135/10000 (11%)\n",
            "\n"
          ],
          "name": "stdout"
        },
        {
          "output_type": "stream",
          "text": [
            "100%|██████████| 10000/10000 [00:00<00:00, 80558.37it/s, loss=2.3]\n",
            "100%|██████████| 10000/10000 [00:00<00:00, 84214.18it/s, loss=2.3]\n"
          ],
          "name": "stderr"
        },
        {
          "output_type": "stream",
          "text": [
            "\n",
            "Training set epoch 3: Avg. loss: 0.0046, Accuracy: 1109/10000 (11%)\n",
            "\n",
            "\n",
            "Validation set: Avg. loss: 0.0046, Accuracy: 1135/10000 (11%)\n",
            "\n",
            "\n",
            "Training set epoch 4: Avg. loss: 0.0046, Accuracy: 1075/10000 (11%)\n",
            "\n"
          ],
          "name": "stdout"
        },
        {
          "output_type": "stream",
          "text": [
            "100%|██████████| 10000/10000 [00:00<00:00, 84277.80it/s, loss=2.3]\n",
            " 15%|█▌        | 1500/10000 [00:00<00:00, 63406.60it/s, loss=2.3]"
          ],
          "name": "stderr"
        },
        {
          "output_type": "stream",
          "text": [
            "\n",
            "Validation set: Avg. loss: 0.0046, Accuracy: 1028/10000 (10%)\n",
            "\n",
            "\n",
            "Training set epoch 5: Avg. loss: 0.0046, Accuracy: 1141/10000 (11%)\n",
            "\n",
            "\n",
            "Validation set: Avg. loss: 0.0046, Accuracy: 1135/10000 (11%)\n",
            "\n"
          ],
          "name": "stdout"
        },
        {
          "output_type": "stream",
          "text": [
            "100%|██████████| 10000/10000 [00:00<00:00, 83534.40it/s, loss=2.3]\n",
            "100%|██████████| 10000/10000 [00:00<00:00, 83942.83it/s, loss=2.3]\n"
          ],
          "name": "stderr"
        },
        {
          "output_type": "stream",
          "text": [
            "\n",
            "Training set epoch 6: Avg. loss: 0.0046, Accuracy: 1137/10000 (11%)\n",
            "\n",
            "\n",
            "Validation set: Avg. loss: 0.0046, Accuracy: 1135/10000 (11%)\n",
            "\n",
            "\n",
            "Training set epoch 7: Avg. loss: 0.0046, Accuracy: 1125/10000 (11%)\n",
            "\n"
          ],
          "name": "stdout"
        },
        {
          "output_type": "stream",
          "text": [
            "100%|██████████| 10000/10000 [00:00<00:00, 83636.01it/s, loss=2.3]\n",
            " 15%|█▌        | 1500/10000 [00:00<00:00, 63050.75it/s, loss=2.3]"
          ],
          "name": "stderr"
        },
        {
          "output_type": "stream",
          "text": [
            "\n",
            "Validation set: Avg. loss: 0.0046, Accuracy: 1135/10000 (11%)\n",
            "\n",
            "\n",
            "Training set epoch 8: Avg. loss: 0.0046, Accuracy: 1141/10000 (11%)\n",
            "\n",
            "\n",
            "Validation set: Avg. loss: 0.0046, Accuracy: 1135/10000 (11%)\n",
            "\n"
          ],
          "name": "stdout"
        },
        {
          "output_type": "stream",
          "text": [
            "100%|██████████| 10000/10000 [00:00<00:00, 83289.39it/s, loss=2.3]\n",
            "100%|██████████| 10000/10000 [00:00<00:00, 84226.02it/s, loss=2.3]\n"
          ],
          "name": "stderr"
        },
        {
          "output_type": "stream",
          "text": [
            "\n",
            "Training set epoch 9: Avg. loss: 0.0046, Accuracy: 1127/10000 (11%)\n",
            "\n",
            "\n",
            "Validation set: Avg. loss: 0.0046, Accuracy: 1135/10000 (11%)\n",
            "\n",
            "\n",
            "Training set epoch 10: Avg. loss: 0.0046, Accuracy: 1118/10000 (11%)\n",
            "\n"
          ],
          "name": "stdout"
        },
        {
          "output_type": "stream",
          "text": [
            "100%|██████████| 10000/10000 [00:00<00:00, 84496.48it/s, loss=2.3]\n",
            " 15%|█▌        | 1500/10000 [00:00<00:00, 65153.22it/s, loss=2.3]"
          ],
          "name": "stderr"
        },
        {
          "output_type": "stream",
          "text": [
            "\n",
            "Validation set: Avg. loss: 0.0046, Accuracy: 1135/10000 (11%)\n",
            "\n",
            "\n",
            "Training set epoch 11: Avg. loss: 0.0046, Accuracy: 1136/10000 (11%)\n",
            "\n",
            "\n",
            "Validation set: Avg. loss: 0.0046, Accuracy: 1135/10000 (11%)\n",
            "\n"
          ],
          "name": "stdout"
        },
        {
          "output_type": "stream",
          "text": [
            "100%|██████████| 10000/10000 [00:00<00:00, 84292.88it/s, loss=2.3]\n",
            "100%|██████████| 10000/10000 [00:00<00:00, 82983.88it/s, loss=2.3]\n"
          ],
          "name": "stderr"
        },
        {
          "output_type": "stream",
          "text": [
            "\n",
            "Training set epoch 12: Avg. loss: 0.0046, Accuracy: 1128/10000 (11%)\n",
            "\n",
            "\n",
            "Validation set: Avg. loss: 0.0046, Accuracy: 1135/10000 (11%)\n",
            "\n",
            "\n",
            "Training set epoch 13: Avg. loss: 0.0046, Accuracy: 1130/10000 (11%)\n",
            "\n"
          ],
          "name": "stdout"
        },
        {
          "output_type": "stream",
          "text": [
            "100%|██████████| 10000/10000 [00:00<00:00, 84361.20it/s, loss=2.3]\n",
            " 15%|█▌        | 1500/10000 [00:00<00:00, 64325.21it/s, loss=2.3]"
          ],
          "name": "stderr"
        },
        {
          "output_type": "stream",
          "text": [
            "\n",
            "Validation set: Avg. loss: 0.0046, Accuracy: 1135/10000 (11%)\n",
            "\n",
            "\n",
            "Training set epoch 14: Avg. loss: 0.0046, Accuracy: 1115/10000 (11%)\n",
            "\n",
            "\n",
            "Validation set: Avg. loss: 0.0046, Accuracy: 1135/10000 (11%)\n",
            "\n"
          ],
          "name": "stdout"
        },
        {
          "output_type": "stream",
          "text": [
            "100%|██████████| 10000/10000 [00:00<00:00, 83592.17it/s, loss=2.3]\n",
            "100%|██████████| 10000/10000 [00:00<00:00, 84482.02it/s, loss=2.3]\n"
          ],
          "name": "stderr"
        },
        {
          "output_type": "stream",
          "text": [
            "\n",
            "Training set epoch 15: Avg. loss: 0.0046, Accuracy: 1118/10000 (11%)\n",
            "\n",
            "\n",
            "Validation set: Avg. loss: 0.0046, Accuracy: 1135/10000 (11%)\n",
            "\n",
            "\n",
            "Training set epoch 16: Avg. loss: 0.0046, Accuracy: 1129/10000 (11%)\n",
            "\n",
            "\n",
            "Validation set: Avg. loss: 0.0046, Accuracy: 1135/10000 (11%)\n",
            "\n"
          ],
          "name": "stdout"
        },
        {
          "output_type": "stream",
          "text": [
            "100%|██████████| 10000/10000 [00:00<00:00, 83754.92it/s, loss=2.3]\n",
            "100%|██████████| 10000/10000 [00:00<00:00, 84275.77it/s, loss=2.3]\n"
          ],
          "name": "stderr"
        },
        {
          "output_type": "stream",
          "text": [
            "\n",
            "Training set epoch 17: Avg. loss: 0.0046, Accuracy: 1120/10000 (11%)\n",
            "\n",
            "\n",
            "Validation set: Avg. loss: 0.0046, Accuracy: 1135/10000 (11%)\n",
            "\n",
            "\n",
            "Training set epoch 18: Avg. loss: 0.0046, Accuracy: 1108/10000 (11%)\n",
            "\n"
          ],
          "name": "stdout"
        },
        {
          "output_type": "stream",
          "text": [
            "100%|██████████| 10000/10000 [00:00<00:00, 83497.15it/s, loss=2.3]\n"
          ],
          "name": "stderr"
        },
        {
          "output_type": "stream",
          "text": [
            "\n",
            "Validation set: Avg. loss: 0.0046, Accuracy: 1135/10000 (11%)\n",
            "\n",
            "\n",
            "Training set epoch 19: Avg. loss: 0.0046, Accuracy: 1125/10000 (11%)\n",
            "\n",
            "\n",
            "Validation set: Avg. loss: 0.0046, Accuracy: 1135/10000 (11%)\n",
            "\n",
            "\n",
            "Test set: Avg. loss: 0.0046, Accuracy: 1064/10000 (11%)\n",
            "\n"
          ],
          "name": "stdout"
        }
      ]
    },
    {
      "cell_type": "code",
      "metadata": {
        "id": "1Ize5KPxg-_O",
        "colab_type": "code",
        "colab": {}
      },
      "source": [
        "# The classification rate indeed drops dramatically. The test accuracy \n",
        "# decreased from 0.98 to 0.1064. "
      ],
      "execution_count": 0,
      "outputs": []
    },
    {
      "cell_type": "code",
      "metadata": {
        "id": "XJMrEeuHg-wh",
        "colab_type": "code",
        "colab": {}
      },
      "source": [
        "# Let's propose some changes to the original architecture in order to solve this \n",
        "# problem. We can change the size of the kernels (probably increasing the size \n",
        "# of kernels). My argument is that larger filters have more power to denoise \n",
        "# spontaneous tilts and shifts of the digits. Hence, the prediction power \n",
        "# of the model will increase. "
      ],
      "execution_count": 0,
      "outputs": []
    },
    {
      "cell_type": "code",
      "metadata": {
        "id": "jEFQTTHrofjS",
        "colab_type": "code",
        "colab": {}
      },
      "source": [
        "class MNIST_Net_new(nn.Module):\n",
        "    def __init__(self,p=0.5,minimizer='Adam'):\n",
        "        super(MNIST_Net_new, self).__init__()\n",
        "        # 32 output features using 5x5 kernel applied to input image\n",
        "        self.conv1 = nn.Conv2d(1, 32, kernel_size= 7)\n",
        "        # 64 output features using 5x5 kernel applied to 32 features of previous layer.\n",
        "        self.conv2 = nn.Conv2d(32, 64, kernel_size= 5)\n",
        "        # Dropout - zero out some output features so weights aren't updated.\n",
        "        self.conv2_drop = nn.Dropout2d(p)\n",
        "        # 64 x 3 x 3 = 576 units total in final spartial layer fully connected to 64 unit later\n",
        "        self.fc1 = nn.Linear(576, 64)\n",
        "        # Last layer has 10 units for 10 classes\n",
        "        self.fc2 = nn.Linear(64, 10)\n",
        "        if minimizer == 'Adam':\n",
        "            self.optimizer = torch.optim.Adam(self.parameters(), lr = step_size)\n",
        "        else:\n",
        "            optimizer = torch.optim.SGD(self.parameters(), lr = step_size, momentum=0.9)\n",
        "\n",
        "        # negative log-likelihood loss \n",
        "        self.criterion=nn.CrossEntropyLoss()\n",
        "            \n",
        "    def forward(self, x):\n",
        "\n",
        "        # Apply first conv then maxpool by factor of 2 then non-linearity relu\n",
        "        x = F.relu(F.max_pool2d(self.conv1(x), 2))\n",
        "  \n",
        "        # Apply second conv then drop, then maxpool by factor of 2 then non-linearity relu\n",
        "        x = F.relu(F.max_pool2d(self.conv2_drop(self.conv2(x)), 2))\n",
        "        # Reshape 64 x 3 x 3 to 576 units\n",
        "        x = x.view(-1, 576)\n",
        "        # Apply fully connected layer with non-linearity relu\n",
        "        x = F.relu(self.fc1(x))\n",
        "        # Another dropout\n",
        "        x = F.dropout(x, training=self.training)\n",
        "        # Final 10 unit logits layer\n",
        "        x = self.fc2(x)\n",
        "        return x\n",
        "    \n",
        "    def get_acc_and_loss(self, data, targ):\n",
        "        # Apply network to batch input\n",
        "        output = self.forward(data)\n",
        "        # Comput loss between logit output and targ (correct class labels)\n",
        "        loss = self.criterion(output, targ)\n",
        "        # Also compute correct classification rate\n",
        "        pred = torch.max(output,1)[1]\n",
        "        correct = torch.eq(pred,targ).sum()\n",
        "        \n",
        "        return loss,correct\n",
        "        \n",
        "    def run_grad(self,data,targ):\n",
        "\n",
        "        # Compute loss and accuracy\n",
        "        loss, correct=self.get_acc_and_loss(data,targ)\n",
        "        # Zero out gradients\n",
        "        self.optimizer.zero_grad()\n",
        "        # Compute gradients\n",
        "        loss.backward()\n",
        "        # Update parameters based on gradients\n",
        "        self.optimizer.step()\n",
        "        \n",
        "        return loss, correct\n",
        "    \n",
        "        "
      ],
      "execution_count": 0,
      "outputs": []
    },
    {
      "cell_type": "code",
      "metadata": {
        "id": "5SprwgUV8l_c",
        "colab_type": "code",
        "colab": {}
      },
      "source": [
        "# We still want to train the model on the original training set, and perform \n",
        "# some experiments on transformed validation set. Then we can test the model on  \n",
        "# transformed test set."
      ],
      "execution_count": 0,
      "outputs": []
    },
    {
      "cell_type": "code",
      "metadata": {
        "id": "CIcysCrdztZu",
        "colab_type": "code",
        "outputId": "562c89a3-b876-4111-ccb8-c90c47d93ee3",
        "colab": {
          "base_uri": "https://localhost:8080/",
          "height": 1000
        }
      },
      "source": [
        "import time\n",
        "\n",
        "# Some parameters>\n",
        "batch_size= 500\n",
        "step_size=.001\n",
        "num_epochs=20\n",
        "numtrain=10000\n",
        "minimizer=\"Adam\"\n",
        "data_set_original = \"mnist\"\n",
        "data_set_transform = \"mnist_transform\"\n",
        "model_name=\"model_original_transform\"\n",
        "dropout_p=0.5\n",
        "dim=28\n",
        "nchannels=1\n",
        "use_gpu=True\n",
        "\n",
        "# use GPU when possible\n",
        "device = 'cuda:0' if torch.cuda.is_available() and use_gpu else 'cpu'\n",
        "print(device)\n",
        "\n",
        "# get data\n",
        "train_o, val_o, test_o = get_data(data_set=data_set_original)\n",
        "train_t, val_t, test_t = get_data(data_set=data_set_transform)\n",
        "\n",
        "# Initialize the model\n",
        "net = MNIST_Net_new(p = dropout_p, minimizer=minimizer)\n",
        "net.to(device)\n",
        "#define optimizer\n",
        "\n",
        "# Run epochs\n",
        "for i in range(num_epochs):\n",
        "    # train on original training set \n",
        "    run_epoch(net , i, train_o, batch_size, num=numtrain, ttype=\"train\")\n",
        "    # Test on transformed validation set.\n",
        "    net_test(net, val_t ,batch_size)\n",
        "# Test on transformed test set.\n",
        "net_test(net,test_t,batch_size,ttype='test')\n",
        "# Save model\n",
        "torch.save(net.state_dict(), datadir+'models/'+model_name)"
      ],
      "execution_count": 0,
      "outputs": [
        {
          "output_type": "stream",
          "text": [
            "cuda:0\n",
            "(70000, 784)\n"
          ],
          "name": "stdout"
        },
        {
          "output_type": "stream",
          "text": [
            " 95%|█████████▌| 9500/10000 [00:00<00:00, 88312.29it/s, loss=1.29]"
          ],
          "name": "stderr"
        },
        {
          "output_type": "stream",
          "text": [
            "(70000, 784)\n"
          ],
          "name": "stdout"
        },
        {
          "output_type": "stream",
          "text": [
            "100%|██████████| 10000/10000 [00:00<00:00, 87593.93it/s, loss=1.29]\n",
            "100%|██████████| 10000/10000 [00:00<00:00, 89850.92it/s, loss=0.689]\n",
            "  0%|          | 0/10000 [00:00<?, ?it/s, loss=0.685]"
          ],
          "name": "stderr"
        },
        {
          "output_type": "stream",
          "text": [
            "\n",
            "Training set epoch 0: Avg. loss: 0.0038, Accuracy: 3507/10000 (35%)\n",
            "\n",
            "\n",
            "Validation set: Avg. loss: 0.0046, Accuracy: 980/10000 (10%)\n",
            "\n",
            "\n",
            "Training set epoch 1: Avg. loss: 0.0019, Accuracy: 6903/10000 (69%)\n",
            "\n",
            "\n",
            "Validation set: Avg. loss: 0.0046, Accuracy: 1213/10000 (12%)\n",
            "\n"
          ],
          "name": "stdout"
        },
        {
          "output_type": "stream",
          "text": [
            "100%|██████████| 10000/10000 [00:00<00:00, 90617.12it/s, loss=0.52]\n",
            "100%|██████████| 10000/10000 [00:00<00:00, 89413.25it/s, loss=0.422]\n",
            "  5%|▌         | 500/10000 [00:00<00:00, 49593.30it/s, loss=0.485]"
          ],
          "name": "stderr"
        },
        {
          "output_type": "stream",
          "text": [
            "\n",
            "Training set epoch 2: Avg. loss: 0.0012, Accuracy: 8149/10000 (81%)\n",
            "\n",
            "\n",
            "Validation set: Avg. loss: 0.0046, Accuracy: 1164/10000 (12%)\n",
            "\n",
            "\n",
            "Training set epoch 3: Avg. loss: 0.0010, Accuracy: 8533/10000 (85%)\n",
            "\n",
            "\n",
            "Validation set: Avg. loss: 0.0046, Accuracy: 1135/10000 (11%)\n",
            "\n"
          ],
          "name": "stdout"
        },
        {
          "output_type": "stream",
          "text": [
            "100%|██████████| 10000/10000 [00:00<00:00, 91873.37it/s, loss=0.343]\n",
            "100%|██████████| 10000/10000 [00:00<00:00, 89384.48it/s, loss=0.283]\n",
            "  0%|          | 0/10000 [00:00<?, ?it/s, loss=0.312]"
          ],
          "name": "stderr"
        },
        {
          "output_type": "stream",
          "text": [
            "\n",
            "Training set epoch 4: Avg. loss: 0.0008, Accuracy: 8825/10000 (88%)\n",
            "\n",
            "\n",
            "Validation set: Avg. loss: 0.0046, Accuracy: 1135/10000 (11%)\n",
            "\n",
            "\n",
            "Training set epoch 5: Avg. loss: 0.0007, Accuracy: 8989/10000 (90%)\n",
            "\n",
            "\n",
            "Validation set: Avg. loss: 0.0046, Accuracy: 1135/10000 (11%)\n",
            "\n"
          ],
          "name": "stdout"
        },
        {
          "output_type": "stream",
          "text": [
            "100%|██████████| 10000/10000 [00:00<00:00, 92573.14it/s, loss=0.26]\n",
            "100%|██████████| 10000/10000 [00:00<00:00, 91745.35it/s, loss=0.262]\n",
            "  0%|          | 0/10000 [00:00<?, ?it/s, loss=0.264]"
          ],
          "name": "stderr"
        },
        {
          "output_type": "stream",
          "text": [
            "\n",
            "Training set epoch 6: Avg. loss: 0.0006, Accuracy: 9072/10000 (91%)\n",
            "\n",
            "\n",
            "Validation set: Avg. loss: 0.0046, Accuracy: 1135/10000 (11%)\n",
            "\n",
            "\n",
            "Training set epoch 7: Avg. loss: 0.0006, Accuracy: 9209/10000 (92%)\n",
            "\n",
            "\n",
            "Validation set: Avg. loss: 0.0046, Accuracy: 1153/10000 (12%)\n",
            "\n"
          ],
          "name": "stdout"
        },
        {
          "output_type": "stream",
          "text": [
            "100%|██████████| 10000/10000 [00:00<00:00, 91215.22it/s, loss=0.213]\n",
            "100%|██████████| 10000/10000 [00:00<00:00, 90949.39it/s, loss=0.202]\n",
            "  5%|▌         | 500/10000 [00:00<00:00, 46580.61it/s, loss=0.24]"
          ],
          "name": "stderr"
        },
        {
          "output_type": "stream",
          "text": [
            "\n",
            "Training set epoch 8: Avg. loss: 0.0005, Accuracy: 9263/10000 (93%)\n",
            "\n",
            "\n",
            "Validation set: Avg. loss: 0.0046, Accuracy: 1184/10000 (12%)\n",
            "\n",
            "\n",
            "Training set epoch 9: Avg. loss: 0.0005, Accuracy: 9336/10000 (93%)\n",
            "\n",
            "\n",
            "Validation set: Avg. loss: 0.0046, Accuracy: 1670/10000 (17%)\n",
            "\n"
          ],
          "name": "stdout"
        },
        {
          "output_type": "stream",
          "text": [
            "100%|██████████| 10000/10000 [00:00<00:00, 92458.05it/s, loss=0.185]\n",
            "100%|██████████| 10000/10000 [00:00<00:00, 91104.87it/s, loss=0.174]\n",
            "  5%|▌         | 500/10000 [00:00<00:00, 50491.20it/s, loss=0.222]"
          ],
          "name": "stderr"
        },
        {
          "output_type": "stream",
          "text": [
            "\n",
            "Training set epoch 10: Avg. loss: 0.0004, Accuracy: 9376/10000 (94%)\n",
            "\n",
            "\n",
            "Validation set: Avg. loss: 0.0046, Accuracy: 1157/10000 (12%)\n",
            "\n",
            "\n",
            "Training set epoch 11: Avg. loss: 0.0004, Accuracy: 9416/10000 (94%)\n",
            "\n",
            "\n",
            "Validation set: Avg. loss: 0.0046, Accuracy: 1187/10000 (12%)\n",
            "\n"
          ],
          "name": "stdout"
        },
        {
          "output_type": "stream",
          "text": [
            "100%|██████████| 10000/10000 [00:00<00:00, 93399.37it/s, loss=0.136]\n",
            "100%|██████████| 10000/10000 [00:00<00:00, 92119.14it/s, loss=0.154]\n",
            "  5%|▌         | 500/10000 [00:00<00:00, 48436.43it/s, loss=0.239]"
          ],
          "name": "stderr"
        },
        {
          "output_type": "stream",
          "text": [
            "\n",
            "Training set epoch 12: Avg. loss: 0.0004, Accuracy: 9413/10000 (94%)\n",
            "\n",
            "\n",
            "Validation set: Avg. loss: 0.0046, Accuracy: 1420/10000 (14%)\n",
            "\n",
            "\n",
            "Training set epoch 13: Avg. loss: 0.0004, Accuracy: 9437/10000 (94%)\n",
            "\n",
            "\n",
            "Validation set: Avg. loss: 0.0046, Accuracy: 1010/10000 (10%)\n",
            "\n"
          ],
          "name": "stdout"
        },
        {
          "output_type": "stream",
          "text": [
            "100%|██████████| 10000/10000 [00:00<00:00, 92523.11it/s, loss=0.149]\n",
            "100%|██████████| 10000/10000 [00:00<00:00, 92234.81it/s, loss=0.148]\n",
            "  5%|▌         | 500/10000 [00:00<00:00, 46427.98it/s, loss=0.171]"
          ],
          "name": "stderr"
        },
        {
          "output_type": "stream",
          "text": [
            "\n",
            "Training set epoch 14: Avg. loss: 0.0004, Accuracy: 9491/10000 (95%)\n",
            "\n",
            "\n",
            "Validation set: Avg. loss: 0.0046, Accuracy: 1062/10000 (11%)\n",
            "\n",
            "\n",
            "Training set epoch 15: Avg. loss: 0.0003, Accuracy: 9508/10000 (95%)\n",
            "\n",
            "\n",
            "Validation set: Avg. loss: 0.0046, Accuracy: 892/10000 (9%)\n",
            "\n"
          ],
          "name": "stdout"
        },
        {
          "output_type": "stream",
          "text": [
            "100%|██████████| 10000/10000 [00:00<00:00, 93041.56it/s, loss=0.123]\n",
            "100%|██████████| 10000/10000 [00:00<00:00, 91216.81it/s, loss=0.111]\n",
            "  5%|▌         | 500/10000 [00:00<00:00, 48764.17it/s, loss=0.166]"
          ],
          "name": "stderr"
        },
        {
          "output_type": "stream",
          "text": [
            "\n",
            "Training set epoch 16: Avg. loss: 0.0003, Accuracy: 9521/10000 (95%)\n",
            "\n",
            "\n",
            "Validation set: Avg. loss: 0.0046, Accuracy: 892/10000 (9%)\n",
            "\n",
            "\n",
            "Training set epoch 17: Avg. loss: 0.0003, Accuracy: 9556/10000 (96%)\n",
            "\n",
            "\n",
            "Validation set: Avg. loss: 0.0046, Accuracy: 892/10000 (9%)\n",
            "\n"
          ],
          "name": "stdout"
        },
        {
          "output_type": "stream",
          "text": [
            "100%|██████████| 10000/10000 [00:00<00:00, 91551.30it/s, loss=0.128]\n",
            "100%|██████████| 10000/10000 [00:00<00:00, 90670.01it/s, loss=0.117]\n"
          ],
          "name": "stderr"
        },
        {
          "output_type": "stream",
          "text": [
            "\n",
            "Training set epoch 18: Avg. loss: 0.0003, Accuracy: 9575/10000 (96%)\n",
            "\n",
            "\n",
            "Validation set: Avg. loss: 0.0046, Accuracy: 1298/10000 (13%)\n",
            "\n",
            "\n",
            "Training set epoch 19: Avg. loss: 0.0003, Accuracy: 9558/10000 (96%)\n",
            "\n",
            "\n",
            "Validation set: Avg. loss: 0.0046, Accuracy: 1366/10000 (14%)\n",
            "\n",
            "\n",
            "Test set: Avg. loss: 0.0046, Accuracy: 1447/10000 (14%)\n",
            "\n"
          ],
          "name": "stdout"
        }
      ]
    },
    {
      "cell_type": "code",
      "metadata": {
        "id": "wv2D4ZvQ_lJw",
        "colab_type": "code",
        "colab": {}
      },
      "source": [
        "# When we changed the kernel size of the first layer to [7,7], the \n",
        "# test accuracy on the transformed data set increased to 0.1447 from 0.1064. \n",
        "# Let's try changing the kernel size of the second layer and see if it further \n",
        "# increases the accuracy rate. "
      ],
      "execution_count": 0,
      "outputs": []
    },
    {
      "cell_type": "code",
      "metadata": {
        "id": "8wWAcM5y9_Df",
        "colab_type": "code",
        "colab": {}
      },
      "source": [
        "class MNIST_Net_new2(nn.Module):\n",
        "    def __init__(self,p=0.5,minimizer='Adam'):\n",
        "        super(MNIST_Net_new2, self).__init__()\n",
        "        # 32 output features using 5x5 kernel applied to input image\n",
        "        self.conv1 = nn.Conv2d(1, 32, kernel_size= 7)\n",
        "        # 64 output features using 5x5 kernel applied to 32 features of previous layer.\n",
        "        self.conv2 = nn.Conv2d(32, 64, kernel_size=7)\n",
        "        # Dropout - zero out some output features so weights aren't updated.\n",
        "        self.conv2_drop = nn.Dropout2d(p)\n",
        "        # 64 x 2 x 2 = 256 units total in final spartial layer fully connected to 64 unit later\n",
        "        self.fc1 = nn.Linear(256, 64)\n",
        "        # Last layer has 10 units for 10 classes\n",
        "        self.fc2 = nn.Linear(64, 10)\n",
        "        if minimizer == 'Adam':\n",
        "            self.optimizer = torch.optim.Adam(self.parameters(), lr = step_size)\n",
        "        else:\n",
        "            optimizer = torch.optim.SGD(self.parameters(), lr = step_size, momentum=0.9)\n",
        "\n",
        "        # negative log-likelihood loss \n",
        "        self.criterion=nn.CrossEntropyLoss()\n",
        "            \n",
        "    def forward(self, x):\n",
        "\n",
        "        # Apply first conv then maxpool by factor of 2 then non-linearity relu\n",
        "        x = F.relu(F.max_pool2d(self.conv1(x), 2))\n",
        "  \n",
        "        # Apply second conv then drop, then maxpool by factor of 2 then non-linearity relu\n",
        "        x = F.relu(F.max_pool2d(self.conv2_drop(self.conv2(x)), 2))\n",
        "        # Reshape 64 x 2 x 2 to 256 units\n",
        "        x = x.view(-1, 256)\n",
        "        # Apply fully connected layer with non-linearity relu\n",
        "        x = F.relu(self.fc1(x))\n",
        "        # Another dropout\n",
        "        x = F.dropout(x, training=self.training)\n",
        "        # Final 10 unit logits layer\n",
        "        x = self.fc2(x)\n",
        "        return x\n",
        "    \n",
        "    def get_acc_and_loss(self, data, targ):\n",
        "        # Apply network to batch input\n",
        "        output = self.forward(data)\n",
        "        # Comput loss between logit output and targ (correct class labels)\n",
        "        loss = self.criterion(output, targ)\n",
        "        # Also compute correct classification rate\n",
        "        pred = torch.max(output,1)[1]\n",
        "        correct = torch.eq(pred,targ).sum()\n",
        "        \n",
        "        return loss,correct\n",
        "        \n",
        "    def run_grad(self,data,targ):\n",
        "\n",
        "        # Compute loss and accuracy\n",
        "        loss, correct=self.get_acc_and_loss(data,targ)\n",
        "        # Zero out gradients\n",
        "        self.optimizer.zero_grad()\n",
        "        # Compute gradients\n",
        "        loss.backward()\n",
        "        # Update parameters based on gradients\n",
        "        self.optimizer.step()\n",
        "        \n",
        "        return loss, correct\n",
        "    \n",
        "        "
      ],
      "execution_count": 0,
      "outputs": []
    },
    {
      "cell_type": "code",
      "metadata": {
        "id": "A0jWTmM0Blq7",
        "colab_type": "code",
        "outputId": "5be82339-5358-48f5-bb27-9913a324b806",
        "colab": {
          "base_uri": "https://localhost:8080/",
          "height": 1000
        }
      },
      "source": [
        "import time\n",
        "\n",
        "# Some parameters>\n",
        "batch_size= 500\n",
        "step_size=.001\n",
        "num_epochs=20\n",
        "numtrain=10000\n",
        "minimizer=\"Adam\"\n",
        "data_set_original = \"mnist\"\n",
        "data_set_transform = \"mnist_transform\"\n",
        "model_name=\"model_original_transform\"\n",
        "dropout_p=0.5\n",
        "dim=28\n",
        "nchannels=1\n",
        "use_gpu=True\n",
        "\n",
        "# use GPU when possible\n",
        "device = 'cuda:0' if torch.cuda.is_available() and use_gpu else 'cpu'\n",
        "print(device)\n",
        "\n",
        "# get data\n",
        "train_o, val_o, test_o = get_data(data_set=data_set_original)\n",
        "train_t, val_t, test_t = get_data(data_set=data_set_transform)\n",
        "\n",
        "# Initialize the model\n",
        "net = MNIST_Net_new2(p = dropout_p, minimizer=minimizer)\n",
        "net.to(device)\n",
        "#define optimizer\n",
        "\n",
        "# Run epochs\n",
        "for i in range(num_epochs):\n",
        "    # train on original training set \n",
        "    run_epoch(net , i, train_o, batch_size, num=numtrain, ttype=\"train\")\n",
        "    # Test on transformed validation set.\n",
        "    net_test(net, val_t ,batch_size)\n",
        "# Test on transformed test set.\n",
        "net_test(net,test_t,batch_size,ttype='test')\n",
        "# Save model\n",
        "torch.save(net.state_dict(), datadir+'models/'+model_name)"
      ],
      "execution_count": 0,
      "outputs": [
        {
          "output_type": "stream",
          "text": [
            "cuda:0\n",
            "(70000, 784)\n"
          ],
          "name": "stdout"
        },
        {
          "output_type": "stream",
          "text": [
            " 75%|███████▌  | 7500/10000 [00:00<00:00, 73532.34it/s, loss=1.63]"
          ],
          "name": "stderr"
        },
        {
          "output_type": "stream",
          "text": [
            "(70000, 784)\n"
          ],
          "name": "stdout"
        },
        {
          "output_type": "stream",
          "text": [
            "100%|██████████| 10000/10000 [00:00<00:00, 73840.39it/s, loss=1.37]\n",
            "100%|██████████| 10000/10000 [00:00<00:00, 79038.34it/s, loss=0.744]\n"
          ],
          "name": "stderr"
        },
        {
          "output_type": "stream",
          "text": [
            "\n",
            "Training set epoch 0: Avg. loss: 0.0039, Accuracy: 3565/10000 (36%)\n",
            "\n",
            "\n",
            "Validation set: Avg. loss: 0.0046, Accuracy: 1135/10000 (11%)\n",
            "\n",
            "\n",
            "Training set epoch 1: Avg. loss: 0.0020, Accuracy: 6762/10000 (68%)\n",
            "\n"
          ],
          "name": "stdout"
        },
        {
          "output_type": "stream",
          "text": [
            "100%|██████████| 10000/10000 [00:00<00:00, 76961.68it/s, loss=0.524]\n",
            " 10%|█         | 1000/10000 [00:00<00:00, 53262.36it/s, loss=0.621]"
          ],
          "name": "stderr"
        },
        {
          "output_type": "stream",
          "text": [
            "\n",
            "Validation set: Avg. loss: 0.0046, Accuracy: 1135/10000 (11%)\n",
            "\n",
            "\n",
            "Training set epoch 2: Avg. loss: 0.0013, Accuracy: 7996/10000 (80%)\n",
            "\n",
            "\n",
            "Validation set: Avg. loss: 0.0046, Accuracy: 1135/10000 (11%)\n",
            "\n"
          ],
          "name": "stdout"
        },
        {
          "output_type": "stream",
          "text": [
            "100%|██████████| 10000/10000 [00:00<00:00, 79536.54it/s, loss=0.453]\n",
            "100%|██████████| 10000/10000 [00:00<00:00, 78730.05it/s, loss=0.355]\n"
          ],
          "name": "stderr"
        },
        {
          "output_type": "stream",
          "text": [
            "\n",
            "Training set epoch 3: Avg. loss: 0.0010, Accuracy: 8450/10000 (84%)\n",
            "\n",
            "\n",
            "Validation set: Avg. loss: 0.0046, Accuracy: 1135/10000 (11%)\n",
            "\n",
            "\n",
            "Training set epoch 4: Avg. loss: 0.0009, Accuracy: 8709/10000 (87%)\n",
            "\n",
            "\n",
            "Validation set: Avg. loss: 0.0046, Accuracy: 1135/10000 (11%)\n",
            "\n"
          ],
          "name": "stdout"
        },
        {
          "output_type": "stream",
          "text": [
            "100%|██████████| 10000/10000 [00:00<00:00, 79887.70it/s, loss=0.34]\n",
            "100%|██████████| 10000/10000 [00:00<00:00, 79614.30it/s, loss=0.318]\n"
          ],
          "name": "stderr"
        },
        {
          "output_type": "stream",
          "text": [
            "\n",
            "Training set epoch 5: Avg. loss: 0.0008, Accuracy: 8899/10000 (89%)\n",
            "\n",
            "\n",
            "Validation set: Avg. loss: 0.0046, Accuracy: 1135/10000 (11%)\n",
            "\n",
            "\n",
            "Training set epoch 6: Avg. loss: 0.0007, Accuracy: 8994/10000 (90%)\n",
            "\n",
            "\n",
            "Validation set: Avg. loss: 0.0046, Accuracy: 1028/10000 (10%)\n",
            "\n"
          ],
          "name": "stdout"
        },
        {
          "output_type": "stream",
          "text": [
            "100%|██████████| 10000/10000 [00:00<00:00, 78996.66it/s, loss=0.264]\n",
            "100%|██████████| 10000/10000 [00:00<00:00, 78963.79it/s, loss=0.253]\n"
          ],
          "name": "stderr"
        },
        {
          "output_type": "stream",
          "text": [
            "\n",
            "Training set epoch 7: Avg. loss: 0.0006, Accuracy: 9129/10000 (91%)\n",
            "\n",
            "\n",
            "Validation set: Avg. loss: 0.0046, Accuracy: 1552/10000 (16%)\n",
            "\n",
            "\n",
            "Training set epoch 8: Avg. loss: 0.0006, Accuracy: 9150/10000 (92%)\n",
            "\n",
            "\n",
            "Validation set: Avg. loss: 0.0046, Accuracy: 1028/10000 (10%)\n",
            "\n"
          ],
          "name": "stdout"
        },
        {
          "output_type": "stream",
          "text": [
            "100%|██████████| 10000/10000 [00:00<00:00, 77525.43it/s, loss=0.243]\n",
            "100%|██████████| 10000/10000 [00:00<00:00, 80287.74it/s, loss=0.18]\n"
          ],
          "name": "stderr"
        },
        {
          "output_type": "stream",
          "text": [
            "\n",
            "Training set epoch 9: Avg. loss: 0.0005, Accuracy: 9228/10000 (92%)\n",
            "\n",
            "\n",
            "Validation set: Avg. loss: 0.0046, Accuracy: 1028/10000 (10%)\n",
            "\n",
            "\n",
            "Training set epoch 10: Avg. loss: 0.0005, Accuracy: 9310/10000 (93%)\n",
            "\n",
            "\n",
            "Validation set: Avg. loss: 0.0046, Accuracy: 1028/10000 (10%)\n",
            "\n"
          ],
          "name": "stdout"
        },
        {
          "output_type": "stream",
          "text": [
            "100%|██████████| 10000/10000 [00:00<00:00, 76362.26it/s, loss=0.19]\n",
            "100%|██████████| 10000/10000 [00:00<00:00, 80364.97it/s, loss=0.181]\n"
          ],
          "name": "stderr"
        },
        {
          "output_type": "stream",
          "text": [
            "\n",
            "Training set epoch 11: Avg. loss: 0.0005, Accuracy: 9332/10000 (93%)\n",
            "\n",
            "\n",
            "Validation set: Avg. loss: 0.0046, Accuracy: 1028/10000 (10%)\n",
            "\n",
            "\n",
            "Training set epoch 12: Avg. loss: 0.0004, Accuracy: 9378/10000 (94%)\n",
            "\n",
            "\n",
            "Validation set: Avg. loss: 0.0046, Accuracy: 1028/10000 (10%)\n",
            "\n"
          ],
          "name": "stdout"
        },
        {
          "output_type": "stream",
          "text": [
            "100%|██████████| 10000/10000 [00:00<00:00, 79841.32it/s, loss=0.157]\n",
            "100%|██████████| 10000/10000 [00:00<00:00, 78820.74it/s, loss=0.143]\n"
          ],
          "name": "stderr"
        },
        {
          "output_type": "stream",
          "text": [
            "\n",
            "Training set epoch 13: Avg. loss: 0.0004, Accuracy: 9448/10000 (94%)\n",
            "\n",
            "\n",
            "Validation set: Avg. loss: 0.0046, Accuracy: 1368/10000 (14%)\n",
            "\n",
            "\n",
            "Training set epoch 14: Avg. loss: 0.0004, Accuracy: 9467/10000 (95%)\n",
            "\n",
            "\n",
            "Validation set: Avg. loss: 0.0046, Accuracy: 1411/10000 (14%)\n",
            "\n"
          ],
          "name": "stdout"
        },
        {
          "output_type": "stream",
          "text": [
            "100%|██████████| 10000/10000 [00:00<00:00, 77173.81it/s, loss=0.143]\n",
            "100%|██████████| 10000/10000 [00:00<00:00, 78275.16it/s, loss=0.128]\n"
          ],
          "name": "stderr"
        },
        {
          "output_type": "stream",
          "text": [
            "\n",
            "Training set epoch 15: Avg. loss: 0.0004, Accuracy: 9497/10000 (95%)\n",
            "\n",
            "\n",
            "Validation set: Avg. loss: 0.0046, Accuracy: 1028/10000 (10%)\n",
            "\n",
            "\n",
            "Training set epoch 16: Avg. loss: 0.0004, Accuracy: 9492/10000 (95%)\n",
            "\n",
            "\n",
            "Validation set: Avg. loss: 0.0046, Accuracy: 1028/10000 (10%)\n",
            "\n"
          ],
          "name": "stdout"
        },
        {
          "output_type": "stream",
          "text": [
            "100%|██████████| 10000/10000 [00:00<00:00, 79885.72it/s, loss=0.108]\n",
            "100%|██████████| 10000/10000 [00:00<00:00, 78848.16it/s, loss=0.148]\n"
          ],
          "name": "stderr"
        },
        {
          "output_type": "stream",
          "text": [
            "\n",
            "Training set epoch 17: Avg. loss: 0.0003, Accuracy: 9522/10000 (95%)\n",
            "\n",
            "\n",
            "Validation set: Avg. loss: 0.0046, Accuracy: 1131/10000 (11%)\n",
            "\n",
            "\n",
            "Training set epoch 18: Avg. loss: 0.0003, Accuracy: 9533/10000 (95%)\n",
            "\n",
            "\n",
            "Validation set: Avg. loss: 0.0046, Accuracy: 980/10000 (10%)\n",
            "\n"
          ],
          "name": "stdout"
        },
        {
          "output_type": "stream",
          "text": [
            "100%|██████████| 10000/10000 [00:00<00:00, 79642.11it/s, loss=0.122]\n"
          ],
          "name": "stderr"
        },
        {
          "output_type": "stream",
          "text": [
            "\n",
            "Training set epoch 19: Avg. loss: 0.0003, Accuracy: 9534/10000 (95%)\n",
            "\n",
            "\n",
            "Validation set: Avg. loss: 0.0046, Accuracy: 1322/10000 (13%)\n",
            "\n",
            "\n",
            "Test set: Avg. loss: 0.0046, Accuracy: 1357/10000 (14%)\n",
            "\n"
          ],
          "name": "stdout"
        }
      ]
    },
    {
      "cell_type": "code",
      "metadata": {
        "id": "RXnzUJ_eB1sP",
        "colab_type": "code",
        "colab": {}
      },
      "source": [
        "# Interestingly, test accuracy on the transformed data set slightly decreased \n",
        "# when we increased the kernel size for both layers. Perhaps when we have too \n",
        "# large, or too many layers with large filters, the original image is diluted \n",
        "# and the density of information decreases. \n",
        "# In conclusion, using the new architecture with the highest test accuracy in the \n",
        "# above experiments, the final result turned out to be 0.1447 test accuracy, \n",
        "# which is indeed a significant improvement from the previous 0.1064 test accuracy \n",
        "# using the original architecture. "
      ],
      "execution_count": 0,
      "outputs": []
    }
  ]
}